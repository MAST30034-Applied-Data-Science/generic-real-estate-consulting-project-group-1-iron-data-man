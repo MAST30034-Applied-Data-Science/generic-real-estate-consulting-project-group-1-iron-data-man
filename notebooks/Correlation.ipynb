{
 "cells": [
  {
   "cell_type": "code",
   "execution_count": null,
   "id": "9bf2ef67",
   "metadata": {},
   "outputs": [],
   "source": [
    "import os\n",
    "import time\n",
    "import numpy as np\n",
    "import pandas as pd\n",
    "import seaborn as sns\n",
    "import matplotlib.pyplot as plt\n",
    "%matplotlib inline\n",
    "pd.options.mode.chained_assignment = None  #close copy warning   \n",
    "\n",
    "from sklearn.preprocessing import MinMaxScaler\n",
    "from sklearn.feature_selection import SelectKBest, chi2, mutual_info_classif, f_regression, RFE, SelectFromModel\n",
    "from sklearn.pipeline import Pipeline\n",
    "from sklearn.model_selection import GridSearchCV, RandomizedSearchCV\n",
    "from sklearn.linear_model import LogisticRegression, LinearRegression, Ridge, Lasso\n",
    "from sklearn.linear_model import LogisticRegression\n",
    "from sklearn.ensemble import RandomForestClassifier, ExtraTreesClassifier, RandomForestRegressor\n",
    "from sklearn.tree import DecisionTreeRegressor\n",
    "from lightgbm import LGBMClassifier"
   ]
  },
  {
   "cell_type": "code",
   "execution_count": null,
   "id": "c740a016",
   "metadata": {},
   "outputs": [],
   "source": [
    "property_df = pd.read_csv(\"../data/curated/data.csv\")"
   ]
  },
  {
   "cell_type": "code",
   "execution_count": null,
   "id": "167e2d34",
   "metadata": {},
   "outputs": [],
   "source": [
    "print(list(property_df.columns))"
   ]
  },
  {
   "cell_type": "code",
   "execution_count": null,
   "id": "7f7e89fa",
   "metadata": {},
   "outputs": [],
   "source": [
    "def convert_suburb(df):\n",
    "    suburb_lis = list(df['suburb'].unique())\n",
    "    for i in range(1,len(suburb_lis)+1):\n",
    "        df['suburb'] = df['suburb'].replace(suburb_lis[i-1],i)\n",
    "    return df\n",
    "\n",
    "property_df['type'] = property_df['type'].replace('Apartment / Unit / Flat / Penhouse', 1)\n",
    "property_df['type'] = property_df['type'].replace('Studio', 2)\n",
    "property_df['type'] = property_df['type'].replace('Townhouse','House')\n",
    "property_df['type'] = property_df['type'].replace('House', 3)\n",
    "property_df = convert_suburb(property_df)\n",
    "\n",
    "property_df = property_df.drop(columns=['postcode'])\n",
    "property_df = property_df.fillna(-1)\n",
    "\n"
   ]
  },
  {
   "cell_type": "code",
   "execution_count": null,
   "id": "35f84a91",
   "metadata": {},
   "outputs": [],
   "source": [
    "property_df.isnull().value_counts()"
   ]
  },
  {
   "cell_type": "code",
   "execution_count": null,
   "id": "b654ccd1",
   "metadata": {},
   "outputs": [],
   "source": [
    "property_df.corr().abs().iloc[0].to_frame().sort_values(by=['rent_weekly'],ascending=False).head(20)"
   ]
  },
  {
   "cell_type": "code",
   "execution_count": null,
   "id": "5dd6080a",
   "metadata": {},
   "outputs": [],
   "source": [
    "internal = property_df[['address', 'rent_weekly', 'floor', 'suburb', 'type', 'furnitured', 'pool', 'gym', 'num_bed', 'num_bath', 'num_car_park']]\n",
    "external = property_df[['address', 'rent_weekly','SECONDARY SCHOOL', 'PRIMARY AND SECONDARY SCHOOL', 'PRIMARY SCHOOL', 'SHOPPING CENTRE', 'PARK', 'KINDERGARTEN', 'POST OFFICE', 'SPECIAL SCHOOL', 'CHILD CARE', 'BAR', 'SPORTS COMPLEX', 'EDUCATION COMPLEX', 'CEMETERY', 'LIBRARY', 'UNIVERSITY', 'GENERAL HOSPITAL', 'POLICE STATION', 'FURTHER EDUCATION', 'PLAYGROUND', 'PLANTATION', 'WINERY', 'FARM', 'VINEYARD', 'TENNIS COURT', 'BAY', 'PIER', 'SWIMMING POOL', 'ART GALLERY', 'HARBOUR', 'COMMUNITY HEALTH CENTRE', 'MARKET', 'PRISON', 'BOTANIC GARDENS', 'SPECIALISED HOSPITAL', 'BANK', 'AGED CARE', 'SURFING SPOT', 'COAST', 'GOLF COURSE', 'HELIPORT', 'AIRPORT', 'IRON ORE PROCESSOR', 'MILL/TIMBER OPERATIONS', 'BEACH', 'TRAIN STATION', 'TRAM STATION', 'BUS']]\n",
    "dimension = property_df[['address', 'rent_weekly','Education', 'Commercial', 'Environment', 'Medication', 'Secrity', 'Industrial', 'Prison', 'Transportation']]"
   ]
  },
  {
   "cell_type": "code",
   "execution_count": null,
   "id": "f2fd7519",
   "metadata": {},
   "outputs": [],
   "source": [
    "internal.corr().abs().iloc[0].to_frame().sort_values(by=['rent_weekly'],ascending=False)"
   ]
  },
  {
   "cell_type": "code",
   "execution_count": null,
   "id": "e1c757cc",
   "metadata": {},
   "outputs": [],
   "source": [
    "internal[internal['type'] == 1].corr().abs().iloc[0].to_frame().sort_values(by=['rent_weekly'],ascending=False)"
   ]
  },
  {
   "cell_type": "code",
   "execution_count": null,
   "id": "7c504f05",
   "metadata": {},
   "outputs": [],
   "source": [
    "internal[internal['type'] == 3].corr().abs().iloc[0].to_frame().sort_values(by=['rent_weekly'],ascending=False)"
   ]
  },
  {
   "cell_type": "code",
   "execution_count": null,
   "id": "84493ac7",
   "metadata": {},
   "outputs": [],
   "source": [
    "external.corr().abs().iloc[0].to_frame().sort_values(by=['rent_weekly'],ascending=False).head(15)"
   ]
  },
  {
   "cell_type": "code",
   "execution_count": null,
   "id": "92d1ba14",
   "metadata": {},
   "outputs": [],
   "source": [
    "dimension.corr().abs().iloc[0].to_frame().sort_values(by=['rent_weekly'],ascending=False).head(15)"
   ]
  },
  {
   "cell_type": "code",
   "execution_count": null,
   "id": "ba42e2bd",
   "metadata": {},
   "outputs": [],
   "source": [
    "col_lis = ['floor', 'suburb', 'type', 'furnitured', 'pool', 'gym', 'num_bed', 'num_bath', 'num_car_park', 'SECONDARY SCHOOL', 'PRIMARY AND SECONDARY SCHOOL', 'PRIMARY SCHOOL', 'SHOPPING CENTRE', 'PARK', 'KINDERGARTEN', 'POST OFFICE', 'SPECIAL SCHOOL', 'CHILD CARE', 'BAR', 'SPORTS COMPLEX', 'EDUCATION COMPLEX', 'CEMETERY', 'LIBRARY', 'UNIVERSITY', 'GENERAL HOSPITAL', 'POLICE STATION', 'FURTHER EDUCATION', 'PLAYGROUND', 'PLANTATION', 'WINERY', 'FARM', 'VINEYARD', 'TENNIS COURT', 'BAY', 'PIER', 'SWIMMING POOL', 'ART GALLERY', 'HARBOUR', 'COMMUNITY HEALTH CENTRE', 'MARKET', 'PRISON', 'BOTANIC GARDENS', 'SPECIALISED HOSPITAL', 'BANK', 'AGED CARE', 'SURFING SPOT', 'COAST', 'GOLF COURSE', 'HELIPORT', 'AIRPORT', 'IRON ORE PROCESSOR', 'MILL/TIMBER OPERATIONS', 'BEACH', 'TRAIN STATION', 'TRAM STATION', 'BUS', 'Education', 'Commercial', 'Environment', 'Medication', 'Secrity', 'Industrial', 'Transportation', 'cloest_SECONDARY SCHOOL', 'cloest_PRIMARY AND SECONDARY SCHOOL', 'cloest_PRIMARY SCHOOL', 'cloest_SHOPPING CENTRE', 'cloest_PARK', 'cloest_KINDERGARTEN', 'cloest_POST OFFICE', 'cloest_SPECIAL SCHOOL', 'cloest_CHILD CARE', 'cloest_BAR', 'cloest_SPORTS COMPLEX', 'cloest_EDUCATION COMPLEX', 'cloest_CEMETERY', 'cloest_LIBRARY', 'cloest_UNIVERSITY', 'cloest_GENERAL HOSPITAL', 'cloest_POLICE STATION', 'cloest_FURTHER EDUCATION', 'cloest_PLAYGROUND', 'cloest_PLANTATION', 'cloest_WINERY', 'cloest_FARM', 'cloest_VINEYARD', 'cloest_TENNIS COURT', 'cloest_BAY', 'cloest_PIER', 'cloest_SWIMMING POOL', 'cloest_ART GALLERY', 'cloest_HARBOUR', 'cloest_COMMUNITY HEALTH CENTRE', 'cloest_MATERNAL AND CHILD HEALTH CENTRE', 'cloest_MARKET', 'cloest_PRISON', 'cloest_BOTANIC GARDENS', 'cloest_SPECIALISED HOSPITAL', 'cloest_BANK', 'cloest_AGED CARE', 'cloest_SURFING SPOT', 'cloest_COAST', 'cloest_GOLF COURSE', 'cloest_HELIPORT', 'cloest_AIRPORT', 'cloest_IRON ORE PROCESSOR', 'cloest_MILL/TIMBER OPERATIONS', 'cloest_BEACH', 'cloest_TRAM STATION', 'cloest_BUS', 'cloest_TRAIN_STATION_duration', 'cloest_TRAIN_STATION_distance']\n",
    "X = property_df[col_lis].copy()\n",
    "y = property_df['rent_weekly']\n",
    "X_norm = MinMaxScaler().fit_transform(X)"
   ]
  },
  {
   "cell_type": "code",
   "execution_count": null,
   "id": "323d60cc",
   "metadata": {},
   "outputs": [],
   "source": [
    "mi_selector = SelectKBest(mutual_info_classif, k=15)\n",
    "mi_selector.fit(X, y)\n",
    "mi_scores = mi_selector.scores_\n",
    "mi_support = mi_selector.get_support()\n",
    "mi_feature = X.loc[:,mi_support].columns.tolist()\n",
    "idx = [x for x in range(len(mi_support)) if mi_support[x]]\n",
    "score = {}\n",
    "for i in idx:\n",
    "    score[col_lis[i]] = mi_scores[i]\n",
    "pd.DataFrame.from_dict({'features':score.keys(), 'mi_value':score.values()}).sort_values(by=['mi_value'], ascending=False)"
   ]
  },
  {
   "cell_type": "code",
   "execution_count": null,
   "id": "bd01f161",
   "metadata": {},
   "outputs": [],
   "source": [
    "chi_selector = SelectKBest(chi2, k=15)\n",
    "chi_selector.fit(X_norm, y)\n",
    "chi_scores = chi_selector.scores_\n",
    "chi_pvalues = chi_selector.pvalues_\n",
    "chi_support = chi_selector.get_support()\n",
    "chi_feature = X.loc[:,chi_support].columns.tolist()\n",
    "idx = [x for x in range(len(chi_support)) if chi_support[x]]\n",
    "score = {}\n",
    "for i in idx:\n",
    "    score[col_lis[i]] = chi_scores[i]\n",
    "print(score)\n",
    "\n",
    "pvalue = {}\n",
    "for i in idx:\n",
    "    pvalue[col_lis[i]] = chi_pvalues[i]\n",
    "print(pvalue)\n",
    "\n",
    "pd.DataFrame.from_dict({'features':score.keys(), 'chi2_value':score.values()}).sort_values(by=['chi2_value'], ascending=False)"
   ]
  },
  {
   "cell_type": "code",
   "execution_count": null,
   "id": "53d09f52",
   "metadata": {},
   "outputs": [],
   "source": [
    "def cor_selector(X, y,num_feats):\n",
    "    cor_list = []\n",
    "    feature_name = X.columns.tolist()\n",
    "    # calculate the correlation with y for each feature\n",
    "    for i in X.columns.tolist():\n",
    "        cor = np.corrcoef(X[i], y)[0, 1]\n",
    "        cor_list.append(cor)\n",
    "    # replace NaN with 0\n",
    "    cor_list = [0 if np.isnan(i) else i for i in cor_list]\n",
    "    # feature name\n",
    "    cor_feature = X.iloc[:,np.argsort(np.abs(cor_list))[-num_feats:]].columns.tolist()\n",
    "    # feature selection? 0 for not select, 1 for select\n",
    "    cor_support = [True if i in cor_feature else False for i in feature_name]\n",
    "    return cor_support, cor_feature\n",
    "\n",
    "cor_support, cor_feature = cor_selector(X, y,15)\n",
    "print(str(len(cor_feature)), 'selected features')"
   ]
  },
  {
   "cell_type": "code",
   "execution_count": null,
   "id": "c9a5e259",
   "metadata": {},
   "outputs": [],
   "source": [
    "rfe_selector = RFE(estimator=LogisticRegression(max_iter=10000), n_features_to_select=15, step=10, verbose=5)\n",
    "rfe_selector.fit(X_norm, y)\n",
    "rfe_support = rfe_selector.get_support()\n",
    "rfe_feature = X.loc[:,rfe_support].columns.tolist()\n",
    "rfe_feature"
   ]
  },
  {
   "cell_type": "code",
   "execution_count": null,
   "id": "0671b3cd",
   "metadata": {},
   "outputs": [],
   "source": [
    "embeded_lr_selector = SelectFromModel(LogisticRegression(solver='liblinear',penalty=\"l1\",max_iter=10000), max_features=15)\n",
    "embeded_lr_selector.fit(X_norm, y)\n",
    "\n",
    "embeded_lr_support = embeded_lr_selector.get_support()\n",
    "embeded_lr_feature = X.loc[:,embeded_lr_support].columns.tolist()\n",
    "\n",
    "embeded_lr_feature"
   ]
  },
  {
   "cell_type": "code",
   "execution_count": null,
   "id": "e51c9876",
   "metadata": {},
   "outputs": [],
   "source": [
    "embeded_rf_selector = SelectFromModel(RandomForestRegressor(n_estimators = 10000, max_features = 'sqrt', max_depth = 50, random_state = 50), max_features=15)\n",
    "embeded_rf_selector.fit(X, y)\n",
    "\n",
    "embeded_rf_support = embeded_rf_selector.get_support()\n",
    "embeded_rf_feature = X.loc[:,embeded_rf_support].columns.tolist()\n",
    "embeded_rf_feature\n"
   ]
  },
  {
   "cell_type": "code",
   "execution_count": null,
   "id": "30c19bd8",
   "metadata": {},
   "outputs": [],
   "source": [
    "from sklearn.feature_selection import SelectFromModel\n",
    "from lightgbm import LGBMClassifier\n",
    "\n",
    "lgbc=LGBMClassifier(n_estimators=500, learning_rate=0.05, num_leaves=32, colsample_bytree=0.2,\n",
    "            reg_alpha=3, reg_lambda=1, min_split_gain=0.01, min_child_weight=40)\n",
    "\n",
    "embeded_lgb_selector = SelectFromModel(lgbc, max_features=len(col_lis))\n",
    "embeded_lgb_selector.fit(X, y)\n",
    "\n",
    "embeded_lgb_support = embeded_lgb_selector.get_support()\n",
    "embeded_lgb_feature = X.loc[:,embeded_lgb_support].columns.tolist()\n",
    "embeded_lgb_feature"
   ]
  },
  {
   "cell_type": "code",
   "execution_count": null,
   "id": "0d087365",
   "metadata": {},
   "outputs": [],
   "source": [
    "# put all selection together\n",
    "feature_selection_df = pd.DataFrame({'Feature':X.columns.to_list(), 'Pearson':cor_support, 'Chi-2':chi_support, 'RFE':rfe_support, 'Logistics':embeded_lr_support,\n",
    "                                    'Random Forest':embeded_rf_support, 'LightGBM':embeded_lgb_support, 'MI':mi_support})\n",
    "# count the selected times for each feature\n",
    "feature_selection_df['Total'] = np.sum(feature_selection_df, axis=1)\n",
    "# display the top 100\n",
    "feature_selection_df = feature_selection_df.sort_values(['Total','Feature'] , ascending=False)\n",
    "feature_selection_df.index = range(1, len(feature_selection_df)+1)"
   ]
  },
  {
   "cell_type": "code",
   "execution_count": null,
   "id": "f1b5c7a4",
   "metadata": {},
   "outputs": [],
   "source": [
    "model = ExtraTreesClassifier()\n",
    "model.fit(X,y)\n",
    "#print(model.feature_importances_) #use inbuilt class feature_importances of tree based classifiers\n",
    "#plot graph of feature importances for better visualization\n",
    "feat_importances = pd.Series(model.feature_importances_, index=X.columns)\n",
    "feat_importances.nlargest(10).plot(kind='barh')\n",
    "plt.show()"
   ]
  },
  {
   "cell_type": "code",
   "execution_count": null,
   "id": "3d1dd358",
   "metadata": {},
   "outputs": [],
   "source": [
    "rf = RandomForestRegressor(n_estimators = 10000, max_features = 'sqrt', max_depth = 50, random_state = 50)\n",
    "rf.fit(X, y)\n",
    "\n",
    "rf_feat_importances = pd.Series(rf.feature_importances_, index=X.columns)\n",
    "rf_feat_importances.nlargest(10).plot(kind='barh',color=['tomato', 'peru', 'yellow', 'olive', 'lime', 'aquamarine', 'darkslategray',\n",
    "                            'mediumblue', 'violet', 'purple'])\n",
    "plt.show()"
   ]
  },
  {
   "cell_type": "code",
   "execution_count": null,
   "id": "5a3e903e",
   "metadata": {},
   "outputs": [],
   "source": [
    "lgb_selector = LGBMClassifier(n_estimators=500, learning_rate=0.05, num_leaves=32, colsample_bytree=0.2,\n",
    "                              reg_alpha=3, reg_lambda=1, min_split_gain=0.01, min_child_weight=40)\n",
    "lgb_selector.fit(X, y)\n",
    "lgb_feat_importances = pd.Series(lgb_selector.feature_importances_, index=X.columns)\n",
    "lgb_feat_importances.nlargest(10).plot(kind='barh',color=['tomato', 'peru', 'yellow', 'olive', 'lime', 'aquamarine', 'darkslategray',\n",
    "                            'mediumblue', 'violet', 'purple'])\n",
    "plt.show()"
   ]
  },
  {
   "cell_type": "code",
   "execution_count": null,
   "id": "048831c3",
   "metadata": {},
   "outputs": [],
   "source": [
    "dt=DecisionTreeRegressor(max_depth=100)\n",
    "dt.fit(X.reshape(-1,1),y)\n",
    "\n",
    "dt_feat_importances = pd.Series(dt.feature_importances_, index=X.columns)\n",
    "dt_feat_importances.nlargest(10).plot(kind='barh',color=['tomato', 'peru', 'yellow', 'olive', 'lime', 'aquamarine', 'darkslategray',\n",
    "                            'mediumblue', 'violet', 'purple'])\n",
    "plt.show()"
   ]
  },
  {
   "cell_type": "code",
   "execution_count": null,
   "id": "50277b0d",
   "metadata": {},
   "outputs": [],
   "source": [
    "X = property_df[property_df['type'] == 1].copy()\n",
    "X = property_df[col_lis]\n",
    "y = property_df['rent_weekly']\n",
    "X_norm = MinMaxScaler().fit_transform(X)\n",
    "chi_selector = SelectKBest(chi2, k=15)\n",
    "chi_selector.fit(X_norm, y)\n",
    "chi_scores = chi_selector.scores_\n",
    "chi_pvalues = chi_selector.pvalues_\n",
    "chi_support = chi_selector.get_support()\n",
    "chi_feature = X.loc[:,chi_support].columns.tolist()\n",
    "idx = [x for x in range(len(chi_support)) if chi_support[x]]\n",
    "score = {}\n",
    "for i in idx:\n",
    "    score[col_lis[i]] = chi_scores[i]\n",
    "print(score)\n",
    "\n",
    "pvalue = {}\n",
    "for i in idx:\n",
    "    pvalue[col_lis[i]] = chi_pvalues[i]\n",
    "print(pvalue)\n",
    "\n",
    "pd.DataFrame.from_dict({'features':score.keys(), 'chi2_value':score.values()}).sort_values(by=['flat_chi2_value'], ascending=False)"
   ]
  },
  {
   "cell_type": "code",
   "execution_count": null,
   "id": "e8ef3a81",
   "metadata": {},
   "outputs": [],
   "source": [
    "X = property_df[property_df['type'] == 3].copy()\n",
    "X = property_df[col_lis]\n",
    "y = property_df['rent_weekly']\n",
    "X_norm = MinMaxScaler().fit_transform(X)\n",
    "chi_selector = SelectKBest(chi2, k=15)\n",
    "chi_selector.fit(X_norm, y)\n",
    "chi_scores = chi_selector.scores_\n",
    "chi_pvalues = chi_selector.pvalues_\n",
    "chi_support = chi_selector.get_support()\n",
    "chi_feature = X.loc[:,chi_support].columns.tolist()\n",
    "idx = [x for x in range(len(chi_support)) if chi_support[x]]\n",
    "score = {}\n",
    "for i in idx:\n",
    "    score[col_lis[i]] = chi_scores[i]\n",
    "print(score)\n",
    "\n",
    "pvalue = {}\n",
    "for i in idx:\n",
    "    pvalue[col_lis[i]] = chi_pvalues[i]\n",
    "print(pvalue)\n",
    "\n",
    "pd.DataFrame.from_dict({'features':score.keys(), 'chi2_value':score.values()}).sort_values(by=['house_chi2_value'], ascending=False)"
   ]
  }
 ],
 "metadata": {
  "kernelspec": {
   "display_name": "Python [conda env:ads_env] *",
   "language": "python",
   "name": "conda-env-ads_env-py"
  },
  "language_info": {
   "codemirror_mode": {
    "name": "ipython",
    "version": 3
   },
   "file_extension": ".py",
   "mimetype": "text/x-python",
   "name": "python",
   "nbconvert_exporter": "python",
   "pygments_lexer": "ipython3",
   "version": "3.8.10"
  }
 },
 "nbformat": 4,
 "nbformat_minor": 5
}
