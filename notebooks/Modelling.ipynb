{
 "cells": [
  {
   "cell_type": "code",
   "execution_count": 1,
   "id": "2253b9f3",
   "metadata": {},
   "outputs": [],
   "source": [
    "import os\n",
    "import time\n",
    "import scipy as sp\n",
    "import numpy as np\n",
    "import pandas as pd\n",
    "import seaborn as sns\n",
    "import matplotlib.pyplot as plt\n",
    "from pandas.plotting import lag_plot\n",
    "import json\n",
    "from statsmodels.formula.api import ols\n",
    "%matplotlib inline\n",
    "import tushare as ts\n",
    "from turtle import color\n",
    "import statsmodels.api as sm\n",
    "\n",
    "from sklearn.model_selection import train_test_split\n",
    "from sklearn.feature_selection import SelectKBest, chi2, mutual_info_regression, f_regression\n",
    "from sklearn.naive_bayes import MultinomialNB\n",
    "from sklearn.svm import SVC, LinearSVR,SVR\n",
    "from sklearn.linear_model import LogisticRegression, LinearRegression, Ridge, Lasso\n",
    "from sklearn.dummy import DummyClassifier\n",
    "from sklearn.ensemble import RandomForestClassifier\n",
    "from sklearn.pipeline import Pipeline\n",
    "from sklearn.svm import SVR\n",
    "from sklearn.pipeline import make_pipeline\n",
    "from sklearn.preprocessing import StandardScaler\n",
    "from sklearn.model_selection import GridSearchCV, RandomizedSearchCV\n",
    "\n",
    "from sklearn.metrics import plot_confusion_matrix\n",
    "from sklearn.metrics import accuracy_score\n",
    "from sklearn.metrics import precision_score\n",
    "from sklearn.metrics import recall_score\n",
    "from sklearn.metrics import f1_score\n",
    "from sklearn.metrics import mean_squared_error\n",
    "\n",
    "from scipy.spatial.distance import pdist, squareform"
   ]
  },
  {
   "cell_type": "markdown",
   "id": "37b4461a",
   "metadata": {},
   "source": [
    "### Define function"
   ]
  },
  {
   "cell_type": "code",
   "execution_count": 2,
   "id": "45f69825",
   "metadata": {},
   "outputs": [],
   "source": [
    "def entropy(probs):\n",
    "    \n",
    "    return -probs.dot(np.log2(probs))\n",
    "\n",
    "\n",
    "def mutual_info(df):\n",
    "    \n",
    "    Hx = entropy(df.iloc[:,0].value_counts(normalize=True, sort=False))\n",
    "    Hy = entropy(df.iloc[:,1].value_counts(normalize=True, sort=False))\n",
    "    \n",
    "    counts = df.groupby(list(df.columns.values)).size()\n",
    "    probs = counts/ counts.values.sum()\n",
    "    H_xy = entropy(probs)\n",
    "\n",
    "    # Mutual Information\n",
    "    I_xy = Hx + Hy - H_xy\n",
    "    MI = I_xy\n",
    "    NMI = I_xy/min(Hx,Hy) #I_xy/np.sqrt(H_x*H_y)\n",
    "    \n",
    "    return {'H_'+list(df)[0]:Hx,'H_'+list(df)[1]:Hy,'MI':MI,'NMI':NMI} "
   ]
  },
  {
   "cell_type": "markdown",
   "id": "da28b306",
   "metadata": {},
   "source": [
    "### Extract features for rental median"
   ]
  },
  {
   "cell_type": "code",
   "execution_count": 3,
   "id": "2ff48558",
   "metadata": {},
   "outputs": [],
   "source": [
    "# read rental data\n",
    "path = os.getcwd().replace(\"notebooks\",\"\") + \"data/curated/\"\n",
    "df = pd.read_csv(path+'rental_median.csv', low_memory = True)\n",
    "df = df.drop_duplicates(keep='first')\n",
    "df = df[['suburb','Rental_total_Mar_2000_1b_flat', 'Rental_total_Jun_2000_1b_flat', 'Rental_total_Sep_2000_1b_flat', 'Rental_total_Dec_2000_1b_flat', 'Rental_total_Mar_2001_1b_flat', 'Rental_total_Jun_2001_1b_flat', 'Rental_total_Sep_2001_1b_flat', 'Rental_total_Dec_2001_1b_flat', 'Rental_total_Mar_2002_1b_flat', 'Rental_total_Jun_2002_1b_flat', 'Rental_total_Sep_2002_1b_flat', 'Rental_total_Dec_2002_1b_flat', 'Rental_total_Mar_2003_1b_flat', 'Rental_total_Jun_2003_1b_flat', 'Rental_total_Sep_2003_1b_flat', 'Rental_total_Dec_2003_1b_flat', 'Rental_total_Mar_2004_1b_flat', 'Rental_total_Jun_2004_1b_flat', 'Rental_total_Sep_2004_1b_flat', 'Rental_total_Dec_2004_1b_flat', 'Rental_total_Mar_2005_1b_flat', 'Rental_total_Jun_2005_1b_flat', 'Rental_total_Sep_2005_1b_flat', 'Rental_total_Dec_2005_1b_flat', 'Rental_total_Mar_2006_1b_flat', 'Rental_total_Jun_2006_1b_flat', 'Rental_total_Sep_2006_1b_flat', 'Rental_total_Dec_2006_1b_flat', 'Rental_total_Mar_2007_1b_flat', 'Rental_total_Jun_2007_1b_flat', 'Rental_total_Sep_2007_1b_flat', 'Rental_total_Dec_2007_1b_flat', 'Rental_total_Mar_2008_1b_flat', 'Rental_total_Jun_2008_1b_flat', 'Rental_total_Sep_2008_1b_flat', 'Rental_total_Dec_2008_1b_flat', 'Rental_total_Mar_2009_1b_flat', 'Rental_total_Jun_2009_1b_flat', 'Rental_total_Sep_2009_1b_flat', 'Rental_total_Dec_2009_1b_flat', 'Rental_total_Mar_2010_1b_flat', 'Rental_total_Jun_2010_1b_flat', 'Rental_total_Sep_2010_1b_flat', 'Rental_total_Dec_2010_1b_flat', 'Rental_total_Mar_2011_1b_flat', 'Rental_total_Jun_2011_1b_flat', 'Rental_total_Sep_2011_1b_flat', 'Rental_total_Dec_2011_1b_flat', 'Rental_total_Mar_2012_1b_flat', 'Rental_total_Jun_2012_1b_flat', 'Rental_total_Sep_2012_1b_flat', 'Rental_total_Dec_2012_1b_flat', 'Rental_total_Mar_2013_1b_flat', 'Rental_total_Jun_2013_1b_flat', 'Rental_total_Sep_2013_1b_flat', 'Rental_total_Dec_2013_1b_flat', 'Rental_total_Mar_2014_1b_flat', 'Rental_total_Jun_2014_1b_flat', 'Rental_total_Sep_2014_1b_flat', 'Rental_total_Dec_2014_1b_flat', 'Rental_total_Mar_2015_1b_flat', 'Rental_total_Jun_2015_1b_flat', 'Rental_total_Sep_2015_1b_flat', 'Rental_total_Dec_2015_1b_flat', 'Rental_total_Mar_2016_1b_flat', 'Rental_total_Jun_2016_1b_flat', 'Rental_total_Sep_2016_1b_flat', 'Rental_total_Dec_2016_1b_flat', 'Rental_total_Mar_2017_1b_flat', 'Rental_total_Jun_2017_1b_flat', 'Rental_total_Sep_2017_1b_flat', 'Rental_total_Dec_2017_1b_flat', 'Rental_total_Mar_2018_1b_flat', 'Rental_total_Jun_2018_1b_flat', 'Rental_total_Sep_2018_1b_flat', 'Rental_total_Dec_2018_1b_flat', 'Rental_total_Mar_2019_1b_flat', 'Rental_total_Jun_2019_1b_flat', 'Rental_total_Sep_2019_1b_flat', 'Rental_total_Dec_2019_1b_flat', 'Rental_total_Mar_2020_1b_flat', 'Rental_total_Jun_2020_1b_flat', 'Rental_total_Sep_2020_1b_flat', 'Rental_total_Dec_2020_1b_flat', 'Rental_total_Mar_2021_1b_flat', 'Rental_total_Jun_2021_1b_flat', 'Rental_total_Mar_2000_2b_flat', 'Rental_total_Jun_2000_2b_flat', 'Rental_total_Sep_2000_2b_flat', 'Rental_total_Dec_2000_2b_flat', 'Rental_total_Mar_2001_2b_flat', 'Rental_total_Jun_2001_2b_flat', 'Rental_total_Sep_2001_2b_flat', 'Rental_total_Dec_2001_2b_flat', 'Rental_total_Mar_2002_2b_flat', 'Rental_total_Jun_2002_2b_flat', 'Rental_total_Sep_2002_2b_flat', 'Rental_total_Dec_2002_2b_flat', 'Rental_total_Mar_2003_2b_flat', 'Rental_total_Jun_2003_2b_flat', 'Rental_total_Sep_2003_2b_flat', 'Rental_total_Dec_2003_2b_flat', 'Rental_total_Mar_2004_2b_flat', 'Rental_total_Jun_2004_2b_flat', 'Rental_total_Sep_2004_2b_flat', 'Rental_total_Dec_2004_2b_flat', 'Rental_total_Mar_2005_2b_flat', 'Rental_total_Jun_2005_2b_flat', 'Rental_total_Sep_2005_2b_flat', 'Rental_total_Dec_2005_2b_flat', 'Rental_total_Mar_2006_2b_flat', 'Rental_total_Jun_2006_2b_flat', 'Rental_total_Sep_2006_2b_flat', 'Rental_total_Dec_2006_2b_flat', 'Rental_total_Mar_2007_2b_flat', 'Rental_total_Jun_2007_2b_flat', 'Rental_total_Sep_2007_2b_flat', 'Rental_total_Dec_2007_2b_flat', 'Rental_total_Mar_2008_2b_flat', 'Rental_total_Jun_2008_2b_flat', 'Rental_total_Sep_2008_2b_flat', 'Rental_total_Dec_2008_2b_flat', 'Rental_total_Mar_2009_2b_flat', 'Rental_total_Jun_2009_2b_flat', 'Rental_total_Sep_2009_2b_flat', 'Rental_total_Dec_2009_2b_flat', 'Rental_total_Mar_2010_2b_flat', 'Rental_total_Jun_2010_2b_flat', 'Rental_total_Sep_2010_2b_flat', 'Rental_total_Dec_2010_2b_flat', 'Rental_total_Mar_2011_2b_flat', 'Rental_total_Jun_2011_2b_flat', 'Rental_total_Sep_2011_2b_flat', 'Rental_total_Dec_2011_2b_flat', 'Rental_total_Mar_2012_2b_flat', 'Rental_total_Jun_2012_2b_flat', 'Rental_total_Sep_2012_2b_flat', 'Rental_total_Dec_2012_2b_flat', 'Rental_total_Mar_2013_2b_flat', 'Rental_total_Jun_2013_2b_flat', 'Rental_total_Sep_2013_2b_flat', 'Rental_total_Dec_2013_2b_flat', 'Rental_total_Mar_2014_2b_flat', 'Rental_total_Jun_2014_2b_flat', 'Rental_total_Sep_2014_2b_flat', 'Rental_total_Dec_2014_2b_flat', 'Rental_total_Mar_2015_2b_flat', 'Rental_total_Jun_2015_2b_flat', 'Rental_total_Sep_2015_2b_flat', 'Rental_total_Dec_2015_2b_flat', 'Rental_total_Mar_2016_2b_flat', 'Rental_total_Jun_2016_2b_flat', 'Rental_total_Sep_2016_2b_flat', 'Rental_total_Dec_2016_2b_flat', 'Rental_total_Mar_2017_2b_flat', 'Rental_total_Jun_2017_2b_flat', 'Rental_total_Sep_2017_2b_flat', 'Rental_total_Dec_2017_2b_flat', 'Rental_total_Mar_2018_2b_flat', 'Rental_total_Jun_2018_2b_flat', 'Rental_total_Sep_2018_2b_flat', 'Rental_total_Dec_2018_2b_flat', 'Rental_total_Mar_2019_2b_flat', 'Rental_total_Jun_2019_2b_flat', 'Rental_total_Sep_2019_2b_flat', 'Rental_total_Dec_2019_2b_flat', 'Rental_total_Mar_2020_2b_flat', 'Rental_total_Jun_2020_2b_flat', 'Rental_total_Sep_2020_2b_flat', 'Rental_total_Dec_2020_2b_flat', 'Rental_total_Mar_2021_2b_flat', 'Rental_total_Jun_2021_2b_flat', 'Rental_total_Mar_2000_3b_flat', 'Rental_total_Jun_2000_3b_flat', 'Rental_total_Sep_2000_3b_flat', 'Rental_total_Dec_2000_3b_flat', 'Rental_total_Mar_2001_3b_flat', 'Rental_total_Jun_2001_3b_flat', 'Rental_total_Sep_2001_3b_flat', 'Rental_total_Dec_2001_3b_flat', 'Rental_total_Mar_2002_3b_flat', 'Rental_total_Jun_2002_3b_flat', 'Rental_total_Sep_2002_3b_flat', 'Rental_total_Dec_2002_3b_flat', 'Rental_total_Mar_2003_3b_flat', 'Rental_total_Jun_2003_3b_flat', 'Rental_total_Sep_2003_3b_flat', 'Rental_total_Dec_2003_3b_flat', 'Rental_total_Mar_2004_3b_flat', 'Rental_total_Jun_2004_3b_flat', 'Rental_total_Sep_2004_3b_flat', 'Rental_total_Dec_2004_3b_flat', 'Rental_total_Mar_2005_3b_flat', 'Rental_total_Jun_2005_3b_flat', 'Rental_total_Sep_2005_3b_flat', 'Rental_total_Dec_2005_3b_flat', 'Rental_total_Mar_2006_3b_flat', 'Rental_total_Jun_2006_3b_flat', 'Rental_total_Sep_2006_3b_flat', 'Rental_total_Dec_2006_3b_flat', 'Rental_total_Mar_2007_3b_flat', 'Rental_total_Jun_2007_3b_flat', 'Rental_total_Sep_2007_3b_flat', 'Rental_total_Dec_2007_3b_flat', 'Rental_total_Mar_2008_3b_flat', 'Rental_total_Jun_2008_3b_flat', 'Rental_total_Sep_2008_3b_flat', 'Rental_total_Dec_2008_3b_flat', 'Rental_total_Mar_2009_3b_flat', 'Rental_total_Jun_2009_3b_flat', 'Rental_total_Sep_2009_3b_flat', 'Rental_total_Dec_2009_3b_flat', 'Rental_total_Mar_2010_3b_flat', 'Rental_total_Jun_2010_3b_flat', 'Rental_total_Sep_2010_3b_flat', 'Rental_total_Dec_2010_3b_flat', 'Rental_total_Mar_2011_3b_flat', 'Rental_total_Jun_2011_3b_flat', 'Rental_total_Sep_2011_3b_flat', 'Rental_total_Dec_2011_3b_flat', 'Rental_total_Mar_2012_3b_flat', 'Rental_total_Jun_2012_3b_flat', 'Rental_total_Sep_2012_3b_flat', 'Rental_total_Dec_2012_3b_flat', 'Rental_total_Mar_2013_3b_flat', 'Rental_total_Jun_2013_3b_flat', 'Rental_total_Sep_2013_3b_flat', 'Rental_total_Dec_2013_3b_flat', 'Rental_total_Mar_2014_3b_flat', 'Rental_total_Jun_2014_3b_flat', 'Rental_total_Sep_2014_3b_flat', 'Rental_total_Dec_2014_3b_flat', 'Rental_total_Mar_2015_3b_flat', 'Rental_total_Jun_2015_3b_flat', 'Rental_total_Sep_2015_3b_flat', 'Rental_total_Dec_2015_3b_flat', 'Rental_total_Mar_2016_3b_flat', 'Rental_total_Jun_2016_3b_flat', 'Rental_total_Sep_2016_3b_flat', 'Rental_total_Dec_2016_3b_flat', 'Rental_total_Mar_2017_3b_flat', 'Rental_total_Jun_2017_3b_flat', 'Rental_total_Sep_2017_3b_flat', 'Rental_total_Dec_2017_3b_flat', 'Rental_total_Mar_2018_3b_flat', 'Rental_total_Jun_2018_3b_flat', 'Rental_total_Sep_2018_3b_flat', 'Rental_total_Dec_2018_3b_flat', 'Rental_total_Mar_2019_3b_flat', 'Rental_total_Jun_2019_3b_flat', 'Rental_total_Sep_2019_3b_flat', 'Rental_total_Dec_2019_3b_flat', 'Rental_total_Mar_2020_3b_flat', 'Rental_total_Jun_2020_3b_flat', 'Rental_total_Sep_2020_3b_flat', 'Rental_total_Dec_2020_3b_flat', 'Rental_total_Mar_2021_3b_flat', 'Rental_total_Jun_2021_3b_flat', 'Rental_total_Mar_2000_2b_house', 'Rental_total_Jun_2000_2b_house', 'Rental_total_Sep_2000_2b_house', 'Rental_total_Dec_2000_2b_house', 'Rental_total_Mar_2001_2b_house', 'Rental_total_Jun_2001_2b_house', 'Rental_total_Sep_2001_2b_house', 'Rental_total_Dec_2001_2b_house', 'Rental_total_Mar_2002_2b_house', 'Rental_total_Jun_2002_2b_house', 'Rental_total_Sep_2002_2b_house', 'Rental_total_Dec_2002_2b_house', 'Rental_total_Mar_2003_2b_house', 'Rental_total_Jun_2003_2b_house', 'Rental_total_Sep_2003_2b_house', 'Rental_total_Dec_2003_2b_house', 'Rental_total_Mar_2004_2b_house', 'Rental_total_Jun_2004_2b_house', 'Rental_total_Sep_2004_2b_house', 'Rental_total_Dec_2004_2b_house', 'Rental_total_Mar_2005_2b_house', 'Rental_total_Jun_2005_2b_house', 'Rental_total_Sep_2005_2b_house', 'Rental_total_Dec_2005_2b_house', 'Rental_total_Mar_2006_2b_house', 'Rental_total_Jun_2006_2b_house', 'Rental_total_Sep_2006_2b_house', 'Rental_total_Dec_2006_2b_house', 'Rental_total_Mar_2007_2b_house', 'Rental_total_Jun_2007_2b_house', 'Rental_total_Sep_2007_2b_house', 'Rental_total_Dec_2007_2b_house', 'Rental_total_Mar_2008_2b_house', 'Rental_total_Jun_2008_2b_house', 'Rental_total_Sep_2008_2b_house', 'Rental_total_Dec_2008_2b_house', 'Rental_total_Mar_2009_2b_house', 'Rental_total_Jun_2009_2b_house', 'Rental_total_Sep_2009_2b_house', 'Rental_total_Dec_2009_2b_house', 'Rental_total_Mar_2010_2b_house', 'Rental_total_Jun_2010_2b_house', 'Rental_total_Sep_2010_2b_house', 'Rental_total_Dec_2010_2b_house', 'Rental_total_Mar_2011_2b_house', 'Rental_total_Jun_2011_2b_house', 'Rental_total_Sep_2011_2b_house', 'Rental_total_Dec_2011_2b_house', 'Rental_total_Mar_2012_2b_house', 'Rental_total_Jun_2012_2b_house', 'Rental_total_Sep_2012_2b_house', 'Rental_total_Dec_2012_2b_house', 'Rental_total_Mar_2013_2b_house', 'Rental_total_Jun_2013_2b_house', 'Rental_total_Sep_2013_2b_house', 'Rental_total_Dec_2013_2b_house', 'Rental_total_Mar_2014_2b_house', 'Rental_total_Jun_2014_2b_house', 'Rental_total_Sep_2014_2b_house', 'Rental_total_Dec_2014_2b_house', 'Rental_total_Mar_2015_2b_house', 'Rental_total_Jun_2015_2b_house', 'Rental_total_Sep_2015_2b_house', 'Rental_total_Dec_2015_2b_house', 'Rental_total_Mar_2016_2b_house', 'Rental_total_Jun_2016_2b_house', 'Rental_total_Sep_2016_2b_house', 'Rental_total_Dec_2016_2b_house', 'Rental_total_Mar_2017_2b_house', 'Rental_total_Jun_2017_2b_house', 'Rental_total_Sep_2017_2b_house', 'Rental_total_Dec_2017_2b_house', 'Rental_total_Mar_2018_2b_house', 'Rental_total_Jun_2018_2b_house', 'Rental_total_Sep_2018_2b_house', 'Rental_total_Dec_2018_2b_house', 'Rental_total_Mar_2019_2b_house', 'Rental_total_Jun_2019_2b_house', 'Rental_total_Sep_2019_2b_house', 'Rental_total_Dec_2019_2b_house', 'Rental_total_Mar_2020_2b_house', 'Rental_total_Jun_2020_2b_house', 'Rental_total_Sep_2020_2b_house', 'Rental_total_Dec_2020_2b_house', 'Rental_total_Mar_2021_2b_house', 'Rental_total_Jun_2021_2b_house', 'Rental_total_Mar_2000_3b_house', 'Rental_total_Jun_2000_3b_house', 'Rental_total_Sep_2000_3b_house', 'Rental_total_Dec_2000_3b_house', 'Rental_total_Mar_2001_3b_house', 'Rental_total_Jun_2001_3b_house', 'Rental_total_Sep_2001_3b_house', 'Rental_total_Dec_2001_3b_house', 'Rental_total_Mar_2002_3b_house', 'Rental_total_Jun_2002_3b_house', 'Rental_total_Sep_2002_3b_house', 'Rental_total_Dec_2002_3b_house', 'Rental_total_Mar_2003_3b_house', 'Rental_total_Jun_2003_3b_house', 'Rental_total_Sep_2003_3b_house', 'Rental_total_Dec_2003_3b_house', 'Rental_total_Mar_2004_3b_house', 'Rental_total_Jun_2004_3b_house', 'Rental_total_Sep_2004_3b_house', 'Rental_total_Dec_2004_3b_house', 'Rental_total_Mar_2005_3b_house', 'Rental_total_Jun_2005_3b_house', 'Rental_total_Sep_2005_3b_house', 'Rental_total_Dec_2005_3b_house', 'Rental_total_Mar_2006_3b_house', 'Rental_total_Jun_2006_3b_house', 'Rental_total_Sep_2006_3b_house', 'Rental_total_Dec_2006_3b_house', 'Rental_total_Mar_2007_3b_house', 'Rental_total_Jun_2007_3b_house', 'Rental_total_Sep_2007_3b_house', 'Rental_total_Dec_2007_3b_house', 'Rental_total_Mar_2008_3b_house', 'Rental_total_Jun_2008_3b_house', 'Rental_total_Sep_2008_3b_house', 'Rental_total_Dec_2008_3b_house', 'Rental_total_Mar_2009_3b_house', 'Rental_total_Jun_2009_3b_house', 'Rental_total_Sep_2009_3b_house', 'Rental_total_Dec_2009_3b_house', 'Rental_total_Mar_2010_3b_house', 'Rental_total_Jun_2010_3b_house', 'Rental_total_Sep_2010_3b_house', 'Rental_total_Dec_2010_3b_house', 'Rental_total_Mar_2011_3b_house', 'Rental_total_Jun_2011_3b_house', 'Rental_total_Sep_2011_3b_house', 'Rental_total_Dec_2011_3b_house', 'Rental_total_Mar_2012_3b_house', 'Rental_total_Jun_2012_3b_house', 'Rental_total_Sep_2012_3b_house', 'Rental_total_Dec_2012_3b_house', 'Rental_total_Mar_2013_3b_house', 'Rental_total_Jun_2013_3b_house', 'Rental_total_Sep_2013_3b_house', 'Rental_total_Dec_2013_3b_house', 'Rental_total_Mar_2014_3b_house', 'Rental_total_Jun_2014_3b_house', 'Rental_total_Sep_2014_3b_house', 'Rental_total_Dec_2014_3b_house', 'Rental_total_Mar_2015_3b_house', 'Rental_total_Jun_2015_3b_house', 'Rental_total_Sep_2015_3b_house', 'Rental_total_Dec_2015_3b_house', 'Rental_total_Mar_2016_3b_house', 'Rental_total_Jun_2016_3b_house', 'Rental_total_Sep_2016_3b_house', 'Rental_total_Dec_2016_3b_house', 'Rental_total_Mar_2017_3b_house', 'Rental_total_Jun_2017_3b_house', 'Rental_total_Sep_2017_3b_house', 'Rental_total_Dec_2017_3b_house', 'Rental_total_Mar_2018_3b_house', 'Rental_total_Jun_2018_3b_house', 'Rental_total_Sep_2018_3b_house', 'Rental_total_Dec_2018_3b_house', 'Rental_total_Mar_2019_3b_house', 'Rental_total_Jun_2019_3b_house', 'Rental_total_Sep_2019_3b_house', 'Rental_total_Dec_2019_3b_house', 'Rental_total_Mar_2020_3b_house', 'Rental_total_Jun_2020_3b_house', 'Rental_total_Sep_2020_3b_house', 'Rental_total_Dec_2020_3b_house', 'Rental_total_Mar_2021_3b_house', 'Rental_total_Jun_2021_3b_house', 'Rental_total_Mar_2000_4b_house', 'Rental_total_Jun_2000_4b_house', 'Rental_total_Sep_2000_4b_house', 'Rental_total_Dec_2000_4b_house', 'Rental_total_Mar_2001_4b_house', 'Rental_total_Jun_2001_4b_house', 'Rental_total_Sep_2001_4b_house', 'Rental_total_Dec_2001_4b_house', 'Rental_total_Mar_2002_4b_house', 'Rental_total_Jun_2002_4b_house', 'Rental_total_Sep_2002_4b_house', 'Rental_total_Dec_2002_4b_house', 'Rental_total_Mar_2003_4b_house', 'Rental_total_Jun_2003_4b_house', 'Rental_total_Sep_2003_4b_house', 'Rental_total_Dec_2003_4b_house', 'Rental_total_Mar_2004_4b_house', 'Rental_total_Jun_2004_4b_house', 'Rental_total_Sep_2004_4b_house', 'Rental_total_Dec_2004_4b_house', 'Rental_total_Mar_2005_4b_house', 'Rental_total_Jun_2005_4b_house', 'Rental_total_Sep_2005_4b_house', 'Rental_total_Dec_2005_4b_house', 'Rental_total_Mar_2006_4b_house', 'Rental_total_Jun_2006_4b_house', 'Rental_total_Sep_2006_4b_house', 'Rental_total_Dec_2006_4b_house', 'Rental_total_Mar_2007_4b_house', 'Rental_total_Jun_2007_4b_house', 'Rental_total_Sep_2007_4b_house', 'Rental_total_Dec_2007_4b_house', 'Rental_total_Mar_2008_4b_house', 'Rental_total_Jun_2008_4b_house', 'Rental_total_Sep_2008_4b_house', 'Rental_total_Dec_2008_4b_house', 'Rental_total_Mar_2009_4b_house', 'Rental_total_Jun_2009_4b_house', 'Rental_total_Sep_2009_4b_house', 'Rental_total_Dec_2009_4b_house', 'Rental_total_Mar_2010_4b_house', 'Rental_total_Jun_2010_4b_house', 'Rental_total_Sep_2010_4b_house', 'Rental_total_Dec_2010_4b_house', 'Rental_total_Mar_2011_4b_house', 'Rental_total_Jun_2011_4b_house', 'Rental_total_Sep_2011_4b_house', 'Rental_total_Dec_2011_4b_house', 'Rental_total_Mar_2012_4b_house', 'Rental_total_Jun_2012_4b_house', 'Rental_total_Sep_2012_4b_house', 'Rental_total_Dec_2012_4b_house', 'Rental_total_Mar_2013_4b_house', 'Rental_total_Jun_2013_4b_house', 'Rental_total_Sep_2013_4b_house', 'Rental_total_Dec_2013_4b_house', 'Rental_total_Mar_2014_4b_house', 'Rental_total_Jun_2014_4b_house', 'Rental_total_Sep_2014_4b_house', 'Rental_total_Dec_2014_4b_house', 'Rental_total_Mar_2015_4b_house', 'Rental_total_Jun_2015_4b_house', 'Rental_total_Sep_2015_4b_house', 'Rental_total_Dec_2015_4b_house', 'Rental_total_Mar_2016_4b_house', 'Rental_total_Jun_2016_4b_house', 'Rental_total_Sep_2016_4b_house', 'Rental_total_Dec_2016_4b_house', 'Rental_total_Mar_2017_4b_house', 'Rental_total_Jun_2017_4b_house', 'Rental_total_Sep_2017_4b_house', 'Rental_total_Dec_2017_4b_house', 'Rental_total_Mar_2018_4b_house', 'Rental_total_Jun_2018_4b_house', 'Rental_total_Sep_2018_4b_house', 'Rental_total_Dec_2018_4b_house', 'Rental_total_Mar_2019_4b_house', 'Rental_total_Jun_2019_4b_house', 'Rental_total_Sep_2019_4b_house', 'Rental_total_Dec_2019_4b_house', 'Rental_total_Mar_2020_4b_house', 'Rental_total_Jun_2020_4b_house', 'Rental_total_Sep_2020_4b_house', 'Rental_total_Dec_2020_4b_house', 'Rental_total_Mar_2021_4b_house', 'Rental_total_Jun_2021_4b_house', 'Rental_total_Mar_2000', 'Rental_total_Jun_2000', 'Rental_total_Sep_2000', 'Rental_total_Dec_2000', 'Rental_total_Mar_2001', 'Rental_total_Jun_2001', 'Rental_total_Sep_2001', 'Rental_total_Dec_2001', 'Rental_total_Mar_2002', 'Rental_total_Jun_2002', 'Rental_total_Sep_2002', 'Rental_total_Dec_2002', 'Rental_total_Mar_2003', 'Rental_total_Jun_2003', 'Rental_total_Sep_2003', 'Rental_total_Dec_2003', 'Rental_total_Mar_2004', 'Rental_total_Jun_2004', 'Rental_total_Sep_2004', 'Rental_total_Dec_2004', 'Rental_total_Mar_2005', 'Rental_total_Jun_2005', 'Rental_total_Sep_2005', 'Rental_total_Dec_2005', 'Rental_total_Mar_2006', 'Rental_total_Jun_2006', 'Rental_total_Sep_2006', 'Rental_total_Dec_2006', 'Rental_total_Mar_2007', 'Rental_total_Jun_2007', 'Rental_total_Sep_2007', 'Rental_total_Dec_2007', 'Rental_total_Mar_2008', 'Rental_total_Jun_2008', 'Rental_total_Sep_2008', 'Rental_total_Dec_2008', 'Rental_total_Mar_2009', 'Rental_total_Jun_2009', 'Rental_total_Sep_2009', 'Rental_total_Dec_2009', 'Rental_total_Mar_2010', 'Rental_total_Jun_2010', 'Rental_total_Sep_2010', 'Rental_total_Dec_2010', 'Rental_total_Mar_2011', 'Rental_total_Jun_2011', 'Rental_total_Sep_2011', 'Rental_total_Dec_2011', 'Rental_total_Mar_2012', 'Rental_total_Jun_2012', 'Rental_total_Sep_2012', 'Rental_total_Dec_2012', 'Rental_total_Mar_2013', 'Rental_total_Jun_2013', 'Rental_total_Sep_2013', 'Rental_total_Dec_2013', 'Rental_total_Mar_2014', 'Rental_total_Jun_2014', 'Rental_total_Sep_2014', 'Rental_total_Dec_2014', 'Rental_total_Mar_2015', 'Rental_total_Jun_2015', 'Rental_total_Sep_2015', 'Rental_total_Dec_2015', 'Rental_total_Mar_2016', 'Rental_total_Jun_2016', 'Rental_total_Sep_2016', 'Rental_total_Dec_2016', 'Rental_total_Mar_2017', 'Rental_total_Jun_2017', 'Rental_total_Sep_2017', 'Rental_total_Dec_2017', 'Rental_total_Mar_2018', 'Rental_total_Jun_2018', 'Rental_total_Sep_2018', 'Rental_total_Dec_2018', 'Rental_total_Mar_2019', 'Rental_total_Jun_2019', 'Rental_total_Sep_2019', 'Rental_total_Dec_2019', 'Rental_total_Mar_2020', 'Rental_total_Jun_2020', 'Rental_total_Sep_2020', 'Rental_total_Dec_2020', 'Rental_total_Mar_2021', 'Rental_total_Jun_2021']]\n",
    "df = df[['suburb', 'Rental_total_Mar_2000', 'Rental_total_Jun_2000', 'Rental_total_Sep_2000', 'Rental_total_Dec_2000', 'Rental_total_Mar_2001', 'Rental_total_Jun_2001', 'Rental_total_Sep_2001', 'Rental_total_Dec_2001', 'Rental_total_Mar_2002', 'Rental_total_Jun_2002', 'Rental_total_Sep_2002', 'Rental_total_Dec_2002', 'Rental_total_Mar_2003', 'Rental_total_Jun_2003', 'Rental_total_Sep_2003', 'Rental_total_Dec_2003', 'Rental_total_Mar_2004', 'Rental_total_Jun_2004', 'Rental_total_Sep_2004', 'Rental_total_Dec_2004', 'Rental_total_Mar_2005', 'Rental_total_Jun_2005', 'Rental_total_Sep_2005', 'Rental_total_Dec_2005', 'Rental_total_Mar_2006', 'Rental_total_Jun_2006', 'Rental_total_Sep_2006', 'Rental_total_Dec_2006', 'Rental_total_Mar_2007', 'Rental_total_Jun_2007', 'Rental_total_Sep_2007', 'Rental_total_Dec_2007', 'Rental_total_Mar_2008', 'Rental_total_Jun_2008', 'Rental_total_Sep_2008', 'Rental_total_Dec_2008', 'Rental_total_Mar_2009', 'Rental_total_Jun_2009', 'Rental_total_Sep_2009', 'Rental_total_Dec_2009', 'Rental_total_Mar_2010', 'Rental_total_Jun_2010', 'Rental_total_Sep_2010', 'Rental_total_Dec_2010', 'Rental_total_Mar_2011', 'Rental_total_Jun_2011', 'Rental_total_Sep_2011', 'Rental_total_Dec_2011', 'Rental_total_Mar_2012', 'Rental_total_Jun_2012', 'Rental_total_Sep_2012', 'Rental_total_Dec_2012', 'Rental_total_Mar_2013', 'Rental_total_Jun_2013', 'Rental_total_Sep_2013', 'Rental_total_Dec_2013', 'Rental_total_Mar_2014', 'Rental_total_Jun_2014', 'Rental_total_Sep_2014', 'Rental_total_Dec_2014', 'Rental_total_Mar_2015', 'Rental_total_Jun_2015', 'Rental_total_Sep_2015', 'Rental_total_Dec_2015', 'Rental_total_Mar_2016', 'Rental_total_Jun_2016', 'Rental_total_Sep_2016', 'Rental_total_Dec_2016', 'Rental_total_Mar_2017', 'Rental_total_Jun_2017', 'Rental_total_Sep_2017', 'Rental_total_Dec_2017', 'Rental_total_Mar_2018', 'Rental_total_Jun_2018', 'Rental_total_Sep_2018', 'Rental_total_Dec_2018', 'Rental_total_Mar_2019', 'Rental_total_Jun_2019', 'Rental_total_Sep_2019', 'Rental_total_Dec_2019', 'Rental_total_Mar_2020', 'Rental_total_Jun_2020', 'Rental_total_Sep_2020', 'Rental_total_Dec_2020', 'Rental_total_Mar_2021', 'Rental_total_Jun_2021']]\n",
    "# df"
   ]
  },
  {
   "cell_type": "code",
   "execution_count": 4,
   "id": "e9e127a7",
   "metadata": {},
   "outputs": [],
   "source": [
    "for suburb in [x for x in df.columns][1:]:\n",
    "    df[suburb] = df[suburb].replace(\"-\",np.nan)\n",
    "    df[suburb] = df[suburb].astype(float)\n",
    "df = df.fillna(0)\n",
    "# df"
   ]
  },
  {
   "cell_type": "markdown",
   "id": "bea66340",
   "metadata": {},
   "source": [
    "#### Predict rent for future 3 years"
   ]
  },
  {
   "cell_type": "code",
   "execution_count": 5,
   "id": "54a1d6b8",
   "metadata": {},
   "outputs": [],
   "source": [
    "train_x = df.loc[:, 'Rental_total_Mar_2000': 'Rental_total_Mar_2021']"
   ]
  },
  {
   "cell_type": "code",
   "execution_count": 6,
   "id": "89a9ca88",
   "metadata": {},
   "outputs": [
    {
     "data": {
      "text/plain": [
       "[<matplotlib.lines.Line2D at 0x7fcd64fc2550>]"
      ]
     },
     "execution_count": 6,
     "metadata": {},
     "output_type": "execute_result"
    },
    {
     "data": {
      "image/png": "[encoded data removed]",
      "text/plain": [
       "<Figure size 432x288 with 1 Axes>"
      ]
     },
     "metadata": {
      "needs_background": "light"
     },
     "output_type": "display_data"
    }
   ],
   "source": [
    "\n",
    "\n",
    "plt.plot(train_x.columns.to_list(), train_x.iloc[3].to_list())"
   ]
  },
  {
   "cell_type": "code",
   "execution_count": 7,
   "id": "e737bdfb",
   "metadata": {},
   "outputs": [
    {
     "name": "stdout",
     "output_type": "stream",
     "text": [
      "The score is:  0.9970160077680812\n",
      "The predict rmse is:  3.883692155039328\n"
     ]
    }
   ],
   "source": [
    "from sklearn.linear_model import Ridge\n",
    "train_x = df.loc[:, 'Rental_total_Mar_2000': 'Rental_total_Mar_2021']\n",
    "# train_x = df[['Rental_total_Mar_2000', 'Rental_total_Jun_2000', 'Rental_total_Sep_2000', 'Rental_total_Dec_2000', 'Rental_total_Mar_2001', 'Rental_total_Jun_2001', 'Rental_total_Sep_2001', 'Rental_total_Dec_2001', 'Rental_total_Mar_2002', 'Rental_total_Jun_2002', 'Rental_total_Sep_2002', 'Rental_total_Dec_2002', 'Rental_total_Mar_2003', 'Rental_total_Jun_2003', 'Rental_total_Sep_2003', 'Rental_total_Dec_2003', 'Rental_total_Mar_2004', 'Rental_total_Jun_2004', 'Rental_total_Sep_2004', 'Rental_total_Dec_2004', 'Rental_total_Mar_2005', 'Rental_total_Jun_2005', 'Rental_total_Sep_2005', 'Rental_total_Dec_2005', 'Rental_total_Mar_2006', 'Rental_total_Jun_2006', 'Rental_total_Sep_2006', 'Rental_total_Dec_2006', 'Rental_total_Mar_2007', 'Rental_total_Jun_2007', 'Rental_total_Sep_2007', 'Rental_total_Dec_2007', 'Rental_total_Mar_2008', 'Rental_total_Jun_2008', 'Rental_total_Sep_2008', 'Rental_total_Dec_2008', 'Rental_total_Mar_2009', 'Rental_total_Jun_2009', 'Rental_total_Sep_2009', 'Rental_total_Dec_2009', 'Rental_total_Mar_2010', 'Rental_total_Jun_2010', 'Rental_total_Sep_2010', 'Rental_total_Dec_2010', 'Rental_total_Mar_2011', 'Rental_total_Jun_2011', 'Rental_total_Sep_2011', 'Rental_total_Dec_2011', 'Rental_total_Mar_2012', 'Rental_total_Jun_2012', 'Rental_total_Sep_2012', 'Rental_total_Dec_2012', 'Rental_total_Mar_2013', 'Rental_total_Jun_2013', 'Rental_total_Sep_2013', 'Rental_total_Dec_2013', 'Rental_total_Mar_2014', 'Rental_total_Jun_2014', 'Rental_total_Sep_2014', 'Rental_total_Dec_2014', 'Rental_total_Mar_2015', 'Rental_total_Jun_2015', 'Rental_total_Sep_2015', 'Rental_total_Dec_2015', 'Rental_total_Mar_2016', 'Rental_total_Jun_2016', 'Rental_total_Sep_2016', 'Rental_total_Dec_2016', 'Rental_total_Mar_2017', 'Rental_total_Jun_2017', 'Rental_total_Sep_2017', 'Rental_total_Dec_2017', 'Rental_total_Mar_2018', 'Rental_total_Jun_2018', 'Rental_total_Sep_2018', 'Rental_total_Dec_2018', 'Rental_total_Mar_2019', 'Rental_total_Jun_2019', 'Rental_total_Sep_2019', 'Rental_total_Dec_2019', 'Rental_total_Mar_2020', 'Rental_total_Jun_2020', 'Rental_total_Sep_2020', 'Rental_total_Dec_2020', 'Rental_total_Mar_2021']]\n",
    "train_y = df['Rental_total_Jun_2021']\n",
    "\n",
    "# split train test dataset\n",
    "# x_train_rent, x_test_rent, y_train_rent, y_test_rent = train_test_split(train_x,train_y, train_size=0.7,test_size=0.3,random_state=42)\n",
    "\n",
    "# set up ridge regression\n",
    "ridge = Ridge(alpha=50)\n",
    "ridge.fit(train_x, train_y)\n",
    "pred=ridge.predict(train_x)\n",
    "print(\"The score is: \", ridge.score(train_x, train_y))\n",
    "\n",
    "# calculate rmse for model\n",
    "mse = mean_squared_error(train_y,pred)\n",
    "rmse = mse ** (1/2)\n",
    "print(\"The predict rmse is: \", rmse)"
   ]
  },
  {
   "cell_type": "code",
   "execution_count": 8,
   "id": "6154baa1",
   "metadata": {},
   "outputs": [
    {
     "name": "stdout",
     "output_type": "stream",
     "text": [
      "The score is:  0.997247803528687\n",
      "The predict rmse is:  3.729801081305244\n"
     ]
    }
   ],
   "source": [
    "\n",
    "# set up Lasso regression\n",
    "lasso = Lasso(max_iter=300000, alpha = 0.01)\n",
    "lasso.fit(train_x, train_y)\n",
    "pred = lasso.predict(train_x)\n",
    "print(\"The score is: \", lasso.score(train_x, train_y))\n",
    "\n",
    "\n",
    "# calculate rmse for model\n",
    "mse = mean_squared_error(train_y,pred)\n",
    "rmse = mse ** (1/2)\n",
    "print(\"The predict rmse is: \", rmse)"
   ]
  },
  {
   "cell_type": "code",
   "execution_count": 9,
   "id": "32184467",
   "metadata": {},
   "outputs": [],
   "source": [
    "# since one year rental contains four sections\n",
    "predict_X_train = train_x\n",
    "predict_Y_train = train_y\n",
    "\n",
    "for year in ['2021', '2022', '2023', '2024', '2025']:\n",
    "    for month in ['Mar', 'Jun', 'Sep', 'Dec']:\n",
    "        if year == \"2021\" and month == \"Mar\":\n",
    "            continue\n",
    "        lasso.fit(predict_X_train, predict_Y_train)\n",
    "        pred =lasso.predict(predict_X_train)\n",
    "        \n",
    "        predict_X_train[f'Rental_total_{month}_{year}'] = predict_Y_train\n",
    "        predict_Y_train = pred\n",
    "\n"
   ]
  },
  {
   "cell_type": "code",
   "execution_count": 10,
   "id": "a9d07b8e",
   "metadata": {},
   "outputs": [
    {
     "data": {
      "text/html": [
       "<div>\n",
       "<style scoped>\n",
       "    .dataframe tbody tr th:only-of-type {\n",
       "        vertical-align: middle;\n",
       "    }\n",
       "\n",
       "    .dataframe tbody tr th {\n",
       "        vertical-align: top;\n",
       "    }\n",
       "\n",
       "    .dataframe thead th {\n",
       "        text-align: right;\n",
       "    }\n",
       "</style>\n",
       "<table border=\"1\" class=\"dataframe\">\n",
       "  <thead>\n",
       "    <tr style=\"text-align: right;\">\n",
       "      <th></th>\n",
       "      <th>Rental_total_Mar_2000</th>\n",
       "      <th>Rental_total_Jun_2000</th>\n",
       "      <th>Rental_total_Sep_2000</th>\n",
       "      <th>Rental_total_Dec_2000</th>\n",
       "      <th>Rental_total_Mar_2001</th>\n",
       "      <th>Rental_total_Jun_2001</th>\n",
       "      <th>Rental_total_Sep_2001</th>\n",
       "      <th>Rental_total_Dec_2001</th>\n",
       "      <th>Rental_total_Mar_2002</th>\n",
       "      <th>Rental_total_Jun_2002</th>\n",
       "      <th>...</th>\n",
       "      <th>Rental_total_Sep_2023</th>\n",
       "      <th>Rental_total_Dec_2023</th>\n",
       "      <th>Rental_total_Mar_2024</th>\n",
       "      <th>Rental_total_Jun_2024</th>\n",
       "      <th>Rental_total_Sep_2024</th>\n",
       "      <th>Rental_total_Dec_2024</th>\n",
       "      <th>Rental_total_Mar_2025</th>\n",
       "      <th>Rental_total_Jun_2025</th>\n",
       "      <th>Rental_total_Sep_2025</th>\n",
       "      <th>Rental_total_Dec_2025</th>\n",
       "    </tr>\n",
       "  </thead>\n",
       "  <tbody>\n",
       "    <tr>\n",
       "      <th>0</th>\n",
       "      <td>200.0</td>\n",
       "      <td>200.0</td>\n",
       "      <td>205.0</td>\n",
       "      <td>210.0</td>\n",
       "      <td>215.0</td>\n",
       "      <td>220.0</td>\n",
       "      <td>225.0</td>\n",
       "      <td>230.0</td>\n",
       "      <td>235.0</td>\n",
       "      <td>230.0</td>\n",
       "      <td>...</td>\n",
       "      <td>445.096889</td>\n",
       "      <td>445.485021</td>\n",
       "      <td>445.864017</td>\n",
       "      <td>446.277747</td>\n",
       "      <td>446.640241</td>\n",
       "      <td>446.955415</td>\n",
       "      <td>447.215979</td>\n",
       "      <td>447.430586</td>\n",
       "      <td>447.604410</td>\n",
       "      <td>447.736676</td>\n",
       "    </tr>\n",
       "    <tr>\n",
       "      <th>1</th>\n",
       "      <td>260.0</td>\n",
       "      <td>260.0</td>\n",
       "      <td>265.0</td>\n",
       "      <td>270.0</td>\n",
       "      <td>270.0</td>\n",
       "      <td>275.0</td>\n",
       "      <td>280.0</td>\n",
       "      <td>280.0</td>\n",
       "      <td>290.0</td>\n",
       "      <td>290.0</td>\n",
       "      <td>...</td>\n",
       "      <td>578.471529</td>\n",
       "      <td>578.605069</td>\n",
       "      <td>578.732770</td>\n",
       "      <td>578.806102</td>\n",
       "      <td>578.852576</td>\n",
       "      <td>578.871236</td>\n",
       "      <td>578.854933</td>\n",
       "      <td>578.823660</td>\n",
       "      <td>578.772392</td>\n",
       "      <td>578.701649</td>\n",
       "    </tr>\n",
       "    <tr>\n",
       "      <th>2</th>\n",
       "      <td>0.0</td>\n",
       "      <td>340.0</td>\n",
       "      <td>0.0</td>\n",
       "      <td>0.0</td>\n",
       "      <td>0.0</td>\n",
       "      <td>0.0</td>\n",
       "      <td>0.0</td>\n",
       "      <td>0.0</td>\n",
       "      <td>320.0</td>\n",
       "      <td>340.0</td>\n",
       "      <td>...</td>\n",
       "      <td>400.313650</td>\n",
       "      <td>400.305527</td>\n",
       "      <td>400.294609</td>\n",
       "      <td>400.273901</td>\n",
       "      <td>400.249536</td>\n",
       "      <td>400.222400</td>\n",
       "      <td>400.192969</td>\n",
       "      <td>400.161628</td>\n",
       "      <td>400.126378</td>\n",
       "      <td>400.090672</td>\n",
       "    </tr>\n",
       "    <tr>\n",
       "      <th>3</th>\n",
       "      <td>265.0</td>\n",
       "      <td>268.0</td>\n",
       "      <td>280.0</td>\n",
       "      <td>273.0</td>\n",
       "      <td>290.0</td>\n",
       "      <td>295.0</td>\n",
       "      <td>300.0</td>\n",
       "      <td>320.0</td>\n",
       "      <td>320.0</td>\n",
       "      <td>320.0</td>\n",
       "      <td>...</td>\n",
       "      <td>450.382316</td>\n",
       "      <td>450.500680</td>\n",
       "      <td>450.603615</td>\n",
       "      <td>450.685739</td>\n",
       "      <td>450.752813</td>\n",
       "      <td>450.804905</td>\n",
       "      <td>450.838227</td>\n",
       "      <td>450.859368</td>\n",
       "      <td>450.853585</td>\n",
       "      <td>450.836750</td>\n",
       "    </tr>\n",
       "    <tr>\n",
       "      <th>4</th>\n",
       "      <td>180.0</td>\n",
       "      <td>180.0</td>\n",
       "      <td>180.0</td>\n",
       "      <td>185.0</td>\n",
       "      <td>185.0</td>\n",
       "      <td>190.0</td>\n",
       "      <td>195.0</td>\n",
       "      <td>195.0</td>\n",
       "      <td>200.0</td>\n",
       "      <td>200.0</td>\n",
       "      <td>...</td>\n",
       "      <td>386.164442</td>\n",
       "      <td>386.061381</td>\n",
       "      <td>385.964106</td>\n",
       "      <td>385.883308</td>\n",
       "      <td>385.823529</td>\n",
       "      <td>385.793417</td>\n",
       "      <td>385.791573</td>\n",
       "      <td>385.815308</td>\n",
       "      <td>385.868620</td>\n",
       "      <td>385.941774</td>\n",
       "    </tr>\n",
       "    <tr>\n",
       "      <th>...</th>\n",
       "      <td>...</td>\n",
       "      <td>...</td>\n",
       "      <td>...</td>\n",
       "      <td>...</td>\n",
       "      <td>...</td>\n",
       "      <td>...</td>\n",
       "      <td>...</td>\n",
       "      <td>...</td>\n",
       "      <td>...</td>\n",
       "      <td>...</td>\n",
       "      <td>...</td>\n",
       "      <td>...</td>\n",
       "      <td>...</td>\n",
       "      <td>...</td>\n",
       "      <td>...</td>\n",
       "      <td>...</td>\n",
       "      <td>...</td>\n",
       "      <td>...</td>\n",
       "      <td>...</td>\n",
       "      <td>...</td>\n",
       "      <td>...</td>\n",
       "    </tr>\n",
       "    <tr>\n",
       "      <th>136</th>\n",
       "      <td>185.0</td>\n",
       "      <td>185.0</td>\n",
       "      <td>190.0</td>\n",
       "      <td>200.0</td>\n",
       "      <td>200.0</td>\n",
       "      <td>200.0</td>\n",
       "      <td>210.0</td>\n",
       "      <td>210.0</td>\n",
       "      <td>215.0</td>\n",
       "      <td>220.0</td>\n",
       "      <td>...</td>\n",
       "      <td>410.749071</td>\n",
       "      <td>410.707826</td>\n",
       "      <td>410.686752</td>\n",
       "      <td>410.691831</td>\n",
       "      <td>410.726502</td>\n",
       "      <td>410.788374</td>\n",
       "      <td>410.879216</td>\n",
       "      <td>410.989060</td>\n",
       "      <td>411.107250</td>\n",
       "      <td>411.237643</td>\n",
       "    </tr>\n",
       "    <tr>\n",
       "      <th>137</th>\n",
       "      <td>170.0</td>\n",
       "      <td>175.0</td>\n",
       "      <td>180.0</td>\n",
       "      <td>180.0</td>\n",
       "      <td>180.0</td>\n",
       "      <td>185.0</td>\n",
       "      <td>190.0</td>\n",
       "      <td>190.0</td>\n",
       "      <td>200.0</td>\n",
       "      <td>200.0</td>\n",
       "      <td>...</td>\n",
       "      <td>489.912151</td>\n",
       "      <td>489.990491</td>\n",
       "      <td>490.053252</td>\n",
       "      <td>490.082639</td>\n",
       "      <td>490.100406</td>\n",
       "      <td>490.106127</td>\n",
       "      <td>490.100868</td>\n",
       "      <td>490.087300</td>\n",
       "      <td>490.066069</td>\n",
       "      <td>490.046476</td>\n",
       "    </tr>\n",
       "    <tr>\n",
       "      <th>138</th>\n",
       "      <td>170.0</td>\n",
       "      <td>175.0</td>\n",
       "      <td>180.0</td>\n",
       "      <td>180.0</td>\n",
       "      <td>180.0</td>\n",
       "      <td>185.0</td>\n",
       "      <td>190.0</td>\n",
       "      <td>190.0</td>\n",
       "      <td>200.0</td>\n",
       "      <td>200.0</td>\n",
       "      <td>...</td>\n",
       "      <td>489.912151</td>\n",
       "      <td>489.990491</td>\n",
       "      <td>490.053252</td>\n",
       "      <td>490.082639</td>\n",
       "      <td>490.100406</td>\n",
       "      <td>490.106127</td>\n",
       "      <td>490.100868</td>\n",
       "      <td>490.087300</td>\n",
       "      <td>490.066069</td>\n",
       "      <td>490.046476</td>\n",
       "    </tr>\n",
       "    <tr>\n",
       "      <th>139</th>\n",
       "      <td>150.0</td>\n",
       "      <td>155.0</td>\n",
       "      <td>155.0</td>\n",
       "      <td>160.0</td>\n",
       "      <td>160.0</td>\n",
       "      <td>160.0</td>\n",
       "      <td>160.0</td>\n",
       "      <td>160.0</td>\n",
       "      <td>165.0</td>\n",
       "      <td>165.0</td>\n",
       "      <td>...</td>\n",
       "      <td>349.696410</td>\n",
       "      <td>349.755076</td>\n",
       "      <td>349.800125</td>\n",
       "      <td>349.829485</td>\n",
       "      <td>349.841818</td>\n",
       "      <td>349.840756</td>\n",
       "      <td>349.830945</td>\n",
       "      <td>349.817220</td>\n",
       "      <td>349.802011</td>\n",
       "      <td>349.786606</td>\n",
       "    </tr>\n",
       "    <tr>\n",
       "      <th>140</th>\n",
       "      <td>150.0</td>\n",
       "      <td>155.0</td>\n",
       "      <td>155.0</td>\n",
       "      <td>160.0</td>\n",
       "      <td>160.0</td>\n",
       "      <td>160.0</td>\n",
       "      <td>160.0</td>\n",
       "      <td>160.0</td>\n",
       "      <td>165.0</td>\n",
       "      <td>165.0</td>\n",
       "      <td>...</td>\n",
       "      <td>349.696410</td>\n",
       "      <td>349.755076</td>\n",
       "      <td>349.800125</td>\n",
       "      <td>349.829485</td>\n",
       "      <td>349.841818</td>\n",
       "      <td>349.840756</td>\n",
       "      <td>349.830945</td>\n",
       "      <td>349.817220</td>\n",
       "      <td>349.802011</td>\n",
       "      <td>349.786606</td>\n",
       "    </tr>\n",
       "  </tbody>\n",
       "</table>\n",
       "<p>141 rows × 104 columns</p>\n",
       "</div>"
      ],
      "text/plain": [
       "     Rental_total_Mar_2000  Rental_total_Jun_2000  Rental_total_Sep_2000  \\\n",
       "0                    200.0                  200.0                  205.0   \n",
       "1                    260.0                  260.0                  265.0   \n",
       "2                      0.0                  340.0                    0.0   \n",
       "3                    265.0                  268.0                  280.0   \n",
       "4                    180.0                  180.0                  180.0   \n",
       "..                     ...                    ...                    ...   \n",
       "136                  185.0                  185.0                  190.0   \n",
       "137                  170.0                  175.0                  180.0   \n",
       "138                  170.0                  175.0                  180.0   \n",
       "139                  150.0                  155.0                  155.0   \n",
       "140                  150.0                  155.0                  155.0   \n",
       "\n",
       "     Rental_total_Dec_2000  Rental_total_Mar_2001  Rental_total_Jun_2001  \\\n",
       "0                    210.0                  215.0                  220.0   \n",
       "1                    270.0                  270.0                  275.0   \n",
       "2                      0.0                    0.0                    0.0   \n",
       "3                    273.0                  290.0                  295.0   \n",
       "4                    185.0                  185.0                  190.0   \n",
       "..                     ...                    ...                    ...   \n",
       "136                  200.0                  200.0                  200.0   \n",
       "137                  180.0                  180.0                  185.0   \n",
       "138                  180.0                  180.0                  185.0   \n",
       "139                  160.0                  160.0                  160.0   \n",
       "140                  160.0                  160.0                  160.0   \n",
       "\n",
       "     Rental_total_Sep_2001  Rental_total_Dec_2001  Rental_total_Mar_2002  \\\n",
       "0                    225.0                  230.0                  235.0   \n",
       "1                    280.0                  280.0                  290.0   \n",
       "2                      0.0                    0.0                  320.0   \n",
       "3                    300.0                  320.0                  320.0   \n",
       "4                    195.0                  195.0                  200.0   \n",
       "..                     ...                    ...                    ...   \n",
       "136                  210.0                  210.0                  215.0   \n",
       "137                  190.0                  190.0                  200.0   \n",
       "138                  190.0                  190.0                  200.0   \n",
       "139                  160.0                  160.0                  165.0   \n",
       "140                  160.0                  160.0                  165.0   \n",
       "\n",
       "     Rental_total_Jun_2002  ...  Rental_total_Sep_2023  Rental_total_Dec_2023  \\\n",
       "0                    230.0  ...             445.096889             445.485021   \n",
       "1                    290.0  ...             578.471529             578.605069   \n",
       "2                    340.0  ...             400.313650             400.305527   \n",
       "3                    320.0  ...             450.382316             450.500680   \n",
       "4                    200.0  ...             386.164442             386.061381   \n",
       "..                     ...  ...                    ...                    ...   \n",
       "136                  220.0  ...             410.749071             410.707826   \n",
       "137                  200.0  ...             489.912151             489.990491   \n",
       "138                  200.0  ...             489.912151             489.990491   \n",
       "139                  165.0  ...             349.696410             349.755076   \n",
       "140                  165.0  ...             349.696410             349.755076   \n",
       "\n",
       "     Rental_total_Mar_2024  Rental_total_Jun_2024  Rental_total_Sep_2024  \\\n",
       "0               445.864017             446.277747             446.640241   \n",
       "1               578.732770             578.806102             578.852576   \n",
       "2               400.294609             400.273901             400.249536   \n",
       "3               450.603615             450.685739             450.752813   \n",
       "4               385.964106             385.883308             385.823529   \n",
       "..                     ...                    ...                    ...   \n",
       "136             410.686752             410.691831             410.726502   \n",
       "137             490.053252             490.082639             490.100406   \n",
       "138             490.053252             490.082639             490.100406   \n",
       "139             349.800125             349.829485             349.841818   \n",
       "140             349.800125             349.829485             349.841818   \n",
       "\n",
       "     Rental_total_Dec_2024  Rental_total_Mar_2025  Rental_total_Jun_2025  \\\n",
       "0               446.955415             447.215979             447.430586   \n",
       "1               578.871236             578.854933             578.823660   \n",
       "2               400.222400             400.192969             400.161628   \n",
       "3               450.804905             450.838227             450.859368   \n",
       "4               385.793417             385.791573             385.815308   \n",
       "..                     ...                    ...                    ...   \n",
       "136             410.788374             410.879216             410.989060   \n",
       "137             490.106127             490.100868             490.087300   \n",
       "138             490.106127             490.100868             490.087300   \n",
       "139             349.840756             349.830945             349.817220   \n",
       "140             349.840756             349.830945             349.817220   \n",
       "\n",
       "     Rental_total_Sep_2025  Rental_total_Dec_2025  \n",
       "0               447.604410             447.736676  \n",
       "1               578.772392             578.701649  \n",
       "2               400.126378             400.090672  \n",
       "3               450.853585             450.836750  \n",
       "4               385.868620             385.941774  \n",
       "..                     ...                    ...  \n",
       "136             411.107250             411.237643  \n",
       "137             490.066069             490.046476  \n",
       "138             490.066069             490.046476  \n",
       "139             349.802011             349.786606  \n",
       "140             349.802011             349.786606  \n",
       "\n",
       "[141 rows x 104 columns]"
      ]
     },
     "execution_count": 10,
     "metadata": {},
     "output_type": "execute_result"
    }
   ],
   "source": [
    "predict_X_train"
   ]
  },
  {
   "cell_type": "code",
   "execution_count": 11,
   "id": "86ff200d",
   "metadata": {},
   "outputs": [
    {
     "data": {
      "text/plain": [
       "{'alpha': 1, 'max_iter': 300000}"
      ]
     },
     "execution_count": 11,
     "metadata": {},
     "output_type": "execute_result"
    }
   ],
   "source": [
    "ridge = Ridge()\n",
    "params = {\n",
    "    \"alpha\": [0.005, 0.01, 1, 5, 10, 20, 50],\n",
    "    \"max_iter\": [300000,30]\n",
    "}\n",
    "model1 = GridSearchCV(ridge, param_grid=params, cv=5, n_jobs=-1)\n",
    "model1.fit(train_x, train_y)\n",
    "model1.best_params_"
   ]
  },
  {
   "cell_type": "markdown",
   "id": "4bc8c7a0",
   "metadata": {},
   "source": [
    "#### Predict population for future 3 years"
   ]
  },
  {
   "cell_type": "code",
   "execution_count": 12,
   "id": "2d6b726c",
   "metadata": {},
   "outputs": [
    {
     "data": {
      "text/html": [
       "<div>\n",
       "<style scoped>\n",
       "    .dataframe tbody tr th:only-of-type {\n",
       "        vertical-align: middle;\n",
       "    }\n",
       "\n",
       "    .dataframe tbody tr th {\n",
       "        vertical-align: top;\n",
       "    }\n",
       "\n",
       "    .dataframe thead th {\n",
       "        text-align: right;\n",
       "    }\n",
       "</style>\n",
       "<table border=\"1\" class=\"dataframe\">\n",
       "  <thead>\n",
       "    <tr style=\"text-align: right;\">\n",
       "      <th></th>\n",
       "      <th>ARMADALE</th>\n",
       "      <th>CARLTON NORTH</th>\n",
       "      <th>DOCKLANDS</th>\n",
       "      <th>EAST MELBOURNE</th>\n",
       "      <th>ST KILDA EAST</th>\n",
       "      <th>ELWOOD</th>\n",
       "      <th>FITZROY</th>\n",
       "      <th>PORT MELBOURNE</th>\n",
       "      <th>SOUTH MELBOURNE</th>\n",
       "      <th>SOUTH YARRA</th>\n",
       "      <th>...</th>\n",
       "      <th>MORDIALLOC</th>\n",
       "      <th>MURRUMBEENA</th>\n",
       "      <th>HUGHESDALE</th>\n",
       "      <th>KEILOR EAST</th>\n",
       "      <th>AVONDALE HEIGHTS</th>\n",
       "      <th>NEWPORT</th>\n",
       "      <th>SPOTSWOOD</th>\n",
       "      <th>ST ALBANS</th>\n",
       "      <th>DEER PARK</th>\n",
       "      <th>date</th>\n",
       "    </tr>\n",
       "  </thead>\n",
       "  <tbody>\n",
       "    <tr>\n",
       "      <th>Rental_total_Mar_2000</th>\n",
       "      <td>200.0</td>\n",
       "      <td>260.0</td>\n",
       "      <td>0.0</td>\n",
       "      <td>265.0</td>\n",
       "      <td>180.0</td>\n",
       "      <td>200.0</td>\n",
       "      <td>250.0</td>\n",
       "      <td>335.0</td>\n",
       "      <td>285.0</td>\n",
       "      <td>230.0</td>\n",
       "      <td>...</td>\n",
       "      <td>165.0</td>\n",
       "      <td>170.0</td>\n",
       "      <td>170.0</td>\n",
       "      <td>185.0</td>\n",
       "      <td>185.0</td>\n",
       "      <td>170.0</td>\n",
       "      <td>170.0</td>\n",
       "      <td>150.0</td>\n",
       "      <td>150.0</td>\n",
       "      <td>Rental_total_Mar_2000</td>\n",
       "    </tr>\n",
       "    <tr>\n",
       "      <th>Rental_total_Jun_2000</th>\n",
       "      <td>200.0</td>\n",
       "      <td>260.0</td>\n",
       "      <td>340.0</td>\n",
       "      <td>268.0</td>\n",
       "      <td>180.0</td>\n",
       "      <td>200.0</td>\n",
       "      <td>250.0</td>\n",
       "      <td>350.0</td>\n",
       "      <td>285.0</td>\n",
       "      <td>230.0</td>\n",
       "      <td>...</td>\n",
       "      <td>165.0</td>\n",
       "      <td>170.0</td>\n",
       "      <td>170.0</td>\n",
       "      <td>185.0</td>\n",
       "      <td>185.0</td>\n",
       "      <td>175.0</td>\n",
       "      <td>175.0</td>\n",
       "      <td>155.0</td>\n",
       "      <td>155.0</td>\n",
       "      <td>Rental_total_Jun_2000</td>\n",
       "    </tr>\n",
       "    <tr>\n",
       "      <th>Rental_total_Sep_2000</th>\n",
       "      <td>205.0</td>\n",
       "      <td>265.0</td>\n",
       "      <td>0.0</td>\n",
       "      <td>280.0</td>\n",
       "      <td>180.0</td>\n",
       "      <td>200.0</td>\n",
       "      <td>255.0</td>\n",
       "      <td>350.0</td>\n",
       "      <td>286.0</td>\n",
       "      <td>230.0</td>\n",
       "      <td>...</td>\n",
       "      <td>170.0</td>\n",
       "      <td>175.0</td>\n",
       "      <td>175.0</td>\n",
       "      <td>190.0</td>\n",
       "      <td>190.0</td>\n",
       "      <td>180.0</td>\n",
       "      <td>180.0</td>\n",
       "      <td>155.0</td>\n",
       "      <td>155.0</td>\n",
       "      <td>Rental_total_Sep_2000</td>\n",
       "    </tr>\n",
       "    <tr>\n",
       "      <th>Rental_total_Dec_2000</th>\n",
       "      <td>210.0</td>\n",
       "      <td>270.0</td>\n",
       "      <td>0.0</td>\n",
       "      <td>273.0</td>\n",
       "      <td>185.0</td>\n",
       "      <td>210.0</td>\n",
       "      <td>260.0</td>\n",
       "      <td>340.0</td>\n",
       "      <td>295.0</td>\n",
       "      <td>240.0</td>\n",
       "      <td>...</td>\n",
       "      <td>170.0</td>\n",
       "      <td>170.0</td>\n",
       "      <td>170.0</td>\n",
       "      <td>200.0</td>\n",
       "      <td>200.0</td>\n",
       "      <td>180.0</td>\n",
       "      <td>180.0</td>\n",
       "      <td>160.0</td>\n",
       "      <td>160.0</td>\n",
       "      <td>Rental_total_Dec_2000</td>\n",
       "    </tr>\n",
       "    <tr>\n",
       "      <th>Rental_total_Mar_2001</th>\n",
       "      <td>215.0</td>\n",
       "      <td>270.0</td>\n",
       "      <td>0.0</td>\n",
       "      <td>290.0</td>\n",
       "      <td>185.0</td>\n",
       "      <td>220.0</td>\n",
       "      <td>265.0</td>\n",
       "      <td>350.0</td>\n",
       "      <td>300.0</td>\n",
       "      <td>240.0</td>\n",
       "      <td>...</td>\n",
       "      <td>175.0</td>\n",
       "      <td>175.0</td>\n",
       "      <td>175.0</td>\n",
       "      <td>200.0</td>\n",
       "      <td>200.0</td>\n",
       "      <td>180.0</td>\n",
       "      <td>180.0</td>\n",
       "      <td>160.0</td>\n",
       "      <td>160.0</td>\n",
       "      <td>Rental_total_Mar_2001</td>\n",
       "    </tr>\n",
       "    <tr>\n",
       "      <th>...</th>\n",
       "      <td>...</td>\n",
       "      <td>...</td>\n",
       "      <td>...</td>\n",
       "      <td>...</td>\n",
       "      <td>...</td>\n",
       "      <td>...</td>\n",
       "      <td>...</td>\n",
       "      <td>...</td>\n",
       "      <td>...</td>\n",
       "      <td>...</td>\n",
       "      <td>...</td>\n",
       "      <td>...</td>\n",
       "      <td>...</td>\n",
       "      <td>...</td>\n",
       "      <td>...</td>\n",
       "      <td>...</td>\n",
       "      <td>...</td>\n",
       "      <td>...</td>\n",
       "      <td>...</td>\n",
       "      <td>...</td>\n",
       "      <td>...</td>\n",
       "    </tr>\n",
       "    <tr>\n",
       "      <th>Rental_total_Jun_2020</th>\n",
       "      <td>500.0</td>\n",
       "      <td>590.0</td>\n",
       "      <td>550.0</td>\n",
       "      <td>550.0</td>\n",
       "      <td>425.0</td>\n",
       "      <td>450.0</td>\n",
       "      <td>570.0</td>\n",
       "      <td>600.0</td>\n",
       "      <td>530.0</td>\n",
       "      <td>475.0</td>\n",
       "      <td>...</td>\n",
       "      <td>435.0</td>\n",
       "      <td>440.0</td>\n",
       "      <td>440.0</td>\n",
       "      <td>410.0</td>\n",
       "      <td>410.0</td>\n",
       "      <td>495.0</td>\n",
       "      <td>495.0</td>\n",
       "      <td>360.0</td>\n",
       "      <td>360.0</td>\n",
       "      <td>Rental_total_Jun_2020</td>\n",
       "    </tr>\n",
       "    <tr>\n",
       "      <th>Rental_total_Sep_2020</th>\n",
       "      <td>500.0</td>\n",
       "      <td>590.0</td>\n",
       "      <td>500.0</td>\n",
       "      <td>515.0</td>\n",
       "      <td>420.0</td>\n",
       "      <td>450.0</td>\n",
       "      <td>565.0</td>\n",
       "      <td>590.0</td>\n",
       "      <td>510.0</td>\n",
       "      <td>450.0</td>\n",
       "      <td>...</td>\n",
       "      <td>440.0</td>\n",
       "      <td>440.0</td>\n",
       "      <td>440.0</td>\n",
       "      <td>410.0</td>\n",
       "      <td>410.0</td>\n",
       "      <td>495.0</td>\n",
       "      <td>495.0</td>\n",
       "      <td>360.0</td>\n",
       "      <td>360.0</td>\n",
       "      <td>Rental_total_Sep_2020</td>\n",
       "    </tr>\n",
       "    <tr>\n",
       "      <th>Rental_total_Dec_2020</th>\n",
       "      <td>495.0</td>\n",
       "      <td>590.0</td>\n",
       "      <td>460.0</td>\n",
       "      <td>495.0</td>\n",
       "      <td>410.0</td>\n",
       "      <td>440.0</td>\n",
       "      <td>550.0</td>\n",
       "      <td>590.0</td>\n",
       "      <td>490.0</td>\n",
       "      <td>435.0</td>\n",
       "      <td>...</td>\n",
       "      <td>435.0</td>\n",
       "      <td>425.0</td>\n",
       "      <td>425.0</td>\n",
       "      <td>420.0</td>\n",
       "      <td>420.0</td>\n",
       "      <td>500.0</td>\n",
       "      <td>500.0</td>\n",
       "      <td>355.0</td>\n",
       "      <td>355.0</td>\n",
       "      <td>Rental_total_Dec_2020</td>\n",
       "    </tr>\n",
       "    <tr>\n",
       "      <th>Rental_total_Mar_2021</th>\n",
       "      <td>450.0</td>\n",
       "      <td>580.0</td>\n",
       "      <td>420.0</td>\n",
       "      <td>450.0</td>\n",
       "      <td>395.0</td>\n",
       "      <td>425.0</td>\n",
       "      <td>550.0</td>\n",
       "      <td>575.0</td>\n",
       "      <td>450.0</td>\n",
       "      <td>420.0</td>\n",
       "      <td>...</td>\n",
       "      <td>435.0</td>\n",
       "      <td>410.0</td>\n",
       "      <td>410.0</td>\n",
       "      <td>410.0</td>\n",
       "      <td>410.0</td>\n",
       "      <td>495.0</td>\n",
       "      <td>495.0</td>\n",
       "      <td>350.0</td>\n",
       "      <td>350.0</td>\n",
       "      <td>Rental_total_Mar_2021</td>\n",
       "    </tr>\n",
       "    <tr>\n",
       "      <th>Rental_total_Jun_2021</th>\n",
       "      <td>440.0</td>\n",
       "      <td>580.0</td>\n",
       "      <td>400.0</td>\n",
       "      <td>450.0</td>\n",
       "      <td>385.0</td>\n",
       "      <td>425.0</td>\n",
       "      <td>540.0</td>\n",
       "      <td>590.0</td>\n",
       "      <td>430.0</td>\n",
       "      <td>400.0</td>\n",
       "      <td>...</td>\n",
       "      <td>430.0</td>\n",
       "      <td>400.0</td>\n",
       "      <td>400.0</td>\n",
       "      <td>410.0</td>\n",
       "      <td>410.0</td>\n",
       "      <td>490.0</td>\n",
       "      <td>490.0</td>\n",
       "      <td>350.0</td>\n",
       "      <td>350.0</td>\n",
       "      <td>Rental_total_Jun_2021</td>\n",
       "    </tr>\n",
       "  </tbody>\n",
       "</table>\n",
       "<p>86 rows × 142 columns</p>\n",
       "</div>"
      ],
      "text/plain": [
       "                      ARMADALE CARLTON NORTH DOCKLANDS EAST MELBOURNE  \\\n",
       "Rental_total_Mar_2000    200.0         260.0       0.0          265.0   \n",
       "Rental_total_Jun_2000    200.0         260.0     340.0          268.0   \n",
       "Rental_total_Sep_2000    205.0         265.0       0.0          280.0   \n",
       "Rental_total_Dec_2000    210.0         270.0       0.0          273.0   \n",
       "Rental_total_Mar_2001    215.0         270.0       0.0          290.0   \n",
       "...                        ...           ...       ...            ...   \n",
       "Rental_total_Jun_2020    500.0         590.0     550.0          550.0   \n",
       "Rental_total_Sep_2020    500.0         590.0     500.0          515.0   \n",
       "Rental_total_Dec_2020    495.0         590.0     460.0          495.0   \n",
       "Rental_total_Mar_2021    450.0         580.0     420.0          450.0   \n",
       "Rental_total_Jun_2021    440.0         580.0     400.0          450.0   \n",
       "\n",
       "                      ST KILDA EAST ELWOOD FITZROY PORT MELBOURNE  \\\n",
       "Rental_total_Mar_2000         180.0  200.0   250.0          335.0   \n",
       "Rental_total_Jun_2000         180.0  200.0   250.0          350.0   \n",
       "Rental_total_Sep_2000         180.0  200.0   255.0          350.0   \n",
       "Rental_total_Dec_2000         185.0  210.0   260.0          340.0   \n",
       "Rental_total_Mar_2001         185.0  220.0   265.0          350.0   \n",
       "...                             ...    ...     ...            ...   \n",
       "Rental_total_Jun_2020         425.0  450.0   570.0          600.0   \n",
       "Rental_total_Sep_2020         420.0  450.0   565.0          590.0   \n",
       "Rental_total_Dec_2020         410.0  440.0   550.0          590.0   \n",
       "Rental_total_Mar_2021         395.0  425.0   550.0          575.0   \n",
       "Rental_total_Jun_2021         385.0  425.0   540.0          590.0   \n",
       "\n",
       "                      SOUTH MELBOURNE SOUTH YARRA  ... MORDIALLOC MURRUMBEENA  \\\n",
       "Rental_total_Mar_2000           285.0       230.0  ...      165.0       170.0   \n",
       "Rental_total_Jun_2000           285.0       230.0  ...      165.0       170.0   \n",
       "Rental_total_Sep_2000           286.0       230.0  ...      170.0       175.0   \n",
       "Rental_total_Dec_2000           295.0       240.0  ...      170.0       170.0   \n",
       "Rental_total_Mar_2001           300.0       240.0  ...      175.0       175.0   \n",
       "...                               ...         ...  ...        ...         ...   \n",
       "Rental_total_Jun_2020           530.0       475.0  ...      435.0       440.0   \n",
       "Rental_total_Sep_2020           510.0       450.0  ...      440.0       440.0   \n",
       "Rental_total_Dec_2020           490.0       435.0  ...      435.0       425.0   \n",
       "Rental_total_Mar_2021           450.0       420.0  ...      435.0       410.0   \n",
       "Rental_total_Jun_2021           430.0       400.0  ...      430.0       400.0   \n",
       "\n",
       "                      HUGHESDALE KEILOR EAST AVONDALE HEIGHTS NEWPORT  \\\n",
       "Rental_total_Mar_2000      170.0       185.0            185.0   170.0   \n",
       "Rental_total_Jun_2000      170.0       185.0            185.0   175.0   \n",
       "Rental_total_Sep_2000      175.0       190.0            190.0   180.0   \n",
       "Rental_total_Dec_2000      170.0       200.0            200.0   180.0   \n",
       "Rental_total_Mar_2001      175.0       200.0            200.0   180.0   \n",
       "...                          ...         ...              ...     ...   \n",
       "Rental_total_Jun_2020      440.0       410.0            410.0   495.0   \n",
       "Rental_total_Sep_2020      440.0       410.0            410.0   495.0   \n",
       "Rental_total_Dec_2020      425.0       420.0            420.0   500.0   \n",
       "Rental_total_Mar_2021      410.0       410.0            410.0   495.0   \n",
       "Rental_total_Jun_2021      400.0       410.0            410.0   490.0   \n",
       "\n",
       "                      SPOTSWOOD ST ALBANS DEER PARK                   date  \n",
       "Rental_total_Mar_2000     170.0     150.0     150.0  Rental_total_Mar_2000  \n",
       "Rental_total_Jun_2000     175.0     155.0     155.0  Rental_total_Jun_2000  \n",
       "Rental_total_Sep_2000     180.0     155.0     155.0  Rental_total_Sep_2000  \n",
       "Rental_total_Dec_2000     180.0     160.0     160.0  Rental_total_Dec_2000  \n",
       "Rental_total_Mar_2001     180.0     160.0     160.0  Rental_total_Mar_2001  \n",
       "...                         ...       ...       ...                    ...  \n",
       "Rental_total_Jun_2020     495.0     360.0     360.0  Rental_total_Jun_2020  \n",
       "Rental_total_Sep_2020     495.0     360.0     360.0  Rental_total_Sep_2020  \n",
       "Rental_total_Dec_2020     500.0     355.0     355.0  Rental_total_Dec_2020  \n",
       "Rental_total_Mar_2021     495.0     350.0     350.0  Rental_total_Mar_2021  \n",
       "Rental_total_Jun_2021     490.0     350.0     350.0  Rental_total_Jun_2021  \n",
       "\n",
       "[86 rows x 142 columns]"
      ]
     },
     "execution_count": 12,
     "metadata": {},
     "output_type": "execute_result"
    }
   ],
   "source": [
    "df = df.transpose()\n",
    "df = df.rename(columns=df.iloc[0]).drop(df.index[0])\n",
    "df[\"date\"] = df.index\n",
    "df"
   ]
  },
  {
   "cell_type": "markdown",
   "id": "04f2eebb",
   "metadata": {},
   "source": [
    "### Feature Engineering"
   ]
  },
  {
   "cell_type": "code",
   "execution_count": 13,
   "id": "0b3e41cc",
   "metadata": {},
   "outputs": [],
   "source": [
    "# 9.29 start now:"
   ]
  },
  {
   "cell_type": "code",
   "execution_count": 15,
   "id": "43a6d4a1",
   "metadata": {},
   "outputs": [],
   "source": [
    "# property_df = pd.read_csv('../data/curated/cleaned_property_data_new.csv', low_memory = False)\n",
    "property_df = pd.read_csv('../data/curated/data.csv', low_memory = False)\n",
    "property_df['cloest_train_station'] = property_df['cloest_train_station'].apply(eval)\n",
    "property_df['coordinates'] = property_df['coordinates'].apply(eval)"
   ]
  },
  {
   "cell_type": "code",
   "execution_count": null,
   "id": "05fbad1d",
   "metadata": {},
   "outputs": [],
   "source": [
    "# drop station for now\n",
    "property_df_temp = property_df.drop(columns = ['cloest_train_station', 'cloest_tram_stop', 'cloest_bus_stop'])\n"
   ]
  },
  {
   "cell_type": "code",
   "execution_count": null,
   "id": "331ffa78",
   "metadata": {},
   "outputs": [],
   "source": [
    "property_df_temp.columns"
   ]
  },
  {
   "cell_type": "code",
   "execution_count": null,
   "id": "2345845b",
   "metadata": {},
   "outputs": [],
   "source": [
    "Rental_list = []\n",
    "Others = []\n",
    "for col in property_df_temp.columns:\n",
    "    if 'Rental' in col:\n",
    "        Rental_list.append(col)\n",
    "    else:\n",
    "        Others.append(col)"
   ]
  },
  {
   "cell_type": "code",
   "execution_count": null,
   "id": "23afd77c",
   "metadata": {},
   "outputs": [],
   "source": [
    "#Other_df = property_df_temp[Others].copy()\n",
    "Other_df = property_df_temp.copy()\n",
    "# replace type name\n",
    "Other_df['type'] = Other_df['type'].replace('Apartment / Unit / Flat', 'Apartment / Unit / Flat / Penhouse')\n",
    "Other_df['type'] = Other_df['type'].replace('Penthouse', 'Apartment / Unit / Flat / Penhouse')\n",
    "\n",
    "# Change to numerical\n",
    "Other_df = Other_df.replace('-', -1)\n",
    "\n",
    "Other_df['furnitured'] = Other_df['furnitured'].replace('Yes', 1)\n",
    "Other_df['furnitured'] = Other_df['furnitured'].replace('No', 0)\n",
    "\n",
    "Other_df['pool'] = Other_df['pool'].replace('Yes', 1)\n",
    "Other_df['pool'] = Other_df['pool'].replace('No', 0)\n",
    "\n",
    "Other_df['gym'] = Other_df['gym'].replace('Yes', 1)\n",
    "Other_df['gym'] = Other_df['gym'].replace('No', 0)\n",
    "\n",
    "# fill\n",
    "Other_df = Other_df.fillna(-1)\n",
    "\n",
    "# drop\n",
    "Other_df = Other_df.drop(columns=['postcode'])"
   ]
  },
  {
   "cell_type": "code",
   "execution_count": null,
   "id": "ec9e0332",
   "metadata": {},
   "outputs": [],
   "source": [
    "pie_data = Other_df['type'].value_counts()\n",
    "labels = pie_data.index\n",
    "sizes = pie_data.values\n",
    "#get label and size\n",
    "fig, ax = plt.subplots(figsize = (10,10))\n",
    "#draw the pie char and modify the pie chart\n",
    "patches, texts, pcts = ax.pie(pie_data ,explode=None,autopct='%1.1f%%',\n",
    "                               pctdistance = 0.7, labels=labels,wedgeprops={'linewidth': 3.0, 'edgecolor': 'black'},\n",
    "                               textprops={'size': 'x-large'})\n",
    "\n",
    "plt.setp(pcts, color='white', fontweight='bold')  #label color\n",
    "# face color.\n",
    "for i, patch in enumerate(patches):\n",
    "    texts[i].set_color(patch.get_facecolor())\n",
    "plt.legend(labels,prop={'size': 12},bbox_to_anchor=(1.0, 1.0))\n",
    "plt.title(\"Pie Chart for Property Type\", x=0.5, y=1.1,fontsize=20)\n",
    "plt.axis('equal')\n",
    "plt.tight_layout()\n",
    "plt.show()\n",
    "\n",
    "fig.figure.savefig('../plots/type_pie.png')"
   ]
  },
  {
   "cell_type": "code",
   "execution_count": null,
   "id": "7cdbfe50",
   "metadata": {},
   "outputs": [],
   "source": [
    "Other_df['type'] = Other_df['type'].replace('Apartment / Unit / Flat / Penhouse', 1)\n",
    "Other_df['type'] = Other_df['type'].replace('Studio', 2)\n",
    "Other_df['type'] = Other_df['type'].replace('Townhouse', 3)\n",
    "Other_df['type'] = Other_df['type'].replace('House', 4)\n",
    "Other_df['type'] = Other_df['type'].replace('Penthouse', 5)"
   ]
  },
  {
   "cell_type": "code",
   "execution_count": null,
   "id": "50ad90f5",
   "metadata": {},
   "outputs": [],
   "source": [
    "#Using Boxplot to find the outliers for numerical attributes\n",
    "fig, axs = plt.subplots(1,1, figsize=(25,8),squeeze=False,constrained_layout = True)\n",
    "axs[0,0].boxplot(Other_df[\"rent_weekly\"], vert=False)\n",
    "axs[0,0].set_title('Boxplot for Weekly Rent',fontsize=15)\n",
    "axs[0,0].set_ylabel(\"AUD\",fontsize=15)\n",
    "plt.show()\n",
    "fig.figure.savefig('../plots/boxplot_before.png')"
   ]
  },
  {
   "cell_type": "code",
   "execution_count": null,
   "id": "21fd66ac",
   "metadata": {},
   "outputs": [],
   "source": [
    "plt.figure(figsize=(20, 10))\n",
    "plt.subplot(221)\n",
    "plt.title('weekly rent distribution', fontsize=18)\n",
    "sns.histplot(Other_df['rent_weekly'])"
   ]
  },
  {
   "cell_type": "code",
   "execution_count": null,
   "id": "797e346b",
   "metadata": {},
   "outputs": [],
   "source": [
    "Other_df[\"rent_weekly\"].describe()"
   ]
  },
  {
   "cell_type": "code",
   "execution_count": null,
   "id": "8a9189f5",
   "metadata": {},
   "outputs": [],
   "source": [
    "Q1 = Other_df[\"rent_weekly\"].quantile(0.25)\n",
    "Q3 = Other_df[\"rent_weekly\"].quantile(0.75)\n",
    "IQR = Q3 - Q1\n",
    "Other_df = Other_df[~((Other_df[\"rent_weekly\"] < (Q1 - 1.5 * IQR)) | (Other_df[\"rent_weekly\"] > (Q3 + 1.5 * IQR)))]\n",
    "Other_df = Other_df.reset_index(drop=True)"
   ]
  },
  {
   "cell_type": "code",
   "execution_count": null,
   "id": "5be05244",
   "metadata": {},
   "outputs": [],
   "source": [
    "#Using Boxplot to find the outliers for numerical attributes\n",
    "fig, axs = plt.subplots(1,1, figsize=(25,8),squeeze=False,constrained_layout = True)\n",
    "axs[0,0].boxplot(Other_df[\"rent_weekly\"], vert=False)\n",
    "axs[0,0].set_title('Boxplot for Weekly Rent after delete outlier',fontsize=15)\n",
    "axs[0,0].set_ylabel(\"AUD\",fontsize=15)\n",
    "plt.show()\n",
    "fig.figure.savefig('../plots/boxplot_after.png')"
   ]
  },
  {
   "cell_type": "code",
   "execution_count": null,
   "id": "d9563ffa",
   "metadata": {},
   "outputs": [],
   "source": [
    "plt.figure(figsize=(20, 10))\n",
    "plt.subplot(221)\n",
    "plt.title('weekly rent distribution after delete outlier', fontsize=18)\n",
    "sns.distplot(Other_df['rent_weekly'])"
   ]
  },
  {
   "cell_type": "code",
   "execution_count": null,
   "id": "02b005a0",
   "metadata": {},
   "outputs": [],
   "source": [
    "def convert_suburb(df):\n",
    "    suburb_lis = list(df['suburb'].unique())\n",
    "    for i in range(1,len(suburb_lis)+1):\n",
    "        df['suburb'] = df['suburb'].replace(suburb_lis[i-1],i)\n",
    "    return df"
   ]
  },
  {
   "cell_type": "code",
   "execution_count": null,
   "id": "eeb14771",
   "metadata": {},
   "outputs": [],
   "source": [
    "Other_df = convert_suburb(Other_df)"
   ]
  },
  {
   "cell_type": "code",
   "execution_count": null,
   "id": "a80ef46f",
   "metadata": {},
   "outputs": [],
   "source": [
    "plt.figure(figsize=(25,25),dpi=100)\n",
    "plt.title('Pearson Correlation bewteen features', fontsize=12)\n",
    "#sns.heatmap(Other_df.corr(), annot=Other_df.corr(), annot_kws={\"fontsize\":7})\n",
    "sns.heatmap(Other_df.corr())\n",
    "plt.tight_layout()\n",
    "plt.show()"
   ]
  },
  {
   "cell_type": "code",
   "execution_count": null,
   "id": "50a1e7c5",
   "metadata": {},
   "outputs": [],
   "source": [
    "# print(Other_df.corr().abs().iloc[0].to_frame().sort_values(by=['rent_weekly'],ascending=False).to_dict())\n",
    "#Other_df.corr().abs().sort_values(by=['rent_weekly'],ascending=True).iloc[0]"
   ]
  },
  {
   "cell_type": "code",
   "execution_count": null,
   "id": "f404c6b5",
   "metadata": {},
   "outputs": [],
   "source": [
    "other_lis = []\n",
    "column_lis = []\n",
    "for col in Other_df.columns:\n",
    "    if (('Rental_total' in col) and ('house' not in col) and ('flat' not in col)) or 'Rental' not in col:\n",
    "        column_lis.append(col)\n",
    "    else:\n",
    "        other_lis.append(col)"
   ]
  },
  {
   "cell_type": "code",
   "execution_count": null,
   "id": "9587eacf",
   "metadata": {},
   "outputs": [],
   "source": [
    "Other_df = Other_df[column_lis]"
   ]
  },
  {
   "cell_type": "code",
   "execution_count": null,
   "id": "b9af01c3",
   "metadata": {},
   "outputs": [],
   "source": [
    "plt.figure(figsize=(25,25),dpi=100)\n",
    "plt.title('Pearson Correlation bewteen features', fontsize=12)\n",
    "#sns.heatmap(Other_df.corr(), annot=Other_df.corr(), annot_kws={\"fontsize\":7})\n",
    "sns.heatmap(Other_df.corr())\n",
    "plt.tight_layout()\n",
    "plt.show()"
   ]
  },
  {
   "cell_type": "code",
   "execution_count": null,
   "id": "d287d3af",
   "metadata": {},
   "outputs": [],
   "source": [
    "Other_df.corr().abs().iloc[0].to_frame().sort_values(by=['rent_weekly'],ascending=False)"
   ]
  },
  {
   "cell_type": "code",
   "execution_count": null,
   "id": "7f17f250",
   "metadata": {},
   "outputs": [],
   "source": [
    "# chi2, mutual_info_classif, f_classif\n",
    "X = Other_df.copy()\n",
    "X = X.reset_index(drop=True)\n",
    "Y = X['rent_weekly'].copy()\n",
    "X = X.drop(columns=['rent_weekly','address','coordinates'])\n",
    "x_train, x_test, y_train, y_test = train_test_split(X,Y, train_size=0.7,test_size=0.3,random_state=42)"
   ]
  },
  {
   "cell_type": "code",
   "execution_count": null,
   "id": "00082141",
   "metadata": {},
   "outputs": [],
   "source": []
  },
  {
   "cell_type": "markdown",
   "id": "ddd3e477",
   "metadata": {},
   "source": [
    "#### Define model"
   ]
  },
  {
   "cell_type": "code",
   "execution_count": null,
   "id": "1851baa9",
   "metadata": {},
   "outputs": [],
   "source": [
    "def LR_acc(x_train, x_test, y_train, y_test):\n",
    "    \n",
    "    # initialise the model\n",
    "    lr_clf = LogisticRegression(max_iter = 10000)\n",
    "    # train the data\n",
    "    lr_clf.fit(x_train, y_train)\n",
    "\n",
    "    # check accuracy of prediction\n",
    "    train_acc = lr_clf.score(x_train, y_train)\n",
    "    test_acc = lr_clf.score(x_test, y_test)\n",
    "    \n",
    "    return train_acc, test_acc\n",
    "\n",
    "def LR_pred(x_train, x_test, y_train):\n",
    "    \n",
    "    # initialise the model\n",
    "    lr_clf = LogisticRegression(max_iter = 10000)\n",
    "    # train the data\n",
    "    lr_clf.fit(x_train, y_train)\n",
    "    # make a prediction\n",
    "    pred = lr_clf.predict(x_test)\n",
    "    \n",
    "    return pred"
   ]
  },
  {
   "cell_type": "code",
   "execution_count": null,
   "id": "1cc85896",
   "metadata": {},
   "outputs": [],
   "source": [
    "def SVM_acc(x_train, x_test, y_train, y_test):\n",
    "    # train the data\n",
    "    lsvc_clf = SVC(max_iter = 20000).fit(x_train, y_train)\n",
    "\n",
    "    # check accuracy of prediction\n",
    "    train_acc = lsvc_clf.score(x_train, y_train)\n",
    "    test_acc = lsvc_clf.score(x_test, y_test)\n",
    "    \n",
    "    return train_acc, test_acc\n",
    "\n",
    "def SVM_pred(x_train, x_test, y_train):\n",
    "    # train the data\n",
    "    lsvc_clf = SVC(max_iter = 20000).fit(x_train, y_train)\n",
    "    # make a prediction\n",
    "    pred = lsvc_clf.predict(x_test)\n",
    "    \n",
    "    return pred"
   ]
  },
  {
   "cell_type": "code",
   "execution_count": null,
   "id": "ad0b1138",
   "metadata": {},
   "outputs": [],
   "source": [
    "def LinearR_acc(x_train, x_test, y_train, y_test):\n",
    "    \n",
    "    # initialise the model\n",
    "    lr_clf = LinearRegression()\n",
    "    # train the data\n",
    "    lr_clf.fit(x_train, y_train)\n",
    "\n",
    "    # check accuracy of prediction\n",
    "    train_acc = lr_clf.score(x_train, y_train)\n",
    "    test_acc = lr_clf.score(x_test, y_test)\n",
    "    \n",
    "    return train_acc, test_acc\n",
    "\n",
    "def LinearR_pred(x_train, x_test, y_train):\n",
    "    \n",
    "    # initialise the model\n",
    "    lr_clf = LinearRegression()\n",
    "    # train the data\n",
    "    lr_clf.fit(x_train, y_train)\n",
    "    # make a prediction\n",
    "    pred = lr_clf.predict(x_test)\n",
    "    \n",
    "    return pred"
   ]
  },
  {
   "cell_type": "code",
   "execution_count": null,
   "id": "2d1c4313",
   "metadata": {},
   "outputs": [],
   "source": [
    "def Lasso_acc(x_train, x_test, y_train, y_test):\n",
    "    \n",
    "    # initialise the model\n",
    "    lasso_clf = Lasso(alpha=1.0)\n",
    "    # train the data\n",
    "    lasso_clf.fit(x_train, y_train)\n",
    "\n",
    "    # check accuracy of prediction\n",
    "    train_acc = lasso_clf.score(x_train, y_train)\n",
    "    test_acc = lasso_clf.score(x_test, y_test)\n",
    "    \n",
    "    return train_acc, test_acc\n",
    "\n",
    "def Lasso_pred(x_train, x_test, y_train):\n",
    "    \n",
    "    # initialise the model\n",
    "    lasso_clf = Lasso(alpha=1.0)\n",
    "    # train the data\n",
    "    lasso_clf.fit(x_train, y_train)\n",
    "    # make a prediction\n",
    "    pred = lasso_clf.predict(x_test)\n",
    "    \n",
    "    return pred"
   ]
  },
  {
   "cell_type": "code",
   "execution_count": null,
   "id": "3aae4d97",
   "metadata": {},
   "outputs": [],
   "source": [
    "def Ridge_acc(x_train, x_test, y_train, y_test):\n",
    "    \n",
    "    # initialise the model\n",
    "    ridge_clf = Ridge(alpha=1.0)\n",
    "    # train the data\n",
    "    ridge_clf.fit(x_train, y_train)\n",
    "\n",
    "    # check accuracy of prediction\n",
    "    train_acc = ridge_clf.score(x_train, y_train)\n",
    "    test_acc = ridge_clf.score(x_test, y_test)\n",
    "    \n",
    "    return train_acc, test_acc\n",
    "\n",
    "def Ridge_pred(x_train, x_test, y_train):\n",
    "    \n",
    "    # initialise the model\n",
    "    ridge_clf = Ridge(alpha=1.0)\n",
    "    # train the data\n",
    "    ridge_clf.fit(x_train, y_train)\n",
    "    # make a prediction\n",
    "    pred = ridge_clf.predict(x_test)\n",
    "    \n",
    "    return pred"
   ]
  },
  {
   "cell_type": "code",
   "execution_count": null,
   "id": "3b133724",
   "metadata": {},
   "outputs": [],
   "source": [
    "def GridSearch(pipeline, params, x, y):\n",
    "    # initilized Grid Search\n",
    "    grid_search = GridSearchCV(pipeline, params, n_jobs=-1, verbose=1)\n",
    "    print(\"Pipeline: \", [i for i, _ in pipeline.steps])\n",
    "    t=time.time()\n",
    "    grid_search.fit(x,y)\n",
    "    print(\"finish %0.2fs\\n\" % (time.time()-t))   #show the run time\n",
    "    \n",
    "    # show top 5 parameters\n",
    "    mean_score = grid_search.cv_results_[\"mean_test_score\"]\n",
    "    parementer_ls = grid_search.cv_results_[\"params\"]\n",
    "    for i in mean_score.argsort()[-5:]:\n",
    "        print(parementer_ls[i])\n",
    "        print(mean_score[i])\n",
    "        print(\"----\"*30)\n",
    "        \n",
    "        \n",
    "    return grid_search"
   ]
  },
  {
   "cell_type": "markdown",
   "id": "8d0ef2b5",
   "metadata": {},
   "source": [
    "#### Start to do modelling"
   ]
  },
  {
   "cell_type": "code",
   "execution_count": null,
   "id": "415c2559",
   "metadata": {},
   "outputs": [],
   "source": [
    "train_x_lis = []\n",
    "for col in Other_df.columns:\n",
    "    if (('Rental_total' not in col) and ('house' not in col) and ('flat' not in col)) or 'Rental' not in col:\n",
    "        train_x_lis.append(col)"
   ]
  },
  {
   "cell_type": "code",
   "execution_count": null,
   "id": "9994391d",
   "metadata": {},
   "outputs": [],
   "source": [
    "train_test_dataset = Other_df[train_x_lis]"
   ]
  },
  {
   "cell_type": "code",
   "execution_count": null,
   "id": "56f0bf66",
   "metadata": {},
   "outputs": [],
   "source": [
    "# # chi2, mutual_info_classif, f_classif\n",
    "# X = train_test_dataset.copy()\n",
    "# X = X.reset_index(drop=True)\n",
    "# Y = X['rent_weekly'].copy()\n",
    "# X = X.drop(columns=['rent_weekly','address','coordinates'])\n",
    "# x_train, x_test, y_train, y_test = train_test_split(X,Y, train_size=0.7,test_size=0.3,random_state=42)"
   ]
  },
  {
   "cell_type": "code",
   "execution_count": null,
   "id": "633477e0",
   "metadata": {},
   "outputs": [],
   "source": [
    "print(\"Linear Regression\")\n",
    "# check the time costed by model\n",
    "%time\n",
    "\n",
    "# using linear regression to test if the model is good for our dataset\n",
    "clf = LinearRegression()\n",
    "clf.fit(x_train, y_train)\n",
    "predict_y = clf.predict(x_test)\n",
    "\n",
    "#calculate rmse for model\n",
    "mse = mean_squared_error(y_test, predict_y)\n",
    "rmse = mse ** (1/2)\n",
    "print(\"The rmse is: \", rmse)"
   ]
  },
  {
   "cell_type": "code",
   "execution_count": null,
   "id": "e757fc72",
   "metadata": {},
   "outputs": [],
   "source": [
    "# using lasso regression to test if the model is good for our dataset\n",
    "print(\"Lasso Model\")\n",
    "# check the time costed by model\n",
    "%time\n",
    "\n",
    "# set max iter let the model go through all the train and test data\n",
    "clf = Lasso()\n",
    "clf.fit(x_train, y_train)\n",
    "predict_y = clf.predict(x_test)\n",
    "\n",
    "#calculate rmse for model\n",
    "mse = mean_squared_error(y_test, predict_y)\n",
    "rmse = mse ** (1/2)\n",
    "print(\"The rmse is: \", rmse)"
   ]
  },
  {
   "cell_type": "code",
   "execution_count": null,
   "id": "e3715c6d",
   "metadata": {},
   "outputs": [],
   "source": [
    "# using Ridge regression to test if the model is good for our dataset\n",
    "print(\"Ridge Model\")\n",
    "# check the time costed by model\n",
    "%time\n",
    "\n",
    "# set max iter let the model go through all the train and test data\n",
    "clf = Ridge(alpha=1)\n",
    "clf.fit(x_train, y_train)\n",
    "predict_y = clf.predict(x_test)\n",
    "\n",
    "#calculate rmse for model\n",
    "mse = mean_squared_error(y_test, predict_y)\n",
    "rmse = mse ** (1/2)\n",
    "print(\"The rmse is: \", rmse)"
   ]
  },
  {
   "cell_type": "markdown",
   "id": "978259de",
   "metadata": {},
   "source": [
    "## Predict"
   ]
  },
  {
   "cell_type": "code",
   "execution_count": null,
   "id": "47cbb120",
   "metadata": {},
   "outputs": [],
   "source": [
    "population_data = pd.read_csv(\"../data/curated/sa2.csv\")"
   ]
  },
  {
   "cell_type": "code",
   "execution_count": null,
   "id": "84d33d79",
   "metadata": {},
   "outputs": [],
   "source": [
    "population_data.columns"
   ]
  },
  {
   "cell_type": "code",
   "execution_count": null,
   "id": "d900734d",
   "metadata": {},
   "outputs": [],
   "source": [
    "# for income prediction\n",
    "income_median_df = population_data[['2014-15_median_income', '2015-16_median_income',\n",
    "                                    '2016-17_median_income', '2017-18_median_income',\n",
    "                                    '2018-19_median_income']]\n",
    "income_mean_df = population_data[['2014-15_mean_income', '2015-16_mean_income',\n",
    "                                '2016-17_mean_income', '2017-18_mean_income', \n",
    "                                '2018-19_mean_income']]\n",
    "sa2_code = population_data['SA2_Code'].to_list()"
   ]
  },
  {
   "cell_type": "markdown",
   "id": "304d63ea",
   "metadata": {},
   "source": [
    "### Predict population"
   ]
  },
  {
   "cell_type": "code",
   "execution_count": null,
   "id": "81936f45",
   "metadata": {},
   "outputs": [],
   "source": [
    "population_history = []\n",
    "population_history.append('SA2_Code')\n",
    "for i in population_data.columns:\n",
    "    if '_population' in i:\n",
    "        population_history.append(i)\n",
    "\n",
    "population_hist_data = population_data[population_history]\n",
    "\n",
    "population_hist_data = population_hist_data.set_index('SA2_Code')"
   ]
  },
  {
   "cell_type": "code",
   "execution_count": null,
   "id": "22689bb5",
   "metadata": {},
   "outputs": [],
   "source": [
    "population_hist_data"
   ]
  },
  {
   "cell_type": "code",
   "execution_count": null,
   "id": "cb2aa83b",
   "metadata": {},
   "outputs": [],
   "source": [
    "year = []\n",
    "for i in population_hist_data.columns:\n",
    "    temp = i.split('_')\n",
    "    year.append(int(temp[0][-2:]))"
   ]
  },
  {
   "cell_type": "code",
   "execution_count": null,
   "id": "86da8a92",
   "metadata": {},
   "outputs": [],
   "source": [
    "# check 1st sa2code population\n",
    "populationdata_in_each_sa2_code = pd.DataFrame()\n",
    "populationdata_in_each_sa2_code['Population'] = population_hist_data.iloc[0].tolist()\n",
    "populationdata_in_each_sa2_code['Year'] = year\n",
    "populationdata_in_each_sa2_code"
   ]
  },
  {
   "cell_type": "code",
   "execution_count": null,
   "id": "e6122c38",
   "metadata": {},
   "outputs": [],
   "source": [
    "# unique sa2 code population trend\n",
    "sa1 = population_hist_data.iloc[0].tolist()\n",
    "year = ['2001_population', '2002_population', '2003_population',\n",
    "       '2004_population', '2005_population', '2006_population',\n",
    "       '2007_population', '2008_population', '2009_population',\n",
    "       '2010_population', '2011_population', '2012_population',\n",
    "       '2013_population', '2014_population', '2015_population',\n",
    "       '2016_population', '2017_population', '2018_population',\n",
    "       '2019_population', '2020_population', '2021_population']"
   ]
  },
  {
   "cell_type": "code",
   "execution_count": null,
   "id": "80db23a0",
   "metadata": {},
   "outputs": [],
   "source": [
    "# plot population in one sa2 code\n",
    "plt.figure(figsize=(15,7))\n",
    "plt.xticks(rotation=45)\n",
    "plt.ylabel(\"Population\")\n",
    "plt.xlabel(\"Time line\")\n",
    "plt.title(\"Trends in population\")\n",
    "plt.plot(year,sa1, color = 'r')"
   ]
  },
  {
   "cell_type": "code",
   "execution_count": null,
   "id": "92f3425a",
   "metadata": {},
   "outputs": [],
   "source": [
    "# check 1st sa2code population\n",
    "x = populationdata_in_each_sa2_code['Year']\n",
    "y = populationdata_in_each_sa2_code['Population']\n",
    "linear_model = sm.formula.ols('Population ~ Year', data = populationdata_in_each_sa2_code).fit()\n",
    "print(linear_model.params)"
   ]
  },
  {
   "cell_type": "code",
   "execution_count": null,
   "id": "876cce75",
   "metadata": {},
   "outputs": [],
   "source": [
    "predict_population = pd.DataFrame()\n",
    "predict_year = [22,23,24,25,26,27]\n",
    "predict_population['Year'] = predict_year\n",
    "predict_population['Population'] = None\n",
    "predict_population"
   ]
  },
  {
   "cell_type": "code",
   "execution_count": null,
   "id": "6a585c20",
   "metadata": {},
   "outputs": [],
   "source": [
    "predicted_population = linear_model.predict(exog=predict_population['Year'], transform=True)\n",
    "predicted_population"
   ]
  },
  {
   "cell_type": "code",
   "execution_count": null,
   "id": "9e779d20",
   "metadata": {},
   "outputs": [],
   "source": [
    "train_predict_population = linear_model.predict(exog=x, transform=True)\n",
    "# The mean squared error\n",
    "print(\"Train mean squared error: %.2f\" % mean_squared_error(y, train_predict_population))\n",
    "rmse = np.sqrt(mean_squared_error(y, train_predict_population))\n",
    "print(\"Train RMSE is: \", rmse)"
   ]
  },
  {
   "cell_type": "code",
   "execution_count": null,
   "id": "bb831c9b",
   "metadata": {},
   "outputs": [],
   "source": [
    "predict_population['Population'] = predicted_population"
   ]
  },
  {
   "cell_type": "code",
   "execution_count": null,
   "id": "a8c63b8d",
   "metadata": {},
   "outputs": [],
   "source": [
    "dfs = [populationdata_in_each_sa2_code, predict_population]\n",
    "five_years_population = pd.concat(dfs)"
   ]
  },
  {
   "cell_type": "code",
   "execution_count": null,
   "id": "c8f43c6a",
   "metadata": {},
   "outputs": [],
   "source": [
    "five_years_population.reset_index().drop(columns='index')\n",
    "five_years_population['Year'] = ['2001_population', '2002_population', '2003_population',\n",
    "       '2004_population', '2005_population', '2006_population',\n",
    "       '2007_population', '2008_population', '2009_population',\n",
    "       '2010_population', '2011_population', '2012_population',\n",
    "       '2013_population', '2014_population', '2015_population',\n",
    "       '2016_population', '2017_population', '2018_population',\n",
    "       '2019_population', '2020_population', '2021_population',\n",
    "       '2022_population', '2023_population', '2024_population',\n",
    "       '2025_population', '2026_population', '2027_population']"
   ]
  },
  {
   "cell_type": "code",
   "execution_count": null,
   "id": "85ca5328",
   "metadata": {},
   "outputs": [],
   "source": [
    "five_years_population"
   ]
  },
  {
   "cell_type": "code",
   "execution_count": null,
   "id": "91287680",
   "metadata": {},
   "outputs": [],
   "source": [
    "# plot predict population in one sa2 code\n",
    "plt.figure(figsize=(20,7))\n",
    "plt.xticks(rotation=45)\n",
    "plt.ylabel(\"Population\")\n",
    "plt.xlabel(\"Time line\")\n",
    "plt.title(\"Trends in predict population\")\n",
    "plt.plot(five_years_population['Year'],five_years_population['Population'], color = 'r')"
   ]
  },
  {
   "cell_type": "code",
   "execution_count": null,
   "id": "8397d61d",
   "metadata": {},
   "outputs": [],
   "source": [
    "All_sa2_code_predict_population = pd.DataFrame()\n",
    "year = []\n",
    "for i in population_hist_data.columns:\n",
    "    temp = i.split('_')\n",
    "    year.append(int(temp[0][-2:]))\n",
    "\n",
    "\n",
    "predict_population_list = {}\n",
    "for i in range(len(population_hist_data)):\n",
    "\n",
    "    # create df ready to fit each row\n",
    "    populationdata_in_each_sa2_code = pd.DataFrame()\n",
    "    populationdata_in_each_sa2_code['Population'] = population_hist_data.iloc[i].tolist()\n",
    "    populationdata_in_each_sa2_code['Year'] = year\n",
    "\n",
    "    # create df ready to predict\n",
    "    predict_population = pd.DataFrame()\n",
    "    predict_year = [22,23,24,25,26,27]\n",
    "    predict_population['Year'] = predict_year\n",
    "    predict_population['Population'] = None\n",
    "    \n",
    "    # build linear model\n",
    "    linear_model = sm.formula.ols('Population ~ Year', data = populationdata_in_each_sa2_code).fit()\n",
    "\n",
    "    # predict population\n",
    "    predicted_population = linear_model.predict(exog=predict_population['Year'], transform=True)\n",
    "    # print(predicted_population)\n",
    "    # put predicted population in df\n",
    "    predict_population['Population'] = predicted_population\n",
    "\n",
    "    # concat history population and predict population\n",
    "    dfs = [populationdata_in_each_sa2_code, predict_population]\n",
    "    five_years_population = pd.concat(dfs)\n",
    "    five_years_population = five_years_population.reset_index().drop(columns='index')\n",
    "    five_years_population['Year'] = ['2001_population', '2002_population', '2003_population',\n",
    "                                    '2004_population', '2005_population', '2006_population',\n",
    "                                    '2007_population', '2008_population', '2009_population',\n",
    "                                    '2010_population', '2011_population', '2012_population',\n",
    "                                    '2013_population', '2014_population', '2015_population',\n",
    "                                    '2016_population', '2017_population', '2018_population',\n",
    "                                    '2019_population', '2020_population', '2021_population',\n",
    "                                    '2022_population', '2023_population', '2024_population',\n",
    "                                    '2025_population', '2026_population', '2027_population']\n",
    "                                    \n",
    "    five_years_population['SA2_Code'] = population_hist_data.index[i]\n",
    "\n",
    "    predict_population_list[i] = five_years_population\n",
    "    # predict_population_list.append(five_years_population)"
   ]
  },
  {
   "cell_type": "code",
   "execution_count": null,
   "id": "89fbfabe",
   "metadata": {},
   "outputs": [],
   "source": [
    "predict_population_list[0].transpose()"
   ]
  },
  {
   "cell_type": "code",
   "execution_count": null,
   "id": "39c5d14d",
   "metadata": {},
   "outputs": [],
   "source": [
    "predict_population_df = pd.DataFrame()\n",
    "predict_population_df = predict_population_list[0].transpose()\n",
    "for i in range(1, len(predict_population_list)):\n",
    "    # print(i)\n",
    "    predict_population_df = predict_population_df.append(predict_population_list[i].transpose())\n",
    "predict_population_df"
   ]
  },
  {
   "cell_type": "code",
   "execution_count": null,
   "id": "fb557940",
   "metadata": {},
   "outputs": [],
   "source": [
    "population_data['SA2_Code'].astype('str')"
   ]
  },
  {
   "cell_type": "code",
   "execution_count": null,
   "id": "63c07f25",
   "metadata": {},
   "outputs": [],
   "source": [
    "year_list = predict_population_df.loc['Year'].iloc[0].tolist()\n",
    "\n",
    "final_predict_population_df = pd.DataFrame()\n",
    "\n",
    "final_predict_population_df = predict_population_df.loc['Population']\n",
    "final_predict_population_df.index = population_data['SA2_Code'].astype('str')\n",
    "final_predict_population_df.columns = year_list\n",
    "final_predict_population_df"
   ]
  },
  {
   "cell_type": "code",
   "execution_count": null,
   "id": "18c86054",
   "metadata": {},
   "outputs": [],
   "source": [
    "final_predict_population_df.to_csv('../data/curated/predicted_population.csv')"
   ]
  },
  {
   "cell_type": "markdown",
   "id": "3f2011ed",
   "metadata": {},
   "source": [
    "### Predict income"
   ]
  },
  {
   "cell_type": "code",
   "execution_count": null,
   "id": "77b2cb06",
   "metadata": {},
   "outputs": [],
   "source": [
    "def linear_model_function(x_train, y_train, x_predict):\n",
    "    train_df = pd.DataFrame()\n",
    "    predict_df = pd.DataFrame()\n",
    "    train_df['X'] = x_train\n",
    "    train_df['Y'] = y_train\n",
    "    predict_df['X'] = x_predict\n",
    "    linear_model = sm.formula.ols('Y ~ X', data = train_df).fit()\n",
    "    y_predict = linear_model.predict(exog=predict_df['X'], transform=True)\n",
    "    predict_df['Y'] = y_predict\n",
    "    print(linear_model.params)\n",
    "    merge_list = [train_df, predict_df]\n",
    "    final_df = pd.concat(merge_list)\n",
    "    return final_df"
   ]
  },
  {
   "cell_type": "code",
   "execution_count": null,
   "id": "045ca4bb",
   "metadata": {},
   "outputs": [],
   "source": []
  },
  {
   "cell_type": "code",
   "execution_count": null,
   "id": "e00f3974",
   "metadata": {},
   "outputs": [],
   "source": [
    "\n",
    "income_timestep = income_median_df.columns.to_list()"
   ]
  },
  {
   "cell_type": "code",
   "execution_count": null,
   "id": "7a17b136",
   "metadata": {},
   "outputs": [],
   "source": [
    "income_result_df = pd.DataFrame()\n",
    "for index in range(len(income_median_df)):\n",
    "    income_value = income_median_df.iloc[index, :].to_list()\n",
    "    income_train_year = [i for i in range(14, 19)]\n",
    "    income_predict_year = [i for i in range(19, 28)]\n",
    "    income_final_df = linear_model_function(income_train_year, income_value, income_predict_year)\n",
    "    result = [income_result_df, income_final_df.transpose()]\n",
    "    income_result_df = pd.concat(result)"
   ]
  },
  {
   "cell_type": "code",
   "execution_count": null,
   "id": "11f71ec6",
   "metadata": {},
   "outputs": [],
   "source": [
    "for i in range(19, 28):\n",
    "    income_timestep.append(f'20{i}-{i+1}_median_income')\n"
   ]
  },
  {
   "cell_type": "code",
   "execution_count": null,
   "id": "57a8f9b3",
   "metadata": {},
   "outputs": [],
   "source": [
    "income_result_df = income_result_df.loc['Y', :].copy()\n",
    "income_result_df.columns = income_timestep\n",
    "income_result_df['SA2_Code'] = sa2_code\n",
    "income_result_df['SA2_Code'] = income_result_df['SA2_Code'].astype('str')\n",
    "income_result_df = income_result_df.set_index('SA2_Code')\n",
    "income_result_df"
   ]
  },
  {
   "cell_type": "code",
   "execution_count": null,
   "id": "fd834d78",
   "metadata": {},
   "outputs": [],
   "source": [
    "income_result_df.to_csv('../data/curated/predict_income.csv')"
   ]
  },
  {
   "cell_type": "markdown",
   "id": "d2ad451c",
   "metadata": {},
   "source": [
    "### Predict affordable"
   ]
  },
  {
   "cell_type": "code",
   "execution_count": null,
   "id": "60e967ac",
   "metadata": {},
   "outputs": [],
   "source": [
    "affordable_df = pd.read_csv(\"../data/curated/affordable.csv\")"
   ]
  },
  {
   "cell_type": "code",
   "execution_count": null,
   "id": "c30c6c5d",
   "metadata": {},
   "outputs": [],
   "source": [
    "affordable_df.shape"
   ]
  },
  {
   "cell_type": "code",
   "execution_count": null,
   "id": "f49732f8",
   "metadata": {},
   "outputs": [],
   "source": [
    "affordable_1r_df = affordable_df.loc[:, 'Percent_1r_Mar_2000':'Percent_1r_Sep_2021']\n",
    "affordable_2r_df = affordable_df.loc[:, 'Percent_2r_Mar_2000':'Percent_2r_Sep_2021']\n",
    "affordable_3r_df = affordable_df.loc[:, 'Percent_3r_Mar_2000':'Percent_3r_Sep_2021']\n",
    "affordable_4r_df = affordable_df.loc[:, 'Percent_4r_Mar_2000':'Percent_4r_Sep_2021']\n",
    "affordable_total_df = affordable_df.loc[:, 'Percent_total_Mar_2000':'Percent_total_Sep_2021']\n",
    "LGA = affordable_df['LGA']\n",
    "LGA"
   ]
  },
  {
   "cell_type": "code",
   "execution_count": null,
   "id": "0bbabc51",
   "metadata": {},
   "outputs": [],
   "source": [
    "# affordable_1r_value = affordable_1r_df.iloc[0,:].to_list()\n",
    "# affordable_2r_value = affordable_2r_df.iloc[0,:].to_list()\n",
    "affordable_total_value = affordable_total_df.iloc[2,:].to_list()\n",
    "# affordable_timestep = affordable_total_df.columns.to_list()\n",
    "# affordable_timestep"
   ]
  },
  {
   "cell_type": "code",
   "execution_count": null,
   "id": "5bbe6bb6",
   "metadata": {},
   "outputs": [],
   "source": [
    "affordable_timestep = affordable_total_df.columns.to_list()\n",
    "affordable_timestep"
   ]
  },
  {
   "cell_type": "code",
   "execution_count": null,
   "id": "43b68bc7",
   "metadata": {},
   "outputs": [],
   "source": [
    "affordable_month_list = []\n",
    "for year in range(22):\n",
    "    for month in range(3,15,3):\n",
    "        if year == 21 and month == 12:\n",
    "            break\n",
    "        else:\n",
    "            months = year * 12 + month\n",
    "            affordable_month_list.append(months)\n",
    "            # print(year,'-',month)\n",
    "affordable_month_list"
   ]
  },
  {
   "cell_type": "code",
   "execution_count": null,
   "id": "cf6b3dc2",
   "metadata": {},
   "outputs": [],
   "source": [
    "affordable_year_list = [i for i in range(22)]\n",
    "affordable_year_1r_value = []\n",
    "affordable_year_2r_value = []\n",
    "affordable_year_total_value = []\n",
    "\n",
    "index = 0\n",
    "for year in affordable_year_list:\n",
    "    if year == 21:\n",
    "        # affordable_year_1r_value.append(np.mean(affordable_1r_value[index:index+3]))\n",
    "        # affordable_year_2r_value.append(np.mean(affordable_2r_value[index:index+3]))\n",
    "        affordable_year_total_value.append(np.mean(affordable_total_value[index:index+3]))\n",
    "    else:\n",
    "        # affordable_year_1r_value.append(np.mean(affordable_1r_value[index:index+4]))\n",
    "        # affordable_year_2r_value.append(np.mean(affordable_2r_value[index:index+4]))\n",
    "        affordable_year_total_value.append(np.mean(affordable_total_value[index:index+4]))\n",
    "    index += 4\n",
    "# affordable_year_total_value"
   ]
  },
  {
   "cell_type": "code",
   "execution_count": null,
   "id": "356838a4",
   "metadata": {},
   "outputs": [],
   "source": [
    "# plot predict population in one sa2 code\n",
    "from matplotlib import markers\n",
    "\n",
    "\n",
    "plt.figure(figsize=(20,7))\n",
    "plt.xticks(rotation=90)\n",
    "plt.ylabel(\"Affordable Percentage\")\n",
    "plt.xlabel(\"Time line\")\n",
    "plt.title(\"Affordable Trend in Alpine\")\n",
    "# month plot\n",
    "# plt.scatter(affordable_timestep, affordable_1r_value, color = 'r')\n",
    "# plt.plot(affordable_timestep, affordable_1r_value, color = 'r')\n",
    "# plt.plot(affordable_timestep, affordable_2r_value, color = 'g')\n",
    "# plt.plot(affordable_timestep, affordable_total_value, color = 'b')\n",
    "\n",
    "# year plot\n",
    "# plt.plot(affordable_year_list, affordable_year_1r_value, color = 'b')\n",
    "plt.plot(affordable_year_list, affordable_year_total_value, color = 'b', marker='o')\n",
    "plt.ylim(0, 1.1)\n",
    "plt.show()"
   ]
  },
  {
   "cell_type": "code",
   "execution_count": null,
   "id": "64ef6930",
   "metadata": {},
   "outputs": [],
   "source": [
    "plt.figure(figsize=(20,10))\n",
    "# sns.regplot(x=affordable_month_list, y=affordable_1r_value, line_kws={'color': 'r'}, \n",
    "#             x_estimator=np.mean)\n",
    "# sns.regplot(x=affordable_month_list, y=affordable_2r_value, line_kws={'color': 'r'}, \n",
    "#             x_estimator=np.mean)\n",
    "plt.subplot(221)\n",
    "sns.regplot(x=affordable_month_list, y=affordable_total_value, line_kws={'color': 'r'}, \n",
    "            x_estimator=np.mean)\n",
    "plt.title('Affordable for total in Alpine')\n",
    "plt.ylabel(\"Affordable Percentage\")\n",
    "plt.xlabel(\"Time line(month)\")\n",
    "\n",
    "plt.subplot(222)\n",
    "sns.regplot(x=affordable_month_list, y=np.power(affordable_total_value, 2), line_kws={'color': 'r'}, \n",
    "            x_estimator=np.mean)\n",
    "plt.title('Square Affordable total Bedroom in Alpine')\n",
    "plt.ylabel(\"Affordable Percentage^2\")\n",
    "plt.xlabel(\"Time line(month)\")\n",
    "plt.show()"
   ]
  },
  {
   "cell_type": "code",
   "execution_count": null,
   "id": "1691040a",
   "metadata": {},
   "outputs": [],
   "source": [
    "affordable_timestep[:4][3][:-2]"
   ]
  },
  {
   "cell_type": "code",
   "execution_count": null,
   "id": "861b4e08",
   "metadata": {},
   "outputs": [],
   "source": [
    "affordable_predict_month_list = []\n",
    "affordable_total_time = affordable_timestep.copy()\n",
    "\n",
    "i = 0\n",
    "for year in range(21, 28):\n",
    "    for month in range(3,15,3):\n",
    "        if month == 3:\n",
    "            i = 0\n",
    "        elif month == 6:\n",
    "            i += 1\n",
    "        elif month == 9:\n",
    "            i += 1\n",
    "        else:\n",
    "            i += 1\n",
    "        \n",
    "        if year == 21:\n",
    "            if month != 12:\n",
    "                continue\n",
    "            else:\n",
    "                months = year * 12 + month\n",
    "                category = affordable_timestep[:4][i][:-2] + str(year)\n",
    "                affordable_total_time.append(category)\n",
    "                affordable_predict_month_list.append(months)\n",
    "        else:\n",
    "            months = year * 12 + month\n",
    "            category = affordable_timestep[:4][i][:-2] + str(year)\n",
    "            affordable_total_time.append(category)\n",
    "            affordable_predict_month_list.append(months)\n",
    "# affordable_predict_month_list"
   ]
  },
  {
   "cell_type": "markdown",
   "id": "be9b81ca",
   "metadata": {},
   "source": [
    "built model"
   ]
  },
  {
   "cell_type": "code",
   "execution_count": null,
   "id": "45a412d3",
   "metadata": {},
   "outputs": [],
   "source": [
    "affordable_total_value = affordable_total_df.iloc[2,:].to_list()"
   ]
  },
  {
   "cell_type": "code",
   "execution_count": null,
   "id": "6d3704d8",
   "metadata": {},
   "outputs": [],
   "source": [
    "affordable_train_df = pd.DataFrame()\n",
    "affordable_predict_df = pd.DataFrame()\n",
    "affordable_train_df['Month'] = affordable_month_list\n",
    "# affordable_train_df['Affordable'] = np.power(affordable_total_value, 2)\n",
    "affordable_train_df['Affordable'] = affordable_total_value\n",
    "affordable_predict_df['Month'] = affordable_predict_month_list\n",
    "\n",
    "linear_model_1 = sm.formula.ols('Affordable ~ Month', data = affordable_train_df).fit()\n",
    "predicted_population_1 = linear_model_1.predict(exog=affordable_predict_df['Month'], transform=True)\n",
    "affordable_predict_df['Affordable'] = predicted_population_1"
   ]
  },
  {
   "cell_type": "code",
   "execution_count": null,
   "id": "6f119c6a",
   "metadata": {},
   "outputs": [],
   "source": [
    "# check the performance of model\n",
    "train_predict_affordable = linear_model_1.predict(exog=affordable_train_df, transform=True)\n",
    "# The mean squared error\n",
    "print(\"Train mean squared error: %.2f\" % mean_squared_error(affordable_total_value, train_predict_affordable))\n",
    "rmse = np.sqrt(mean_squared_error(affordable_total_value, train_predict_affordable))\n",
    "print(\"Train RMSE is: \", rmse)"
   ]
  },
  {
   "cell_type": "code",
   "execution_count": null,
   "id": "2d29a0cb",
   "metadata": {},
   "outputs": [],
   "source": [
    "affordable_total_time"
   ]
  },
  {
   "cell_type": "code",
   "execution_count": null,
   "id": "baeb7f15",
   "metadata": {},
   "outputs": [],
   "source": [
    "affordable_train_df"
   ]
  },
  {
   "cell_type": "code",
   "execution_count": null,
   "id": "eb8a46fa",
   "metadata": {},
   "outputs": [],
   "source": [
    "affordable_predict_df"
   ]
  },
  {
   "cell_type": "code",
   "execution_count": null,
   "id": "771e5207",
   "metadata": {},
   "outputs": [],
   "source": [
    "affordable_final_list = affordable_total_value.copy()\n",
    "affordable_final_month = affordable_month_list.copy()\n",
    "for i in range(len(predicted_population_1)):\n",
    "    # affordable_final_list.append(np.sqrt(predicted_population_1[i]))\n",
    "    affordable_final_list.append(predicted_population_1[i])\n",
    "    affordable_final_month.append(affordable_predict_month_list[i])\n"
   ]
  },
  {
   "cell_type": "code",
   "execution_count": null,
   "id": "e4da0445",
   "metadata": {},
   "outputs": [],
   "source": [
    "plt.figure(figsize=(15,8))\n",
    "plt.plot(affordable_final_month, affordable_final_list, marker='*')\n",
    "plt.title('Square Affordable total Bedroom in Alpine')\n",
    "plt.ylabel(\"Affordable Percentage\")\n",
    "plt.xlabel(\"Time line(month)\")\n",
    "plt.show()"
   ]
  },
  {
   "cell_type": "code",
   "execution_count": null,
   "id": "53064f5a",
   "metadata": {},
   "outputs": [],
   "source": []
  },
  {
   "cell_type": "markdown",
   "id": "58a98bd9",
   "metadata": {},
   "source": [
    "### Predict house price"
   ]
  },
  {
   "cell_type": "code",
   "execution_count": null,
   "id": "76055de4",
   "metadata": {},
   "outputs": [],
   "source": [
    "house_price_data = pd.read_csv('../data/curated/house_price.csv')"
   ]
  },
  {
   "cell_type": "code",
   "execution_count": null,
   "id": "83e6d626",
   "metadata": {},
   "outputs": [],
   "source": [
    "locality = house_price_data['locality']"
   ]
  },
  {
   "cell_type": "code",
   "execution_count": null,
   "id": "e6d44ec3",
   "metadata": {},
   "outputs": [],
   "source": [
    "house_price_data = house_price_data.replace('', 0)"
   ]
  },
  {
   "cell_type": "code",
   "execution_count": null,
   "id": "fd5e61f5",
   "metadata": {},
   "outputs": [],
   "source": [
    "house_price_data = house_price_data.replace('-', 0)"
   ]
  },
  {
   "cell_type": "code",
   "execution_count": null,
   "id": "916c719e",
   "metadata": {},
   "outputs": [],
   "source": [
    "house_price_data =  house_price_data.replace(np.nan, 0)"
   ]
  },
  {
   "cell_type": "code",
   "execution_count": null,
   "id": "3f4dd7c1",
   "metadata": {},
   "outputs": [],
   "source": [
    "house_price_data.loc[411]"
   ]
  },
  {
   "cell_type": "code",
   "execution_count": null,
   "id": "92d4ac78",
   "metadata": {},
   "outputs": [],
   "source": [
    "house_price_data.columns"
   ]
  },
  {
   "cell_type": "code",
   "execution_count": null,
   "id": "7adc6099",
   "metadata": {},
   "outputs": [],
   "source": [
    "price_median = ['2010 Median', '2011 Median', '2012 Median', '2013 Median',\n",
    "       '2014 Median', '2015 Median', '2016 Median', '2017 Median',\n",
    "       '2018 Median', '2019 Median', '2020 Median']\n",
    "\n",
    "train_median_price = house_price_data[price_median]\n",
    "train_median_price"
   ]
  },
  {
   "cell_type": "code",
   "execution_count": null,
   "id": "799626ed",
   "metadata": {},
   "outputs": [],
   "source": [
    "plt.figure(figsize=(15,8))\n",
    "plt.plot(price_median, train_median_price.loc[0].astype('int'), marker='*')\n",
    "plt.title('Price median trand')\n",
    "plt.ylabel('price')\n",
    "plt.xlabel('Time line')\n",
    "plt.show()"
   ]
  },
  {
   "cell_type": "code",
   "execution_count": null,
   "id": "e8e7a139",
   "metadata": {},
   "outputs": [],
   "source": [
    "# predict_median_price = linear_model_function(x_train, y_train, x_predict)\n",
    "predict_median_price = pd.DataFrame()\n",
    "for index in range(len(train_median_price)):\n",
    "    median_price_value = train_median_price.iloc[index, :].astype('float').to_list()\n",
    "    # print(median_price_value)\n",
    "    median_price_train_year = [i for i in range(10, 21)]\n",
    "    median_price_predict_year = [i for i in range(21, 28)]\n",
    "    median_final_df = linear_model_function(median_price_train_year, median_price_value, median_price_predict_year)\n",
    "    result = [predict_median_price, median_final_df.transpose()]\n",
    "    predict_median_price = pd.concat(result)"
   ]
  },
  {
   "cell_type": "code",
   "execution_count": null,
   "id": "d5f4e644",
   "metadata": {},
   "outputs": [],
   "source": [
    "predict_median_price = predict_median_price.astype('int')"
   ]
  },
  {
   "cell_type": "code",
   "execution_count": null,
   "id": "db07a927",
   "metadata": {},
   "outputs": [],
   "source": [
    "median_price_timeline = []\n",
    "# locality = house_price_data['locality']\n",
    "for i in range(10, 28):\n",
    "    median_price_timeline.append(f'20{i}_median')"
   ]
  },
  {
   "cell_type": "code",
   "execution_count": null,
   "id": "848ddc10",
   "metadata": {},
   "outputs": [],
   "source": [
    "predict_median_price = predict_median_price.loc['Y', :].copy()\n",
    "predict_median_price"
   ]
  },
  {
   "cell_type": "code",
   "execution_count": null,
   "id": "a0657a22",
   "metadata": {},
   "outputs": [],
   "source": [
    "predict_median_price.columns = median_price_timeline\n",
    "predict_median_price"
   ]
  },
  {
   "cell_type": "code",
   "execution_count": null,
   "id": "e38f88d3",
   "metadata": {},
   "outputs": [],
   "source": [
    "predict_median_price['locality'] = house_price_data['locality'].tolist()\n",
    "predict_median_price"
   ]
  },
  {
   "cell_type": "code",
   "execution_count": null,
   "id": "ee752a72",
   "metadata": {},
   "outputs": [],
   "source": [
    "predict_median_price = predict_median_price.set_index('locality')\n",
    "predict_median_price"
   ]
  },
  {
   "cell_type": "code",
   "execution_count": null,
   "id": "75c2d53b",
   "metadata": {},
   "outputs": [],
   "source": [
    "predict_median_price.to_csv('../data/curated/predict_house_price_median.csv')"
   ]
  },
  {
   "cell_type": "markdown",
   "id": "27e24fd4",
   "metadata": {},
   "source": [
    "### Predict rental median"
   ]
  },
  {
   "cell_type": "code",
   "execution_count": null,
   "id": "0639bbd6",
   "metadata": {},
   "outputs": [],
   "source": [
    "rental_median_data = pd.read_csv('../data/curated/rental_median.csv')"
   ]
  },
  {
   "cell_type": "code",
   "execution_count": null,
   "id": "265e3cc4",
   "metadata": {},
   "outputs": [],
   "source": [
    "rental_median_data['Rental_total_Jun_2000']"
   ]
  },
  {
   "cell_type": "code",
   "execution_count": null,
   "id": "461cfa53",
   "metadata": {},
   "outputs": [],
   "source": [
    "column_names = []\n",
    "for i in rental_median_data.columns:\n",
    "    if 'total' in i and 'b' not in i:\n",
    "        column_names.append(i)\n",
    "\n",
    "column_names"
   ]
  },
  {
   "cell_type": "code",
   "execution_count": null,
   "id": "72ba1e7a",
   "metadata": {},
   "outputs": [],
   "source": [
    "rental_data = rental_median_data[column_names]\n",
    "rental_data = rental_data.replace('-', 0)\n",
    "rental_data"
   ]
  },
  {
   "cell_type": "code",
   "execution_count": null,
   "id": "8bfa186e",
   "metadata": {},
   "outputs": [],
   "source": [
    "plt.figure(figsize=(9,7))\n",
    "lag_plot(rental_data.loc[1].astype('int'))\n",
    "plt.show()"
   ]
  },
  {
   "cell_type": "code",
   "execution_count": null,
   "id": "94c30d71",
   "metadata": {},
   "outputs": [],
   "source": [
    "from pandas.plotting import autocorrelation_plot\n",
    "plt.figure(figsize=(9,7))\n",
    "autocorrelation_plot(rental_data.loc[1].astype('int'))\n",
    "plt.show()"
   ]
  },
  {
   "cell_type": "code",
   "execution_count": null,
   "id": "72dfe5f7",
   "metadata": {},
   "outputs": [],
   "source": [
    "from statsmodels.graphics.tsaplots import plot_acf\n",
    "plt.figure(figsize=(9,7))\n",
    "plot_acf(rental_data.loc[1].astype('int'), lags=70)\n",
    "plt.show()"
   ]
  },
  {
   "cell_type": "code",
   "execution_count": null,
   "id": "ad6dd70c",
   "metadata": {},
   "outputs": [],
   "source": [
    "a = rental_data.loc[0].astype('int')\n",
    "a"
   ]
  },
  {
   "cell_type": "code",
   "execution_count": null,
   "id": "029520c8",
   "metadata": {},
   "outputs": [],
   "source": [
    "df.dtypes"
   ]
  },
  {
   "cell_type": "code",
   "execution_count": null,
   "id": "ff99a641",
   "metadata": {},
   "outputs": [],
   "source": [
    "values = pd.DataFrame(rental_data.loc[0].astype('float').values)\n",
    "df = pd.concat([values.shift(1), values], axis=1)\n",
    "df = df.fillna(0)\n",
    "df.columns = ['t-1', 't+1']\n",
    "X = df.values\n",
    "################\n",
    "train, test = X[1:len(X)-7], X[len(X)-7:]\n",
    "train_X, train_y = train[:,0], train[:,1]\n",
    "test_X, test_y = test[:,0], test[:,1]\n",
    "\n",
    "\n",
    "# persistence model\n",
    "def model_persistence(x):\n",
    "\treturn x\n",
    "\n",
    "# walk-forward validation\n",
    "predictions = list()\n",
    "for x in test_X:\n",
    "\tyhat = model_persistence(x)\n",
    "\tpredictions.append(yhat)\n",
    "test_score = mean_squared_error(test_y, predictions)\n",
    "print('Test MSE: %.3f' % test_score)\n",
    "# plot predictions vs expected\n",
    "plt.plot(test_y)\n",
    "plt.plot(predictions, color='red')\n",
    "plt.show()"
   ]
  },
  {
   "cell_type": "code",
   "execution_count": null,
   "id": "e2b76636",
   "metadata": {},
   "outputs": [],
   "source": [
    "# create and evaluate an updated autoregressive model\n",
    "from statsmodels.tsa.ar_model import AutoReg\n",
    "# split dataset\n",
    "X = rental_data.loc[0].astype('float').values\n",
    "train, test = X[1:len(X)-7], X[len(X)-7:]\n",
    "\n",
    "# train autoregression\n",
    "window = 29\n",
    "model = AutoReg(train, lags=29)\n",
    "model_fit = model.fit()\n",
    "coef = model_fit.params\n",
    "\n",
    "# walk forward over time steps in test\n",
    "history = train[len(train)-window:]\n",
    "history = [history[i] for i in range(len(history))]\n",
    "predictions = list()\n",
    "\n",
    "for t in range(len(test)):\n",
    "\tlength = len(history)\n",
    "\tlag = [history[i] for i in range(length-window,length)]\n",
    "\tyhat = coef[0]\n",
    "\tfor d in range(window):\n",
    "\t\tyhat += coef[d+1] * lag[window-d-1]\n",
    "\tobs = test[t]\n",
    "\tpredictions.append(yhat)\n",
    "\thistory.append(obs)\n",
    "\tprint('predicted=%f, expected=%f' % (yhat, obs))\n",
    "rmse = np.sqrt(mean_squared_error(test, predictions))\n",
    "print('Test RMSE: %.3f' % rmse)\n",
    "\n",
    "# plot\n",
    "plt.plot(test)\n",
    "plt.plot(predictions, color='red')\n",
    "plt.show()"
   ]
  },
  {
   "cell_type": "code",
   "execution_count": null,
   "id": "7ceef335",
   "metadata": {},
   "outputs": [],
   "source": [
    "rental_pred_name = ['Sep_2021',\n",
    "\t\t\t\t\t'Dec_2021',\n",
    "\t\t\t\t\t'Mar_2022',\n",
    "\t\t\t\t\t'Jun_2022',\n",
    "\t\t\t\t\t'Sep_2022',\n",
    "\t\t\t\t\t'Dec_2022',\n",
    "\t\t\t\t\t'Mar_2023',\n",
    "\t\t\t\t\t'Jun_2023',\n",
    "\t\t\t\t\t'Sep_2023',\n",
    "\t\t\t\t\t'Dec_2023',\n",
    "\t\t\t\t\t'Mar_2024',\n",
    "\t\t\t\t\t'Jun_2024',\n",
    "\t\t\t\t\t'Sep_2024',\n",
    "\t\t\t\t\t'Dec_2024',\n",
    "\t\t\t\t\t'Mar_2025',\n",
    "\t\t\t\t\t'Jun_2025',\n",
    "\t\t\t\t\t'Sep_2025',\n",
    "\t\t\t\t\t'Dec_2025',\n",
    "\t\t\t\t\t'Mar_2026',\n",
    "\t\t\t\t\t'Jun_2026',\n",
    "\t\t\t\t\t'Sep_2026',\n",
    "\t\t\t\t\t'Dec_2026',\n",
    "\t\t\t\t\t'Mar_2027',\n",
    "\t\t\t\t\t'Jun_2027',\n",
    "\t\t\t\t\t'Sep_2027',\n",
    "\t\t\t\t\t'Dec_2027']\n",
    "rental_col = rental_data.columns.str.slice(start=13).to_list()\n",
    "rental_col.extend(rental_pred_name)"
   ]
  },
  {
   "cell_type": "code",
   "execution_count": null,
   "id": "e2b76636",
   "metadata": {},
   "outputs": [],
   "source": [
    "# create and evaluate an updated autoregressive model\n",
    "from statsmodels.tsa.ar_model import AutoReg\n",
    "# split dataset\n",
    "PREDICT_LEN = 26\n",
    "result_df = pd.DataFrame()\n",
    "\n",
    "index = 0\n",
    "while index < len(rental_data):\n",
    "\tX = rental_data.iloc[index,:].astype('float').values\n",
    "\ttrain, test = X[1:len(X)], X[len(X)-PREDICT_LEN:]\n",
    "\n",
    "\t# train autoregression\n",
    "\twindow = 29\n",
    "\tmodel = AutoReg(train, lags=29)\n",
    "\tmodel_fit = model.fit()\n",
    "\tcoef = model_fit.params\n",
    "\n",
    "\t# walk forward over time steps in test\n",
    "\thistory = train[len(train)-window:]\n",
    "\thistory = [history[i] for i in range(len(history))]\n",
    "\tpredictions = list()\n",
    "\n",
    "\tfor t in range(len(test)):\n",
    "\t\tlength = len(history)\n",
    "\t\tlag = [history[i] for i in range(length-window,length)]\n",
    "\t\tyhat = coef[0]\n",
    "\t\tfor d in range(window):\n",
    "\t\t\tyhat += coef[d+1] * lag[window-d-1]\n",
    "\t\tobs = test[t]\n",
    "\t\tpredictions.append(yhat)\n",
    "\t\thistory.append(obs)\n",
    "\t\t# print('predicted=%f' % (yhat))\n",
    "\n",
    "\ttotal_value = rental_data.astype('float').iloc[index,:].to_list()\n",
    "\ttotal_value.extend(predictions)\n",
    "\t\n",
    "\ttemp = pd.DataFrame()\n",
    "\ttemp = temp.append(total_value).transpose()\n",
    "\tresult_df = result_df.append(temp).reset_index(drop=True)\n",
    "\tindex += 1\n",
    "\n",
    "result_df.columns = rental_col\n",
    "result_df['suburb'] = rental_median_data['suburb']\n",
    "\n",
    "result_df\n",
    "# plot\n",
    "# plt.figure(figsize=(15,10))\n",
    "# plt.plot(rental_col, total_value, color='red', marker='o')\n",
    "# plt.xticks(rotation=90)\n",
    "# plt.show()"
   ]
  },
  {
   "cell_type": "code",
   "execution_count": null,
   "id": "86af7c82",
   "metadata": {},
   "outputs": [],
   "source": [
    "result_df.to_csv('../data/curated/predict_rental_AutoReg.csv')"
   ]
  },
  {
   "cell_type": "code",
   "execution_count": null,
   "id": "b582fc76",
   "metadata": {},
   "outputs": [],
   "source": [
    "month_list = ['Mar', 'Jun', 'Sep', 'Dec']\n",
    "col_name_rental = []\n",
    "for i in range(2021, 2028):\n",
    "    count = 0\n",
    "    if i == 2021:\n",
    "        count = 2\n",
    "        index = 2\n",
    "        for j in range(count):\n",
    "            col_name_rental.append(f'Rental_total_{month_list[index]}_{i}')\n",
    "            index = index + 1\n",
    "    else:\n",
    "        count = 4\n",
    "        index = 0\n",
    "        for k in range(count):\n",
    "            col_name_rental.append(f'Rental_total_{month_list[index]}_{i}')\n",
    "            index = index + 1\n",
    "\n",
    "col_name_rental"
   ]
  },
  {
   "cell_type": "code",
   "execution_count": null,
   "id": "bc8e577d",
   "metadata": {},
   "outputs": [],
   "source": [
    "plt.figure(figsize=(20,10))\n",
    "plt.plot(column_names, rental_data.loc[0].astype('int'), marker='*')\n",
    "plt.title('Rental median')\n",
    "plt.ylabel('median')\n",
    "plt.xlabel('Time line')\n",
    "plt.xticks(rotation=90)\n",
    "plt.show()"
   ]
  },
  {
   "cell_type": "code",
   "execution_count": null,
   "id": "70e5f297",
   "metadata": {},
   "outputs": [],
   "source": [
    "# train_year = []\n",
    "# for i in rental_data.columns:\n",
    "#     train_year.append(int(i[-2:]))\n",
    "# train_year\n",
    "\n",
    "\n",
    "train_year = []\n",
    "for year in range(22):\n",
    "    for month in range(3,15,3):\n",
    "        if month == 9 and year == 21:\n",
    "                break\n",
    "        months = year * 12 + month\n",
    "        train_year.append(months)\n",
    "            # print(year,'-',month)\n",
    "len(train_year)"
   ]
  },
  {
   "cell_type": "code",
   "execution_count": null,
   "id": "57837106",
   "metadata": {},
   "outputs": [],
   "source": [
    "\n",
    "# predict_year\n",
    "month_number = 4\n",
    "predict_year_number = 6\n",
    "lefted_year = 2\n",
    "\n",
    "\n",
    "predict_end_year = lefted_year + month_number * predict_year_number\n",
    "predict_year = []\n",
    "continure_year = train_year[-1]\n",
    "for i in range(predict_end_year):\n",
    "    continure_year = continure_year + 3\n",
    "    predict_year.append(continure_year)\n",
    "predict_year"
   ]
  },
  {
   "cell_type": "code",
   "execution_count": null,
   "id": "cdb8818d",
   "metadata": {},
   "outputs": [],
   "source": [
    "len(predict_year)"
   ]
  },
  {
   "cell_type": "code",
   "execution_count": null,
   "id": "d7965b60",
   "metadata": {},
   "outputs": [],
   "source": [
    "rental_data = rental_data.replace('-', 0)"
   ]
  },
  {
   "cell_type": "code",
   "execution_count": null,
   "id": "c7434f73",
   "metadata": {},
   "outputs": [],
   "source": [
    "from sklearn.linear_model import Ridge\n",
    "train_x = rental_data.loc[:, 'Rental_total_Mar_2000': 'Rental_total_Mar_2021']\n",
    "train_y = rental_data['Rental_total_Jun_2021']\n",
    "\n",
    "# split train test dataset\n",
    "# x_train_rent, x_test_rent, y_train_rent, y_test_rent = train_test_split(train_x,train_y, train_size=0.7,test_size=0.3,random_state=42)\n",
    "\n",
    "# set up ridge regression\n",
    "ridge = Ridge(alpha=50)\n",
    "ridge.fit(train_x, train_y)\n",
    "pred=ridge.predict(train_x)\n",
    "print(\"The score is: \", ridge.score(train_x, train_y))\n",
    "\n",
    "\n",
    "# calculate rmse for model\n",
    "mse = mean_squared_error(train_y,pred)\n",
    "rmse = mse ** (1/2)\n",
    "print(\"The predict rmse is: \", rmse)"
   ]
  },
  {
   "cell_type": "code",
   "execution_count": null,
   "id": "ae894abd",
   "metadata": {},
   "outputs": [],
   "source": [
    "history_data = rental_data.loc[:, 'Rental_total_Mar_2000': 'Rental_total_Jun_2021']\n",
    "ridge_df = rental_data.copy()\n",
    "pred_future1 = ridge.predict(train_x)\n",
    "future1 = pred_future1.tolist()\n",
    "ridge_df['future1'] = future1\n",
    "\n",
    "for i in range(predict_end_year+1):\n",
    "    # print(i+1)\n",
    "    history_data = ridge_df.loc[:, 'Rental_total_Mar_2000': f'future{i+1}']\n",
    "    ridge.fit(history_data, history_data[f'future{i+1}'])\n",
    "    pred_future1 = ridge.predict(history_data)\n",
    "    future1 = pred_future1.tolist()\n",
    "    ridge_df[f'future{i+2}'] = future1\n",
    "\n",
    "\n",
    "# rental_data.columns\n",
    "plt.figure(figsize=(20,10))\n",
    "plt.plot(ridge_df.columns, ridge_df.loc[0].astype('int'), marker='*')\n",
    "plt.title('Rental median')\n",
    "plt.ylabel('median')\n",
    "plt.xlabel('Time line')\n",
    "plt.xticks(rotation=90)\n",
    "plt.show()\n"
   ]
  },
  {
   "cell_type": "code",
   "execution_count": null,
   "id": "71d0110d",
   "metadata": {},
   "outputs": [],
   "source": [
    "svr_df = rental_data.copy()\n",
    "regr = SVR(kernel = 'poly', C=100, epsilon=1)\n",
    "regr.fit(train_x, train_y)\n",
    "\n",
    "X = svr_df.loc[:, 'Rental_total_Mar_2000': 'Rental_total_Mar_2021']\n",
    "predict_svr = regr.predict(X)\n",
    "svr_df['future1'] = predict_svr\n",
    "# regr.fit(X, X['future1'])\n",
    "# regr.predict(X)\n",
    "\n",
    "for i in range(predict_end_year + 1):\n",
    "    X = svr_df.loc[:, 'Rental_total_Mar_2000': f'future{i+1}']\n",
    "    regr.fit(X, X[f'future{i+1}'])\n",
    "    pred_future1 = regr.predict(X)\n",
    "    future1 = pred_future1.tolist()\n",
    "    svr_df[f'future{i+2}'] = future1\n",
    "    \n",
    "# rental_data.columns\n",
    "plt.figure(figsize=(20,10))\n",
    "plt.plot(svr_df.columns, svr_df.loc[0].astype('int'), marker='*')\n",
    "plt.title('Rental median')\n",
    "plt.ylabel('median')\n",
    "plt.xlabel('Time line')\n",
    "plt.xticks(rotation=90)\n",
    "plt.show()"
   ]
  },
  {
   "cell_type": "code",
   "execution_count": null,
   "id": "426a1f32",
   "metadata": {},
   "outputs": [],
   "source": []
  },
  {
   "cell_type": "code",
   "execution_count": null,
   "id": "430416ea",
   "metadata": {},
   "outputs": [],
   "source": []
  },
  {
   "cell_type": "code",
   "execution_count": null,
   "id": "cae719ce",
   "metadata": {},
   "outputs": [],
   "source": []
  },
  {
   "cell_type": "code",
   "execution_count": null,
   "id": "146cde5d",
   "metadata": {},
   "outputs": [],
   "source": []
  },
  {
   "cell_type": "code",
   "execution_count": null,
   "id": "f357220f",
   "metadata": {},
   "outputs": [],
   "source": []
  },
  {
   "cell_type": "code",
   "execution_count": null,
   "id": "afe02348",
   "metadata": {},
   "outputs": [],
   "source": [
    "# predict_median_price = linear_model_function(x_train, y_train, x_predict)\n",
    "predict_rental_median = pd.DataFrame()\n",
    "for index in range(len(rental_data)):\n",
    "    rental_median_value = rental_data.iloc[index, :].astype('float').to_list()\n",
    "    # print(rental_median_value)\n",
    "    rental_median_train_year = train_year\n",
    "    rental_median_predict_year = predict_year\n",
    "    rental_median_final_df = linear_model_function(rental_median_train_year, rental_median_value, rental_median_predict_year)\n",
    "    final_df = [predict_rental_median, rental_median_final_df.transpose()]\n",
    "    predict_rental_median = pd.concat(final_df)"
   ]
  },
  {
   "cell_type": "code",
   "execution_count": null,
   "id": "1a3f93f9",
   "metadata": {},
   "outputs": [],
   "source": [
    "predict_rental_median = predict_rental_median.astype('int')\n",
    "predict_rental_median"
   ]
  },
  {
   "cell_type": "code",
   "execution_count": null,
   "id": "55de9010",
   "metadata": {},
   "outputs": [],
   "source": [
    "predict_rental_median = predict_rental_median.loc['Y', :].copy()\n",
    "predict_rental_median.shape"
   ]
  },
  {
   "cell_type": "code",
   "execution_count": null,
   "id": "125ab6f1",
   "metadata": {},
   "outputs": [],
   "source": [
    "month_list = ['Mar', 'Jun', 'Sep', 'Dec']\n",
    "col_name_rental = []\n",
    "for i in range(2021, 2028):\n",
    "    count = 0\n",
    "    if i == 2021:\n",
    "        count = 2\n",
    "        index = 2\n",
    "        for j in range(count):\n",
    "            col_name_rental.append(f'Rental_total_{month_list[index]}_{i}')\n",
    "            index = index + 1\n",
    "    else:\n",
    "        count = 4\n",
    "        index = 0\n",
    "        for k in range(count):\n",
    "            col_name_rental.append(f'Rental_total_{month_list[index]}_{i}')\n",
    "            index = index + 1\n",
    "\n",
    "col_name_rental"
   ]
  },
  {
   "cell_type": "code",
   "execution_count": null,
   "id": "1833b75e",
   "metadata": {},
   "outputs": [],
   "source": [
    "train_col_name = column_names\n",
    "for i in range(len(col_name_rental)):\n",
    "    train_col_name.append(col_name_rental[i])\n",
    "\n",
    "full_name = train_col_name\n",
    "len(full_name)"
   ]
  },
  {
   "cell_type": "code",
   "execution_count": null,
   "id": "2205f6a6",
   "metadata": {},
   "outputs": [],
   "source": [
    "predict_rental_median.columns = full_name\n",
    "predict_rental_median"
   ]
  },
  {
   "cell_type": "code",
   "execution_count": null,
   "id": "03ff7baa",
   "metadata": {},
   "outputs": [],
   "source": [
    "predict_rental_median['surburb'] = rental_median_data['suburb'].tolist()\n",
    "predict_rental_median = predict_rental_median.set_index('surburb')\n",
    "predict_rental_median"
   ]
  },
  {
   "cell_type": "code",
   "execution_count": null,
   "id": "fc484da3",
   "metadata": {},
   "outputs": [],
   "source": [
    "predict_rental_median.to_csv('../data/curated/predict_rental_median.csv')"
   ]
  },
  {
   "cell_type": "code",
   "execution_count": null,
   "id": "185fee42",
   "metadata": {},
   "outputs": [],
   "source": []
  },
  {
   "cell_type": "code",
   "execution_count": null,
   "id": "8d45949f",
   "metadata": {},
   "outputs": [],
   "source": []
  },
  {
   "cell_type": "code",
   "execution_count": null,
   "id": "e0554438",
   "metadata": {},
   "outputs": [],
   "source": []
  },
  {
   "cell_type": "code",
   "execution_count": null,
   "id": "fe9acb6a",
   "metadata": {},
   "outputs": [],
   "source": []
  },
  {
   "cell_type": "code",
   "execution_count": null,
   "id": "cfd4a89b",
   "metadata": {},
   "outputs": [],
   "source": []
  },
  {
   "cell_type": "code",
   "execution_count": null,
   "id": "a87f6fef",
   "metadata": {},
   "outputs": [],
   "source": []
  },
  {
   "cell_type": "code",
   "execution_count": null,
   "id": "78c92130",
   "metadata": {},
   "outputs": [],
   "source": []
  },
  {
   "cell_type": "code",
   "execution_count": null,
   "id": "8992496b",
   "metadata": {},
   "outputs": [],
   "source": []
  },
  {
   "cell_type": "code",
   "execution_count": null,
   "id": "9f545d1d",
   "metadata": {},
   "outputs": [],
   "source": []
  },
  {
   "cell_type": "markdown",
   "id": "1cdf2dda",
   "metadata": {},
   "source": [
    "## k best"
   ]
  },
  {
   "cell_type": "code",
   "execution_count": null,
   "id": "4dff339a",
   "metadata": {},
   "outputs": [],
   "source": [
    "# find the best k value and score function for feature selection via LogisticRegression\n",
    "pipeline = Pipeline([('kbest', SelectKBest()), (\"clf\", LinearRegression())])\n",
    "param = {\"kbest__score_func\": (f_regression, chi2, mutual_info_regression),\n",
    "         \"kbest__k\": (30,50,80,100,130)}\n",
    "gs = GridSearch(pipeline, param, x_train,y_train)\n",
    "gs.best_params_"
   ]
  },
  {
   "cell_type": "code",
   "execution_count": null,
   "id": "520fe744",
   "metadata": {},
   "outputs": [],
   "source": [
    "# find the best k value and score function for feature selection via LogisticRegression\n",
    "pipeline = Pipeline([('kbest', SelectKBest()), (\"clf\", SVC(max_iter = 20000))])\n",
    "param = {\"kbest__score_func\": (f_regression, chi2, mutual_info_regression),\n",
    "         \"kbest__k\": (30,50,80,100,130)}\n",
    "gs = GridSearch(pipeline, param, x_train,y_train)\n",
    "gs.best_params_"
   ]
  },
  {
   "cell_type": "code",
   "execution_count": null,
   "id": "7f0c1b89",
   "metadata": {},
   "outputs": [],
   "source": []
  },
  {
   "cell_type": "code",
   "execution_count": null,
   "id": "1e78669a",
   "metadata": {},
   "outputs": [],
   "source": [
    "# find the best k value and score function for feature selection via LogisticRegression\n",
    "pipeline = Pipeline([('kbest', SelectKBest()), (\"clf\", Lasso(alpha=1.0))])\n",
    "param = {\"kbest__score_func\": (f_regression, chi2, mutual_info_regression),\n",
    "         \"kbest__k\": (30,50,80,100,130)}\n",
    "gs = GridSearch(pipeline, param, x_train,y_train)\n",
    "gs.best_params_"
   ]
  },
  {
   "cell_type": "code",
   "execution_count": null,
   "id": "3ed8e12d",
   "metadata": {},
   "outputs": [],
   "source": [
    "# find the best k value and score function for feature selection via LogisticRegression\n",
    "pipeline = Pipeline([('kbest', SelectKBest()), (\"clf\", Ridge(alpha=1.0))])\n",
    "param = {\"kbest__score_func\": (f_regression, chi2, mutual_info_regression),\n",
    "         \"kbest__k\": (30,50,80,100,130)}\n",
    "gs = GridSearch(pipeline, param, x_train,y_train)\n",
    "gs.best_params_"
   ]
  },
  {
   "cell_type": "code",
   "execution_count": null,
   "id": "d09494e0",
   "metadata": {},
   "outputs": [],
   "source": [
    "#Select features by chi-square with data after word vectorization\n",
    "\n",
    "# fit data for Bow\n",
    "kbest = SelectKBest(score_func = , k = ).fit(x_train, y_train)\n",
    "\n",
    "# transform data\n",
    "kbest_train_x = kbest.transform(x_train)\n",
    "kbest_test_x = kbest.transform(x_test)\n"
   ]
  },
  {
   "cell_type": "code",
   "execution_count": null,
   "id": "a4e8ab27",
   "metadata": {},
   "outputs": [],
   "source": [
    "LR = {}\n",
    "print(\"The accuracy of LogisticRegression\")\n",
    "train_acc, test_acc = LR_acc(x_train, x_test, y_train, y_test)\n",
    "LR[\"train_acc\"] = train_acc\n",
    "LR[\"test_acc\"] = test_acc\n",
    "print(\"Train Accuracy: \", train_acc)\n",
    "print(\"Test Accuracy: \", test_acc)\n",
    "print(\"********************************\")\n",
    "\n",
    "SVM = {}\n",
    "print(\"The accuracy of SVM\")\n",
    "train_acc, test_acc = SVM_acc(x_train, x_test, y_train, y_test)\n",
    "SVM[\"train_acc\"] = train_acc\n",
    "SVM[\"test_acc\"] = test_acc\n",
    "print(\"Train Accuracy: \", train_acc)\n",
    "print(\"Test Accuracy: \", test_acc)\n",
    "print(\"********************************\")\n",
    "\n",
    "LinearR = {}\n",
    "print(\"The accuracy of LinearRegression\")\n",
    "train_acc, test_acc = LinearR_acc(x_train, x_test, y_train, y_test)\n",
    "LinearR[\"train_acc\"] = train_acc\n",
    "LinearR[\"test_acc\"] = test_acc\n",
    "print(\"Train Accuracy: \", train_acc)\n",
    "print(\"Test Accuracy: \", test_acc)\n",
    "print(\"********************************\")\n",
    "\n",
    "ridge = {}\n",
    "print(\"The accuracy of Ridge\")\n",
    "train_acc, test_acc = Ridge_acc(x_train, x_test, y_train, y_test)\n",
    "ridge[\"train_acc\"] = train_acc\n",
    "ridge[\"test_acc\"] = test_acc\n",
    "print(\"Train Accuracy: \", train_acc)\n",
    "print(\"Test Accuracy: \", test_acc)\n",
    "print(\"********************************\")\n",
    "\n",
    "lasso = {}\n",
    "print(\"The accuracy of Lasso\")\n",
    "train_acc, test_acc = Lasso_acc(x_train, x_test, y_train, y_test)\n",
    "lasso[\"train_acc\"] = train_acc\n",
    "lasso[\"test_acc\"] = test_acc\n",
    "print(\"Train Accuracy: \", train_acc)\n",
    "print(\"Test Accuracy: \", test_acc)\n",
    "print(\"********************************\")"
   ]
  },
  {
   "cell_type": "code",
   "execution_count": null,
   "id": "6414d0d3",
   "metadata": {},
   "outputs": [
    {
     "ename": "",
     "evalue": "",
     "output_type": "error",
     "traceback": [
      "\u001b[1;31mRunning cells with 'Python 3.9.6 64-bit' requires ipykernel package.\n",
      "\u001b[1;31mRun the following command to install 'ipykernel' into the Python environment. \n",
      "\u001b[1;31mCommand: '/usr/local/bin/python3 -m pip install ipykernel -U --user --force-reinstall'"
     ]
    }
   ],
   "source": [
    "acc_dict = [LR, SVM, LinearR, ridge,lasso]\n",
    "index = [\"LogisticRegression\", \"SVM\", \"LinearRegression\", \"Ridge\", \"Lasso\"]\n",
    "data = [[0,0],[0,0],[0,0],[0,0],[0,0]]\n",
    "acc_df = pd.DataFrame(data, columns=['train_acc','test_acc'], index =index)\n",
    "\n",
    "for i in range(5):\n",
    "    model_name = index[i]\n",
    "    acc_df.loc[model_name] = list(acc_dict[i].values())"
   ]
  },
  {
   "cell_type": "code",
   "execution_count": null,
   "id": "a4129e27",
   "metadata": {},
   "outputs": [
    {
     "ename": "",
     "evalue": "",
     "output_type": "error",
     "traceback": [
      "\u001b[1;31mRunning cells with 'Python 3.9.6 64-bit' requires ipykernel package.\n",
      "\u001b[1;31mRun the following command to install 'ipykernel' into the Python environment. \n",
      "\u001b[1;31mCommand: '/usr/local/bin/python3 -m pip install ipykernel -U --user --force-reinstall'"
     ]
    }
   ],
   "source": [
    "display(acc_df.sort_values(by=['test_acc'],ascending=False))"
   ]
  },
  {
   "cell_type": "markdown",
   "id": "df598143",
   "metadata": {},
   "source": [
    "model start"
   ]
  },
  {
   "cell_type": "code",
   "execution_count": null,
   "id": "cf744830",
   "metadata": {},
   "outputs": [
    {
     "ename": "",
     "evalue": "",
     "output_type": "error",
     "traceback": [
      "\u001b[1;31mRunning cells with 'Python 3.9.6 64-bit' requires ipykernel package.\n",
      "\u001b[1;31mRun the following command to install 'ipykernel' into the Python environment. \n",
      "\u001b[1;31mCommand: '/usr/local/bin/python3 -m pip install ipykernel -U --user --force-reinstall'"
     ]
    }
   ],
   "source": [
    "rental_price = pd.read_csv('../data/curated/predict_rental_median.csv')\n",
    "property_df = pd.read_csv('../data/curated/cleaned_property_data_new.csv')"
   ]
  },
  {
   "cell_type": "code",
   "execution_count": null,
   "id": "aad8b285",
   "metadata": {},
   "outputs": [
    {
     "ename": "",
     "evalue": "",
     "output_type": "error",
     "traceback": [
      "\u001b[1;31mRunning cells with 'Python 3.9.6 64-bit' requires ipykernel package.\n",
      "\u001b[1;31mRun the following command to install 'ipykernel' into the Python environment. \n",
      "\u001b[1;31mCommand: '/usr/local/bin/python3 -m pip install ipykernel -U --user --force-reinstall'"
     ]
    }
   ],
   "source": [
    "rental_price_now = rental_price.loc[:, 'Rental_total_Sep_2022':'Rental_total_Sep_2027'].copy()\n",
    "rental_price_now['suburb'] = rental_price['surburb'].to_list()"
   ]
  },
  {
   "cell_type": "code",
   "execution_count": null,
   "id": "ce9ba21c",
   "metadata": {},
   "outputs": [
    {
     "ename": "",
     "evalue": "",
     "output_type": "error",
     "traceback": [
      "\u001b[1;31mRunning cells with 'Python 3.9.6 64-bit' requires ipykernel package.\n",
      "\u001b[1;31mRun the following command to install 'ipykernel' into the Python environment. \n",
      "\u001b[1;31mCommand: '/usr/local/bin/python3 -m pip install ipykernel -U --user --force-reinstall'"
     ]
    }
   ],
   "source": [
    "property_df_new = pd.merge(property_df, rental_price_now, on='suburb', how='left').fillna(0)"
   ]
  },
  {
   "cell_type": "code",
   "execution_count": null,
   "id": "368f3758",
   "metadata": {},
   "outputs": [
    {
     "ename": "",
     "evalue": "",
     "output_type": "error",
     "traceback": [
      "\u001b[1;31mRunning cells with 'Python 3.9.6 64-bit' requires ipykernel package.\n",
      "\u001b[1;31mRun the following command to install 'ipykernel' into the Python environment. \n",
      "\u001b[1;31mCommand: '/usr/local/bin/python3 -m pip install ipykernel -U --user --force-reinstall'"
     ]
    }
   ],
   "source": [
    "property_df_new"
   ]
  },
  {
   "cell_type": "code",
   "execution_count": null,
   "id": "3ee9b0f5",
   "metadata": {},
   "outputs": [
    {
     "ename": "",
     "evalue": "",
     "output_type": "error",
     "traceback": [
      "\u001b[1;31mRunning cells with 'Python 3.9.6 64-bit' requires ipykernel package.\n",
      "\u001b[1;31mRun the following command to install 'ipykernel' into the Python environment. \n",
      "\u001b[1;31mCommand: '/usr/local/bin/python3 -m pip install ipykernel -U --user --force-reinstall'"
     ]
    }
   ],
   "source": [
    "property_df_new['type'].unique()"
   ]
  },
  {
   "cell_type": "code",
   "execution_count": null,
   "id": "90af4345",
   "metadata": {},
   "outputs": [
    {
     "ename": "",
     "evalue": "",
     "output_type": "error",
     "traceback": [
      "\u001b[1;31mRunning cells with 'Python 3.9.6 64-bit' requires ipykernel package.\n",
      "\u001b[1;31mRun the following command to install 'ipykernel' into the Python environment. \n",
      "\u001b[1;31mCommand: '/usr/local/bin/python3 -m pip install ipykernel -U --user --force-reinstall'"
     ]
    }
   ],
   "source": [
    "property_df_new = property_df_new.replace(to_replace=r'Apartment \\/ Unit \\/ Flat \\/ Penhouse', value=1, regex=True)\n",
    "property_df_new = property_df_new.replace(to_replace=r'Studio', value=2, regex=True)\n",
    "property_df_new = property_df_new.replace(to_replace=r'Townhouse', value=3, regex=True)\n",
    "property_df_new = property_df_new.replace(to_replace=r'House', value=4, regex=True)\n",
    "property_df_new['type'] = property_df_new['type'].astype('int')"
   ]
  },
  {
   "cell_type": "code",
   "execution_count": null,
   "id": "e2859af9",
   "metadata": {},
   "outputs": [
    {
     "ename": "",
     "evalue": "",
     "output_type": "error",
     "traceback": [
      "\u001b[1;31mRunning cells with 'Python 3.9.6 64-bit' requires ipykernel package.\n",
      "\u001b[1;31mRun the following command to install 'ipykernel' into the Python environment. \n",
      "\u001b[1;31mCommand: '/usr/local/bin/python3 -m pip install ipykernel -U --user --force-reinstall'"
     ]
    }
   ],
   "source": [
    "def convert_suburb(df):\n",
    "    suburb_lis = list(df['suburb'].unique())\n",
    "    for i in range(1,len(suburb_lis)+1):\n",
    "        df['suburb'] = df['suburb'].replace(suburb_lis[i-1],i)\n",
    "    return df"
   ]
  },
  {
   "cell_type": "code",
   "execution_count": null,
   "id": "459fd28d",
   "metadata": {},
   "outputs": [
    {
     "ename": "",
     "evalue": "",
     "output_type": "error",
     "traceback": [
      "\u001b[1;31mRunning cells with 'Python 3.9.6 64-bit' requires ipykernel package.\n",
      "\u001b[1;31mRun the following command to install 'ipykernel' into the Python environment. \n",
      "\u001b[1;31mCommand: '/usr/local/bin/python3 -m pip install ipykernel -U --user --force-reinstall'"
     ]
    }
   ],
   "source": [
    "# suburb_num_dict = {}\n",
    "# num = 1\n",
    "# for i in rental_price_now['suburb']:\n",
    "#     suburb_num_dict[i] = num\n",
    "#     num += 1"
   ]
  },
  {
   "cell_type": "code",
   "execution_count": null,
   "id": "5cd5b6e8",
   "metadata": {},
   "outputs": [
    {
     "ename": "",
     "evalue": "",
     "output_type": "error",
     "traceback": [
      "\u001b[1;31mRunning cells with 'Python 3.9.6 64-bit' requires ipykernel package.\n",
      "\u001b[1;31mRun the following command to install 'ipykernel' into the Python environment. \n",
      "\u001b[1;31mCommand: '/usr/local/bin/python3 -m pip install ipykernel -U --user --force-reinstall'"
     ]
    }
   ],
   "source": [
    "# property_df_new['suburb_num'] = property_df_new['suburb']\n",
    "# property_df_new['suburb_num'] = property_df_new['suburb_num'].map(suburb_num_dict).fillna(0)\n",
    "property_df_new = convert_suburb(property_df_new)"
   ]
  },
  {
   "cell_type": "code",
   "execution_count": null,
   "id": "b6d005c0",
   "metadata": {},
   "outputs": [
    {
     "ename": "",
     "evalue": "",
     "output_type": "error",
     "traceback": [
      "\u001b[1;31mRunning cells with 'Python 3.9.6 64-bit' requires ipykernel package.\n",
      "\u001b[1;31mRun the following command to install 'ipykernel' into the Python environment. \n",
      "\u001b[1;31mCommand: '/usr/local/bin/python3 -m pip install ipykernel -U --user --force-reinstall'"
     ]
    }
   ],
   "source": [
    "property_df_new"
   ]
  },
  {
   "cell_type": "code",
   "execution_count": null,
   "id": "e5930615",
   "metadata": {},
   "outputs": [
    {
     "ename": "",
     "evalue": "",
     "output_type": "error",
     "traceback": [
      "\u001b[1;31mRunning cells with 'Python 3.9.6 64-bit' requires ipykernel package.\n",
      "\u001b[1;31mRun the following command to install 'ipykernel' into the Python environment. \n",
      "\u001b[1;31mCommand: '/usr/local/bin/python3 -m pip install ipykernel -U --user --force-reinstall'"
     ]
    }
   ],
   "source": [
    "property_df_new.to_csv('../data/curated/prepare_train.csv', index=False)"
   ]
  },
  {
   "cell_type": "code",
   "execution_count": null,
   "id": "b823b2fc",
   "metadata": {},
   "outputs": [
    {
     "ename": "",
     "evalue": "",
     "output_type": "error",
     "traceback": [
      "\u001b[1;31mRunning cells with 'Python 3.9.6 64-bit' requires ipykernel package.\n",
      "\u001b[1;31mRun the following command to install 'ipykernel' into the Python environment. \n",
      "\u001b[1;31mCommand: '/usr/local/bin/python3 -m pip install ipykernel -U --user --force-reinstall'"
     ]
    }
   ],
   "source": [
    "train_y = pd.DataFrame()\n",
    "train_df = property_df_new.copy()\n",
    "train_y['rent_weekly'] = property_df_new['rent_weekly']\n",
    "predict_feature = property_df_new.iloc[:, 111:131].copy()\n",
    "\n",
    "# train_df.drop(train_df.columns[[0, 1, 4, 12, 60, 107]], axis=1, inplace=True)\n",
    "# train_df.drop(train_df.iloc[:, 104:124], axis=1, inplace=True)"
   ]
  },
  {
   "cell_type": "code",
   "execution_count": null,
   "id": "834082df",
   "metadata": {},
   "outputs": [
    {
     "ename": "",
     "evalue": "",
     "output_type": "error",
     "traceback": [
      "\u001b[1;31mRunning cells with 'Python 3.9.6 64-bit' requires ipykernel package.\n",
      "\u001b[1;31mRun the following command to install 'ipykernel' into the Python environment. \n",
      "\u001b[1;31mCommand: '/usr/local/bin/python3 -m pip install ipykernel -U --user --force-reinstall'"
     ]
    }
   ],
   "source": [
    "train_df.drop(train_df.columns[[0, 1, 4, 12, 60, 107]], axis=1, inplace=True)"
   ]
  },
  {
   "cell_type": "code",
   "execution_count": null,
   "id": "a7cd1365",
   "metadata": {},
   "outputs": [
    {
     "ename": "",
     "evalue": "",
     "output_type": "error",
     "traceback": [
      "\u001b[1;31mRunning cells with 'Python 3.9.6 64-bit' requires ipykernel package.\n",
      "\u001b[1;31mRun the following command to install 'ipykernel' into the Python environment. \n",
      "\u001b[1;31mCommand: '/usr/local/bin/python3 -m pip install ipykernel -U --user --force-reinstall'"
     ]
    }
   ],
   "source": [
    "train_df.drop(train_df.iloc[:, 105:], axis=1, inplace=True)"
   ]
  },
  {
   "cell_type": "code",
   "execution_count": null,
   "id": "cda156e1",
   "metadata": {},
   "outputs": [
    {
     "ename": "",
     "evalue": "",
     "output_type": "error",
     "traceback": [
      "\u001b[1;31mRunning cells with 'Python 3.9.6 64-bit' requires ipykernel package.\n",
      "\u001b[1;31mRun the following command to install 'ipykernel' into the Python environment. \n",
      "\u001b[1;31mCommand: '/usr/local/bin/python3 -m pip install ipykernel -U --user --force-reinstall'"
     ]
    }
   ],
   "source": [
    "train_df.head(3)"
   ]
  },
  {
   "cell_type": "code",
   "execution_count": null,
   "id": "7fba6ce8",
   "metadata": {},
   "outputs": [
    {
     "ename": "",
     "evalue": "",
     "output_type": "error",
     "traceback": [
      "\u001b[1;31mRunning cells with 'Python 3.9.6 64-bit' requires ipykernel package.\n",
      "\u001b[1;31mRun the following command to install 'ipykernel' into the Python environment. \n",
      "\u001b[1;31mCommand: '/usr/local/bin/python3 -m pip install ipykernel -U --user --force-reinstall'"
     ]
    }
   ],
   "source": [
    "predict_df = train_df.copy()\n",
    "# predict_df[predict_df.columns[104]] = predict_feature[predict_feature.columns[0]]\n",
    "predict_df.head(5)"
   ]
  },
  {
   "cell_type": "code",
   "execution_count": null,
   "id": "e319bbd6",
   "metadata": {},
   "outputs": [
    {
     "ename": "",
     "evalue": "",
     "output_type": "error",
     "traceback": [
      "\u001b[1;31mRunning cells with 'Python 3.9.6 64-bit' requires ipykernel package.\n",
      "\u001b[1;31mRun the following command to install 'ipykernel' into the Python environment. \n",
      "\u001b[1;31mCommand: '/usr/local/bin/python3 -m pip install ipykernel -U --user --force-reinstall'"
     ]
    }
   ],
   "source": [
    "quarter = 12\n",
    "year = 22\n",
    "predict_result_df_r = pd.DataFrame()\n",
    "predict_df = train_df.copy()\n",
    "train_x = train_df.copy()\n",
    "\n",
    "for i in range(12):\n",
    "    predict_df[predict_df.columns[104]] = predict_feature[predict_feature.columns[i]]\n",
    "    ridge = Ridge(alpha=50)\n",
    "    ridge.fit(train_x, train_y['rent_weekly'])\n",
    "    pred = ridge.predict(predict_df)\n",
    "    predict_result_df_r[f'predict_{quarter}_{year}'] = pred\n",
    "    train_y['rent_weekly'] = pred\n",
    "    train_x[train_x.columns[104]] = predict_feature[predict_feature.columns[i]]\n",
    "\n",
    "    print(i)\n",
    "\n",
    "    if quarter == 12:\n",
    "        quarter = 3\n",
    "        year += 1\n",
    "    else:\n",
    "        quarter += 3\n",
    "\n",
    "predict_result_df_r.to_csv('../data/curated/ridge_result.csv')"
   ]
  },
  {
   "cell_type": "code",
   "execution_count": null,
   "id": "0efb1ec7",
   "metadata": {},
   "outputs": [
    {
     "ename": "",
     "evalue": "",
     "output_type": "error",
     "traceback": [
      "\u001b[1;31mRunning cells with 'Python 3.9.6 64-bit' requires ipykernel package.\n",
      "\u001b[1;31mRun the following command to install 'ipykernel' into the Python environment. \n",
      "\u001b[1;31mCommand: '/usr/local/bin/python3 -m pip install ipykernel -U --user --force-reinstall'"
     ]
    }
   ],
   "source": [
    "quarter = 12\n",
    "year = 22\n",
    "predict_result_df_svr = pd.DataFrame()\n",
    "predict_df = train_df.copy()\n",
    "train_x = train_df.copy()\n",
    "\n",
    "for i in range(12):\n",
    "    predict_df[predict_df.columns[104]] = predict_feature[predict_feature.columns[i]]\n",
    "    regr = SVR(kernel = 'poly', C=100, epsilon=1)\n",
    "    regr.fit(train_x, train_y['rent_weekly'])\n",
    "    predict_svr = regr.predict(predict_df)\n",
    "    predict_result_df_svr[f'predict_{quarter}_{year}'] = predict_svr\n",
    "    train_y['rent_weekly'] = predict_svr\n",
    "    train_x[train_x.columns[104]] = predict_feature[predict_feature.columns[i]]\n",
    "    print(i)\n",
    "\n",
    "    if quarter == 12:\n",
    "        quarter = 3\n",
    "        year += 1\n",
    "    else:\n",
    "        quarter += 3\n",
    "\n",
    "predict_result_df_svr.to_csv('../data/curated/svr_result.csv')"
   ]
  },
  {
   "cell_type": "code",
   "execution_count": null,
   "id": "0efb1ec7",
   "metadata": {},
   "outputs": [
    {
     "ename": "",
     "evalue": "",
     "output_type": "error",
     "traceback": [
      "\u001b[1;31mRunning cells with 'Python 3.9.6 64-bit' requires ipykernel package.\n",
      "\u001b[1;31mRun the following command to install 'ipykernel' into the Python environment. \n",
      "\u001b[1;31mCommand: '/usr/local/bin/python3 -m pip install ipykernel -U --user --force-reinstall'"
     ]
    }
   ],
   "source": [
    "quarter = 12\n",
    "year = 22\n",
    "predict_result_df_lasso = pd.DataFrame()\n",
    "predict_df = train_df.copy()\n",
    "train_x = train_df.copy()\n",
    "\n",
    "for i in range(12):\n",
    "    predict_df[predict_df.columns[104]] = predict_feature[predict_feature.columns[i]]\n",
    "    lasso = Lasso(max_iter=300000, alpha = 0.01)\n",
    "    lasso.fit(train_x, train_y['rent_weekly'])\n",
    "    pred = lasso.predict(predict_df)\n",
    "    predict_result_df_lasso[f'predict_{quarter}_{year}'] = pred\n",
    "    train_y['rent_weekly'] = pred\n",
    "    train_x[train_x.columns[104]] = predict_feature[predict_feature.columns[i]]\n",
    "    print(i)\n",
    "\n",
    "    if quarter == 12:\n",
    "        quarter = 3\n",
    "        year += 1\n",
    "    else:\n",
    "        quarter += 3\n",
    "\n",
    "predict_result_df_lasso.to_csv('../data/curated/lasso_result.csv')"
   ]
  },
  {
   "cell_type": "markdown",
   "id": "cb438780",
   "metadata": {},
   "source": [
    "end, ignore below"
   ]
  },
  {
   "cell_type": "code",
   "execution_count": null,
   "id": "c091cc72",
   "metadata": {},
   "outputs": [
    {
     "ename": "",
     "evalue": "",
     "output_type": "error",
     "traceback": [
      "\u001b[1;31mRunning cells with 'Python 3.9.6 64-bit' requires ipykernel package.\n",
      "\u001b[1;31mRun the following command to install 'ipykernel' into the Python environment. \n",
      "\u001b[1;31mCommand: '/usr/local/bin/python3 -m pip install ipykernel -U --user --force-reinstall'"
     ]
    }
   ],
   "source": [
    "ridge = Ridge(alpha=50)\n",
    "ridge.fit(train_df, train_y['rent_weekly'])\n",
    "pred = ridge.predict(predict_df)\n",
    "print(\"The score is: \", ridge.score(train_df, train_y['rent_weekly']))\n",
    "train_y['predict_Dec_21'] = pred\n",
    "train_y\n"
   ]
  },
  {
   "cell_type": "code",
   "execution_count": null,
   "id": "4fe59231",
   "metadata": {},
   "outputs": [
    {
     "ename": "",
     "evalue": "",
     "output_type": "error",
     "traceback": [
      "\u001b[1;31mRunning cells with 'Python 3.9.6 64-bit' requires ipykernel package.\n",
      "\u001b[1;31mRun the following command to install 'ipykernel' into the Python environment. \n",
      "\u001b[1;31mCommand: '/usr/local/bin/python3 -m pip install ipykernel -U --user --force-reinstall'"
     ]
    }
   ],
   "source": [
    "plt.figure(figsize=(20,10))\n",
    "plt.plot(train_y.index.to_list(), train_y['rent_weekly'], color='r')\n",
    "plt.plot(train_y.index, train_y['predict_Dec_21'], color='b')\n",
    "plt.show()"
   ]
  },
  {
   "cell_type": "code",
   "execution_count": null,
   "id": "e30f3cdb",
   "metadata": {},
   "outputs": [
    {
     "ename": "",
     "evalue": "",
     "output_type": "error",
     "traceback": [
      "\u001b[1;31mRunning cells with 'Python 3.9.6 64-bit' requires ipykernel package.\n",
      "\u001b[1;31mRun the following command to install 'ipykernel' into the Python environment. \n",
      "\u001b[1;31mCommand: '/usr/local/bin/python3 -m pip install ipykernel -U --user --force-reinstall'"
     ]
    }
   ],
   "source": [
    "lasso = Lasso(max_iter=300000, alpha = 0.01)\n",
    "lasso.fit(train_df, train_y['rent_weekly'])\n",
    "pred = lasso.predict(predict_df)\n",
    "\n",
    "train_y['predict_Dec_21_2'] = pred\n",
    "train_y"
   ]
  },
  {
   "cell_type": "code",
   "execution_count": null,
   "id": "5d737891",
   "metadata": {},
   "outputs": [
    {
     "ename": "",
     "evalue": "",
     "output_type": "error",
     "traceback": [
      "\u001b[1;31mRunning cells with 'Python 3.9.6 64-bit' requires ipykernel package.\n",
      "\u001b[1;31mRun the following command to install 'ipykernel' into the Python environment. \n",
      "\u001b[1;31mCommand: '/usr/local/bin/python3 -m pip install ipykernel -U --user --force-reinstall'"
     ]
    }
   ],
   "source": []
  },
  {
   "cell_type": "code",
   "execution_count": null,
   "id": "1a9e7447",
   "metadata": {},
   "outputs": [
    {
     "ename": "",
     "evalue": "",
     "output_type": "error",
     "traceback": [
      "\u001b[1;31mRunning cells with 'Python 3.9.6 64-bit' requires ipykernel package.\n",
      "\u001b[1;31mRun the following command to install 'ipykernel' into the Python environment. \n",
      "\u001b[1;31mCommand: '/usr/local/bin/python3 -m pip install ipykernel -U --user --force-reinstall'"
     ]
    }
   ],
   "source": [
    "train_df.iloc[:,[0, 1, 3, 4, 12, 60, 107]]"
   ]
  },
  {
   "cell_type": "code",
   "execution_count": null,
   "id": "17012f50",
   "metadata": {},
   "outputs": [
    {
     "ename": "",
     "evalue": "",
     "output_type": "error",
     "traceback": [
      "\u001b[1;31mRunning cells with 'Python 3.9.6 64-bit' requires ipykernel package.\n",
      "\u001b[1;31mRun the following command to install 'ipykernel' into the Python environment. \n",
      "\u001b[1;31mCommand: '/usr/local/bin/python3 -m pip install ipykernel -U --user --force-reinstall'"
     ]
    }
   ],
   "source": [
    "regr = SVR(kernel = 'poly', C=100, epsilon=1)\n",
    "regr.fit(train_df, train_y['rent_weekly'])\n",
    "predict_svr = regr.predict(predict_df)"
   ]
  },
  {
   "cell_type": "code",
   "execution_count": null,
   "id": "8998ff5f",
   "metadata": {},
   "outputs": [
    {
     "ename": "",
     "evalue": "",
     "output_type": "error",
     "traceback": [
      "\u001b[1;31mRunning cells with 'Python 3.9.6 64-bit' requires ipykernel package.\n",
      "\u001b[1;31mRun the following command to install 'ipykernel' into the Python environment. \n",
      "\u001b[1;31mCommand: '/usr/local/bin/python3 -m pip install ipykernel -U --user --force-reinstall'"
     ]
    }
   ],
   "source": [
    "lasso = Lasso(max_iter=300000, alpha = 0.01)\n",
    "lasso.fit(train_df, train_y['rent_weekly'])\n",
    "pred = lasso.predict(predict_df)\n",
    "\n",
    "train_y['predict_Dec_21_2'] = pred\n",
    "train_y"
   ]
  },
  {
   "cell_type": "code",
   "execution_count": null,
   "metadata": {},
   "outputs": [
    {
     "ename": "",
     "evalue": "",
     "output_type": "error",
     "traceback": [
      "\u001b[1;31mRunning cells with 'Python 3.9.6 64-bit' requires ipykernel package.\n",
      "\u001b[1;31mRun the following command to install 'ipykernel' into the Python environment. \n",
      "\u001b[1;31mCommand: '/usr/local/bin/python3 -m pip install ipykernel -U --user --force-reinstall'"
     ]
    }
   ],
   "source": []
  },
  {
   "cell_type": "code",
   "execution_count": null,
   "metadata": {},
   "outputs": [
    {
     "ename": "",
     "evalue": "",
     "output_type": "error",
     "traceback": [
      "\u001b[1;31mRunning cells with 'Python 3.9.6 64-bit' requires ipykernel package.\n",
      "\u001b[1;31mRun the following command to install 'ipykernel' into the Python environment. \n",
      "\u001b[1;31mCommand: '/usr/local/bin/python3 -m pip install ipykernel -U --user --force-reinstall'"
     ]
    }
   ],
   "source": []
  },
  {
   "cell_type": "code",
   "execution_count": null,
   "metadata": {},
   "outputs": [
    {
     "ename": "",
     "evalue": "",
     "output_type": "error",
     "traceback": [
      "\u001b[1;31mRunning cells with 'Python 3.9.6 64-bit' requires ipykernel package.\n",
      "\u001b[1;31mRun the following command to install 'ipykernel' into the Python environment. \n",
      "\u001b[1;31mCommand: '/usr/local/bin/python3 -m pip install ipykernel -U --user --force-reinstall'"
     ]
    }
   ],
   "source": []
  },
  {
   "cell_type": "code",
   "execution_count": null,
   "id": "6ca73370",
   "metadata": {},
   "outputs": [],
   "source": []
  },
  {
   "cell_type": "code",
   "execution_count": null,
   "id": "32968f07",
   "metadata": {},
   "outputs": [],
   "source": []
  },
  {
   "cell_type": "code",
   "execution_count": null,
   "id": "27f45153",
   "metadata": {},
   "outputs": [],
   "source": []
  },
  {
   "cell_type": "code",
   "execution_count": null,
   "id": "81c2fc62",
   "metadata": {},
   "outputs": [],
   "source": []
  },
  {
   "cell_type": "code",
   "execution_count": null,
   "id": "369b4396",
   "metadata": {},
   "outputs": [],
   "source": [
    "# evaluate an lasso regression model on the dataset\n",
    "from numpy import mean\n",
    "from numpy import std\n",
    "from numpy import absolute\n",
    "from pandas import read_csv\n",
    "from sklearn.model_selection import cross_val_score\n",
    "from sklearn.model_selection import RepeatedKFold\n",
    "from sklearn.linear_model import Lasso\n",
    "# load the dataset\n",
    "url = 'https://raw.githubusercontent.com/jbrownlee/Datasets/master/housing.csv'\n",
    "dataframe = read_csv(url, header=None)\n",
    "data = dataframe.values\n",
    "X, y = data[:, :-1], data[:, -1]\n",
    "# define model\n",
    "model = Lasso(alpha=1.0)\n",
    "# define model evaluation method\n",
    "cv = RepeatedKFold(n_splits=10, n_repeats=3, random_state=1)\n",
    "# evaluate model\n",
    "scores = cross_val_score(model, X, y, scoring='neg_mean_absolute_error', cv=cv, n_jobs=-1)\n",
    "# force scores to be positive\n",
    "scores = absolute(scores)\n",
    "print('Mean MAE: %.3f (%.3f)' % (mean(scores), std(scores)))"
   ]
  }
 ],
 "metadata": {
  "kernelspec": {
   "display_name": "Python 3.8.8 ('base')",
   "language": "python",
   "name": "python3"
  },
  "language_info": {
   "codemirror_mode": {
    "name": "ipython",
    "version": 3
   },
   "file_extension": ".py",
   "mimetype": "text/x-python",
   "name": "python",
   "nbconvert_exporter": "python",
   "pygments_lexer": "ipython3",
   "version": "3.8.8"
  },
  "vscode": {
   "interpreter": {
    "hash": "40d3a090f54c6569ab1632332b64b2c03c39dcf918b08424e98f38b5ae0af88f"
   }
  }
 },
 "nbformat": 4,
 "nbformat_minor": 5
}
