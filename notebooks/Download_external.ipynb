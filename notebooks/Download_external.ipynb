{
 "cells": [
  {
   "cell_type": "code",
   "execution_count": 1,
   "id": "ea194bf9",
   "metadata": {},
   "outputs": [],
   "source": [
    "# imports packages\n",
    "import os\n",
    "import zipfile\n",
    "import time\n",
    "from selenium import webdriver\n",
    "from selenium.webdriver.chrome.service import Service\n",
    "from selenium.webdriver.chrome.options import Options\n",
    "from webdriver_manager.chrome import ChromeDriverManager"
   ]
  },
  {
   "cell_type": "code",
   "execution_count": 2,
   "id": "082a5d85",
   "metadata": {},
   "outputs": [],
   "source": [
    "# unzip file\n",
    "def unzip(zip_dir, unzip_dir):\n",
    "    zfile = zipfile.ZipFile(zip_dir,'r')\n",
    "    # check if the folder exists or not, if the data folder not exists, then create it\n",
    "    if not os.path.exists(unzip_dir):\n",
    "        os.makedirs(unzip_dir)\n",
    "    # unzip\n",
    "    for file in zfile.namelist():\n",
    "        zfile.extract(file, unzip_dir)\n"
   ]
  },
  {
   "cell_type": "code",
   "execution_count": 3,
   "id": "583b8bbc",
   "metadata": {},
   "outputs": [],
   "source": [
    "# from the current folder go back two levels to the main directory and access data folder\n",
    "output_dir = '../data/'\n",
    "\n",
    "# check if the folder exists or not, if the data folder not exists, then create it\n",
    "if not os.path.exists(output_dir):\n",
    "    os.makedirs(output_dir)\n",
    "        \n",
    "# check if the subfolder exists or not, which is similar with last step\n",
    "for target_dir in ('curated', 'raw'): # folders should already exist\n",
    "    if not os.path.exists(output_dir + target_dir):\n",
    "        os.makedirs(output_dir + target_dir)"
   ]
  },
  {
   "cell_type": "code",
   "execution_count": 4,
   "id": "59bb31db",
   "metadata": {},
   "outputs": [
    {
     "name": "stdout",
     "output_type": "stream",
     "text": [
      "Sport_Recreational_Facilities_list\n",
      "cemetery\n",
      "Rental_Report_Quarterly_Median_2021\n",
      "Affordable_Lettings_2021\n",
      "Median_Suburb_Time\n",
      "feature_of_interest\n",
      "Postcode\n",
      "Population\n",
      "Income\n",
      "Functional\n",
      "bus\n",
      "tram\n",
      "train\n"
     ]
    }
   ],
   "source": [
    "# Download data via txt\n",
    "\n",
    "# from the current folder go back two levels to the main directory and access data folder\n",
    "output_dir = '../data/raw/'\n",
    "\n",
    "# record the data name and link\n",
    "vic_open_data = {}\n",
    "\n",
    "# read txt file which records data from vic open data\n",
    "txt = open('../data/raw/datalink.txt')\n",
    "line = txt.readline().strip().split(',')  # split the dataset names and url links\n",
    "while len(line) > 1:\n",
    "    print(line[0])\n",
    "    vic_open_data[line[0]] =line[1]\n",
    "    line = txt.readline().strip().split(',')  # split the dataset names and url links\n",
    "txt.close()\n"
   ]
  },
  {
   "cell_type": "code",
   "execution_count": 5,
   "id": "ffd818f0",
   "metadata": {},
   "outputs": [
    {
     "name": "stdout",
     "output_type": "stream",
     "text": [
      "Sport_Recreational_Facilities_list\n",
      "https://discover.data.vic.gov.au/dataset/e6db797e-3801-4cfa-bf02-82350d0f722d/resource/bfff5fff-9c74-4671-8396-43f793613b70/download/srv_ifmd_all-facilities.xlsx\n",
      "cemetery\n",
      "https://docs.google.com/spreadsheets/d/1WgQEQyAFylkTrtcDx88eeUg7sMbyt972ClVbWhh1O3Y/export?format=csv&id=1WgQEQyAFylkTrtcDx88eeUg7sMbyt972ClVbWhh1O3Y&gid=1084288985\n",
      "Rental_Report_Quarterly_Median_2021\n",
      "https://www.dffh.vic.gov.au/moving-annual-rents-suburb-june-quarter-2021-excel\n",
      "Affordable_Lettings_2021\n",
      "https://www.dffh.vic.gov.au/affordable-lettings-local-government-area-september-quarter-2021-excel\n",
      "Median_Suburb_Time\n",
      "https://www.land.vic.gov.au/__data/assets/excel_doc/0026/531854/Suburb_Housev4_14May2021.xls\n",
      "feature_of_interest\n",
      "https://s3-ap-southeast-2.amazonaws.com/cl-isd-prd-datashare-s3-delivery/Order_A5C2I8.zip?orderid=27K253\n",
      "Postcode\n",
      "https://www.matthewproctor.com/Content/postcodes/australian_postcodes.csv\n",
      "Population\n",
      "https://www.abs.gov.au/statistics/people/population/regional-population/2021/32180DS0001_2001-21.xlsx\n",
      "Income\n",
      "https://www.abs.gov.au/statistics/labour/earnings-and-working-conditions/personal-income-australia/2014-15-2018-19/6524055002_DO001.xlsx\n",
      "Functional\n",
      "https://www.abs.gov.au/statistics/industry/building-and-construction/land-and-housing-supply-indicators/2022/parcel_counts_sua_sa2_2022.xlsx\n",
      "bus\n",
      "https://s3-ap-southeast-2.amazonaws.com/cl-isd-prd-datashare-s3-delivery/Order_8EH5TY.zip?orderid=2B4T05\n",
      "tram\n",
      "https://s3-ap-southeast-2.amazonaws.com/cl-isd-prd-datashare-s3-delivery/Order_1R8JN6.zip?orderid=FKF7OQ\n",
      "train\n",
      "https://s3-ap-southeast-2.amazonaws.com/cl-isd-prd-datashare-s3-delivery/Order_JMA52B.zip?orderid=ULRQFE\n"
     ]
    }
   ],
   "source": [
    "# get the folder path\n",
    "path = os.getcwd().replace('notebooks','') + 'data/raw'\n",
    "\n",
    "\n",
    "# create chrome object\n",
    "options = webdriver.ChromeOptions()\n",
    "# change download path\n",
    "prefs = {'profile.default_content_settings.popups': 0,\n",
    "         'download.default_directory': path, \n",
    "         'directory_upgrade': True}\n",
    "options.add_experimental_option('prefs',prefs)\n",
    "browser = webdriver.Chrome(service=Service(ChromeDriverManager().install()), options=options)\n",
    "\n",
    "# download all files\n",
    "for data in vic_open_data.keys():\n",
    "    url = vic_open_data[data]\n",
    "    print(data)\n",
    "    print(url)\n",
    "    browser.get(url)"
   ]
  },
  {
   "cell_type": "code",
   "execution_count": 6,
   "id": "a0770eff",
   "metadata": {},
   "outputs": [
    {
     "data": {
      "text/plain": [
       "['32180DS0001_2001-21.xlsx',\n",
       " '.DS_Store',\n",
       " 'Moving annual rents by suburb - June quarter 2021.xlsx',\n",
       " 'Order_1R8JN6.zip',\n",
       " '.gitkeep',\n",
       " 'Suburb_Housev4_14May2021.xls',\n",
       " 'Affordable lettings by local government area - September quarter 2021.xlsx',\n",
       " 'Order_JMA52B.zip',\n",
       " 'cemeteries and cemetery trusts - cemeteries.csv',\n",
       " '6524055002_DO001.xlsx',\n",
       " 'datalink.txt',\n",
       " 'Order_8EH5TY.zip',\n",
       " 'australian_postcodes.csv',\n",
       " 'property.json',\n",
       " 'srv_ifmd_all-facilities.xlsx',\n",
       " 'parcel_counts_sua_sa2_2022.xlsx',\n",
       " 'Order_A5C2I8.zip']"
      ]
     },
     "execution_count": 6,
     "metadata": {},
     "output_type": "execute_result"
    }
   ],
   "source": [
    "time.sleep(120)  # need to download large shapefiles\n",
    "browser.quit()   # close the web page\n",
    "os.listdir(path)   # list all files"
   ]
  },
  {
   "cell_type": "markdown",
   "id": "eaa79bcb",
   "metadata": {},
   "source": [
    "### Rename the files by os.rename"
   ]
  },
  {
   "cell_type": "code",
   "execution_count": 7,
   "id": "03be7d68",
   "metadata": {},
   "outputs": [],
   "source": [
    "os.rename(path+'/Moving annual rents by suburb - June quarter 2021.xlsx',\n",
    "          path+'/Rental_Report_Quarterly_Median_2021.xlsx')"
   ]
  },
  {
   "cell_type": "code",
   "execution_count": 8,
   "id": "325d335d",
   "metadata": {},
   "outputs": [],
   "source": [
    "os.rename(path+'/Suburb_Housev4_14May2021.xls', path+'/Median_Suburb_Time_2021.xls')"
   ]
  },
  {
   "cell_type": "code",
   "execution_count": 9,
   "id": "8d06cd98",
   "metadata": {},
   "outputs": [],
   "source": [
    "os.rename(path+'/Affordable lettings by local government area - September quarter 2021.xlsx',\n",
    "          path+'/Affordable_Lettings_2021.xlsx')"
   ]
  },
  {
   "cell_type": "code",
   "execution_count": 10,
   "id": "8cc6d243",
   "metadata": {},
   "outputs": [],
   "source": [
    "os.rename(path+'/cemeteries and cemetery trusts - cemeteries.csv', path+'/cemetery.csv')"
   ]
  },
  {
   "cell_type": "code",
   "execution_count": 11,
   "id": "1c6dc9f4",
   "metadata": {},
   "outputs": [],
   "source": [
    "os.rename(path+'/srv_ifmd_all-facilities.xlsx', path+'/Sport_Recreational_Facilities_list.xlsx')"
   ]
  },
  {
   "cell_type": "code",
   "execution_count": 12,
   "id": "dff76ca3",
   "metadata": {},
   "outputs": [],
   "source": [
    "os.rename(path+'/32180DS0001_2001-21.xlsx', path+'/population.xlsx')"
   ]
  },
  {
   "cell_type": "code",
   "execution_count": 13,
   "id": "44e86beb",
   "metadata": {},
   "outputs": [],
   "source": [
    "os.rename(path+'/6524055002_DO001.xlsx', path+'/income.xlsx')"
   ]
  },
  {
   "cell_type": "code",
   "execution_count": 14,
   "id": "6cb852b0",
   "metadata": {},
   "outputs": [],
   "source": [
    "os.rename(path+'/parcel_counts_sua_sa2_2022.xlsx', path+'/functional.xlsx')"
   ]
  },
  {
   "cell_type": "code",
   "execution_count": 15,
   "id": "c584affd",
   "metadata": {},
   "outputs": [],
   "source": [
    "path = os.getcwd().replace('notebooks','') + 'data/raw/'\n",
    "os.rename(path+'Order_A5C2I8.zip', path+'shapefile.zip')\n",
    "unzip(path+'shapefile.zip',path+'shapefiles/')"
   ]
  },
  {
   "cell_type": "code",
   "execution_count": 16,
   "id": "0421a94b",
   "metadata": {},
   "outputs": [],
   "source": [
    "path = os.getcwd().replace('notebooks','') + 'data/raw/'\n",
    "os.rename(path+'Order_8EH5TY.zip', path+'bus.zip')\n",
    "unzip(path+'bus.zip',path+'bus/')"
   ]
  },
  {
   "cell_type": "code",
   "execution_count": 17,
   "id": "b9d65d68",
   "metadata": {},
   "outputs": [],
   "source": [
    "path = os.getcwd().replace('notebooks','') + 'data/raw/'\n",
    "os.rename(path+'Order_1R8JN6.zip', path+'tram.zip')\n",
    "unzip(path+'tram.zip',path+'tram/')"
   ]
  },
  {
   "cell_type": "code",
   "execution_count": 18,
   "id": "3461b14e",
   "metadata": {},
   "outputs": [],
   "source": [
    "path = os.getcwd().replace('notebooks','') + 'data/raw/'\n",
    "os.rename(path+'Order_JMA52B.zip', path+'train.zip')\n",
    "unzip(path+'train.zip',path+'train/')"
   ]
  },
  {
   "cell_type": "code",
   "execution_count": null,
   "id": "e0b8e39d",
   "metadata": {},
   "outputs": [],
   "source": []
  }
 ],
 "metadata": {
  "kernelspec": {
   "display_name": "Python 3 (ipykernel)",
   "language": "python",
   "name": "python3"
  },
  "language_info": {
   "codemirror_mode": {
    "name": "ipython",
    "version": 3
   },
   "file_extension": ".py",
   "mimetype": "text/x-python",
   "name": "python",
   "nbconvert_exporter": "python",
   "pygments_lexer": "ipython3",
   "version": "3.8.10"
  },
  "vscode": {
   "interpreter": {
    "hash": "916dbcbb3f70747c44a77c7bcd40155683ae19c65e1c03b4aa3499c5328201f1"
   }
  }
 },
 "nbformat": 4,
 "nbformat_minor": 5
}
