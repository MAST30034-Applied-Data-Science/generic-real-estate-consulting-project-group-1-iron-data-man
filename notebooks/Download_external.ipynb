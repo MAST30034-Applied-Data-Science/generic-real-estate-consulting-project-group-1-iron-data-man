{
 "cells": [
  {
   "cell_type": "code",
   "execution_count": 1,
   "id": "ea194bf9",
   "metadata": {},
   "outputs": [],
   "source": [
    "#imports packages\n",
    "import os\n",
    "import zipfile\n",
    "from selenium import webdriver\n",
    "from selenium.webdriver.chrome.service import Service\n",
    "from selenium.webdriver.chrome.options import Options\n",
    "from webdriver_manager.chrome import ChromeDriverManager"
   ]
  },
  {
   "cell_type": "code",
   "execution_count": 2,
   "id": "082a5d85",
   "metadata": {},
   "outputs": [],
   "source": [
    "#unzip file\n",
    "def unzip(zip_dir, unzip_dir):\n",
    "    zfile = zipfile.ZipFile(zip_dir,'r')\n",
    "    # check if the folder exists or not, if the data folder not exists, then create it\n",
    "    if not os.path.exists(unzip_dir):\n",
    "        os.makedirs(unzip_dir)\n",
    "    #unzip\n",
    "    for file in zfile.namelist():\n",
    "        zfile.extract(file, unzip_dir)\n"
   ]
  },
  {
   "cell_type": "code",
   "execution_count": 3,
   "id": "583b8bbc",
   "metadata": {},
   "outputs": [],
   "source": [
    "# from the current folder go back two levels to the main directory and access data folder\n",
    "output_dir = '../data/'\n",
    "\n",
    "# check if the folder exists or not, if the data folder not exists, then create it\n",
    "if not os.path.exists(output_dir):\n",
    "    os.makedirs(output_dir)\n",
    "        \n",
    "# check if the subfolder exists or not, which is similar with last step\n",
    "for target_dir in ('curated', 'raw'): # folders should already exist\n",
    "    if not os.path.exists(output_dir + target_dir):\n",
    "        os.makedirs(output_dir + target_dir)"
   ]
  },
  {
   "cell_type": "code",
   "execution_count": 4,
   "id": "59bb31db",
   "metadata": {},
   "outputs": [
    {
     "name": "stdout",
     "output_type": "stream",
     "text": [
      "Ambulance_Response_Time_Performance\n",
      "Gaming_Expenditure\n",
      "Population_density_gaming_expenditures\n",
      "Government_Organisations\n",
      "Sport_Recreational_Facilities_list\n",
      "Crime_Statistics\n",
      "cemetery\n",
      "COVID_testing_site\n",
      "school_2022\n",
      "school_2021\n",
      "school_2020\n",
      "Rental_Report_Quarterly\n",
      "Rental_Report_Quarterly_Median_2021\n",
      "Rental_Report_Quarterly_Median_2020\n",
      "Affordable_Lettings_2021\n",
      "Affordable_Lettings_2020\n",
      "Median_Suburb_Time\n",
      "Median_Suburb_Quarterly_2021\n",
      "Median_Suburb_Quarterly_2020\n",
      "feature_of_interest\n"
     ]
    }
   ],
   "source": [
    "#Download data in csv format\n",
    "\n",
    "# from the current folder go back two levels to the main directory and access data folder\n",
    "output_dir = '../data/raw/'\n",
    "\n",
    "#record the data name and link\n",
    "vic_open_data = {}\n",
    "\n",
    "#read txt file which records data from vic open data\n",
    "txt = open(\"../data/raw/datalink.txt\")\n",
    "line = txt.readline().strip().split(\",\")  #split the dataset names and url links\n",
    "while len(line) > 1:\n",
    "    print(line[0])\n",
    "    vic_open_data[line[0]] =line[1]\n",
    "    line = txt.readline().strip().split(\",\")  #split the dataset names and url links\n",
    "txt.close()\n"
   ]
  },
  {
   "cell_type": "code",
   "execution_count": 5,
   "id": "ffd818f0",
   "metadata": {},
   "outputs": [
    {
     "name": "stdout",
     "output_type": "stream",
     "text": [
      "Ambulance_Response_Time_Performance\n",
      "https://www.ambulance.vic.gov.au/wp-content/uploads/2019/11/LGA-Response-Time-Performance-FY-2019.csv\n",
      "Gaming_Expenditure\n",
      "https://www.vgccc.vic.gov.au/sites/default/files/current_monthly_lga_data_release_13.xls\n",
      "Population_density_gaming_expenditures\n",
      "https://www.vcglr.vic.gov.au/sites/default/files/yearly_density_statistical_release_2020-21.xls\n",
      "Government_Organisations\n",
      "https://discover.data.vic.gov.au/dataset/04e1c700-6f4d-4157-81a1-372d6d825aed/resource/ed17d276-8724-4de7-a86d-cf542d3443a2/download/20210706-vgs-units.xlsx\n",
      "Sport_Recreational_Facilities_list\n",
      "https://discover.data.vic.gov.au/dataset/e6db797e-3801-4cfa-bf02-82350d0f722d/resource/bfff5fff-9c74-4671-8396-43f793613b70/download/srv_ifmd_all-facilities.xlsx\n",
      "Crime_Statistics\n",
      "https://files.crimestatistics.vic.gov.au/2021-07/geographicclassification.xlsx\n",
      "cemetery\n",
      "https://docs.google.com/spreadsheets/d/1WgQEQyAFylkTrtcDx88eeUg7sMbyt972ClVbWhh1O3Y/export?format=csv&id=1WgQEQyAFylkTrtcDx88eeUg7sMbyt972ClVbWhh1O3Y&gid=1084288985\n",
      "COVID_testing_site\n",
      "https://pausedatahealth01.blob.core.windows.net/testsitemaster/testingsitedata/TestSitesData.csv\n",
      "school_2022\n",
      "https://www.education.vic.gov.au/Documents/about/research/datavic/dv331_schoollocations2022.csv\n",
      "school_2021\n",
      "https://www.education.vic.gov.au/Documents/about/research/datavic/dv309_schoollocations2021.csv\n",
      "school_2020\n",
      "https://www.education.vic.gov.au/Documents/about/research/datavic/dv296-schoollocations2020.csv\n",
      "Rental_Report_Quarterly\n",
      "https://www.dffh.vic.gov.au/tables-rental-report-september-quarter-2021-excel\n",
      "Rental_Report_Quarterly_Median_2021\n",
      "https://www.dffh.vic.gov.au/moving-annual-rents-suburb-june-quarter-2021-excel\n",
      "Rental_Report_Quarterly_Median_2020\n",
      "https://www.dhhs.vic.gov.au/sites/default/files/documents/202011/Quarterly%20median%20rents%20by%20local%20government%20area%20September%20quarter%202020.xlsx\n",
      "Affordable_Lettings_2021\n",
      "https://www.dffh.vic.gov.au/affordable-lettings-local-government-area-september-quarter-2021-excel\n",
      "Affordable_Lettings_2020\n",
      "https://www.dhhs.vic.gov.au/sites/default/files/documents/202011/Affordable%20lettings%20by%20local%20government%20area%20September%20quarter%202020.xlsx\n",
      "Median_Suburb_Time\n",
      "https://www.land.vic.gov.au/__data/assets/excel_doc/0026/531854/Suburb_Housev4_14May2021.xls\n",
      "Median_Suburb_Quarterly_2021\n",
      "https://www.land.vic.gov.au/__data/assets/excel_doc/0037/578278/PSV_SUBURB_HOUSE_-Dec-Quarter-2021.xlsx\n",
      "Median_Suburb_Quarterly_2020\n",
      "https://www.land.vic.gov.au/__data/assets/excel_doc/0020/515036/House_Medians3rdQtr2020.xls\n",
      "feature_of_interest\n",
      "https://s3-ap-southeast-2.amazonaws.com/cl-isd-prd-datashare-s3-delivery/Order_A5C2I8.zip?orderid=27K253\n"
     ]
    }
   ],
   "source": [
    "#get the folder path\n",
    "path = os.getcwd()[:86] + \"data/raw\"\n",
    "\n",
    "\n",
    "#create chrome object\n",
    "options = webdriver.ChromeOptions()\n",
    "#change download path\n",
    "prefs = {\"profile.default_content_settings.popups\": 0,\n",
    "         \"download.default_directory\": path, \n",
    "         \"directory_upgrade\": True}\n",
    "options.add_experimental_option(\"prefs\",prefs)\n",
    "browser = webdriver.Chrome(service=Service(ChromeDriverManager().install()), options=options)\n",
    "\n",
    "#download all files\n",
    "for data in vic_open_data.keys():\n",
    "    url = vic_open_data[data]\n",
    "    print(data)\n",
    "    print(url)\n",
    "    browser.get(url)"
   ]
  },
  {
   "cell_type": "code",
   "execution_count": 6,
   "id": "a0770eff",
   "metadata": {},
   "outputs": [
    {
     "data": {
      "text/plain": [
       "['LGA-Response-Time-Performance-FY-2019.csv',\n",
       " 'dv331_schoollocations2022.csv',\n",
       " '.DS_Store',\n",
       " '.com.google.Chrome.zatkIs',\n",
       " 'vicmap.json',\n",
       " 'Moving annual rents by suburb - June quarter 2021.xlsx',\n",
       " 'Affordable lettings by local government area September quarter 2020.xlsx',\n",
       " '20210706-vgs-units.xlsx',\n",
       " 'Tables from Rental Report - September quarter 2021.xlsx',\n",
       " 'dv296-schoollocations2020.csv',\n",
       " '.gitkeep',\n",
       " 'Suburb_Housev4_14May2021.xls',\n",
       " '.com.google.Chrome.Ki8UH4',\n",
       " 'Affordable lettings by local government area - September quarter 2021.xlsx',\n",
       " 'example.json',\n",
       " 'PSV_SUBURB_HOUSE_-Dec-Quarter-2021.xlsx',\n",
       " 'cemeteries and cemetery trusts - cemeteries.csv',\n",
       " '.wdm',\n",
       " 'House_Medians3rdQtr2020.xls',\n",
       " 'current_monthly_lga_data_release_13.xls',\n",
       " 'datalink.txt',\n",
       " 'Quarterly median rents by local government area September quarter 2020.xlsx',\n",
       " 'yearly_density_statistical_release_2020-21.xls',\n",
       " 'TestSitesData.csv',\n",
       " 'geographicclassification.xlsx',\n",
       " 'dv309_schoollocations2021.csv',\n",
       " 'srv_ifmd_all-facilities.xlsx',\n",
       " 'Order_A5C2I8.zip']"
      ]
     },
     "execution_count": 6,
     "metadata": {},
     "output_type": "execute_result"
    }
   ],
   "source": [
    "#browser.quit()   #close the web page\n",
    "os.listdir(path)"
   ]
  },
  {
   "cell_type": "code",
   "execution_count": 7,
   "id": "94287513",
   "metadata": {},
   "outputs": [],
   "source": [
    "#rename the files\n",
    "path = os.getcwd()[:86] + \"data/raw/\"\n",
    "os.rename(path+'LGA-Response-Time-Performance-FY-2019.csv', path+\"ambulance.csv\")\n",
    "os.rename(path+'dv331_schoollocations2022.csv', path+\"school_2022.csv\")\n",
    "os.rename(path+'Moving annual rents by suburb - June quarter 2021.xlsx', path+\"Rental_Report_Quarterly_Median_2021.xlsx\")\n",
    "os.rename(path+'Affordable lettings by local government area September quarter 2020.xlsx', path+\"Affordable_Lettings_2020.xlsx\")\n",
    "os.rename(path+'20210706-vgs-units.xlsx', path+\"Government_Organisations.xlsx\")\n",
    "os.rename(path+'Tables from Rental Report - September quarter 2021.xlsx', path+\"Rental_Report_Quarterly.xlsx\")\n",
    "os.rename(path+'dv296-schoollocations2020.csv', path+\"school_2020.csv\")\n",
    "os.rename(path+'Suburb_Housev4_14May2021.xls', path+\"Median_Suburb_Time_2021.xls\")\n",
    "os.rename(path+'Affordable lettings by local government area - September quarter 2021.xlsx', path+\"Affordable_Lettings_2021.xlsx\")\n",
    "os.rename(path+'PSV_SUBURB_HOUSE_-Dec-Quarter-2021.xlsx', path+\"Median_Suburb_Quarterly_2021.xlsx\")\n",
    "os.rename(path+'cemeteries and cemetery trusts - cemeteries.csv', path+\"cemetery.csv\")\n",
    "os.rename(path+'House_Medians3rdQtr2020.xls', path+\"Median_Suburb_Quarterly_2020.xls\")\n",
    "os.rename(path+'current_monthly_lga_data_release_13.xls', path+\"Gaming_Expenditure.xls\")\n",
    "os.rename(path+'Quarterly median rents by local government area September quarter 2020.xlsx', path+\"Rental_Report_Quarterly_Median_2020.xlsx\")\n",
    "os.rename(path+'yearly_density_statistical_release_2020-21.xls', path+\"Population_density_gaming_expenditures.xls\")\n",
    "os.rename(path+'TestSitesData.csv', path+\"covid_test.csv\")\n",
    "os.rename(path+'geographicclassification.xlsx', path+\"crime.xlsx\")\n",
    "os.rename(path+'dv309_schoollocations2021.csv', path+\"school_2021.csv\")\n",
    "os.rename(path+'srv_ifmd_all-facilities.xlsx', path+\"Sport_Recreational_Facilities_list.xlsx\")\n",
    "os.rename(path+'Order_A5C2I8.zip', path+\"shapefile.zip\")"
   ]
  },
  {
   "cell_type": "code",
   "execution_count": 8,
   "id": "c584affd",
   "metadata": {},
   "outputs": [],
   "source": [
    "path = os.getcwd()[:86] + \"data/raw/\"\n",
    "unzip(path+\"shapefile.zip\",path+\"shapefiles/\")"
   ]
  },
  {
   "cell_type": "code",
   "execution_count": null,
   "id": "0421a94b",
   "metadata": {},
   "outputs": [],
   "source": []
  },
  {
   "cell_type": "code",
   "execution_count": null,
   "id": "b9d65d68",
   "metadata": {},
   "outputs": [],
   "source": []
  },
  {
   "cell_type": "code",
   "execution_count": null,
   "id": "3461b14e",
   "metadata": {},
   "outputs": [],
   "source": []
  }
 ],
 "metadata": {
  "kernelspec": {
   "display_name": "Python 3 (ipykernel)",
   "language": "python",
   "name": "python3"
  },
  "language_info": {
   "codemirror_mode": {
    "name": "ipython",
    "version": 3
   },
   "file_extension": ".py",
   "mimetype": "text/x-python",
   "name": "python",
   "nbconvert_exporter": "python",
   "pygments_lexer": "ipython3",
   "version": "3.8.10"
  },
  "vscode": {
   "interpreter": {
    "hash": "aee8b7b246df8f9039afb4144a1f6fd8d2ca17a180786b69acc140d282b71a49"
   }
  }
 },
 "nbformat": 4,
 "nbformat_minor": 5
}
