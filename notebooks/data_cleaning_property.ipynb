{
 "cells": [
  {
   "cell_type": "code",
   "execution_count": 1,
   "metadata": {},
   "outputs": [],
   "source": [
    "# import libraries\n",
    "import json\n",
    "import pandas as pd\n",
    "import re\n",
    "import time\n",
    "import os\n",
    "import geopandas as gpd\n",
    "from IPython.display import display\n",
    "import googlemaps\n",
    "from datetime import datetime\n",
    "from geopy.geocoders import Nominatim\n",
    "from geopy.extra.rate_limiter import RateLimiter\n",
    "import geopy\n",
    "from geopy.exc import GeocoderTimedOut"
   ]
  },
  {
   "cell_type": "markdown",
   "metadata": {},
   "source": [
    "# Clean property features"
   ]
  },
  {
   "cell_type": "code",
   "execution_count": 2,
   "metadata": {},
   "outputs": [],
   "source": [
    "# read in property json file\n",
    "property_df = pd.read_json(\"../data/raw/property.json\").transpose().reset_index()\n",
    "\n",
    "# rename columns\n",
    "property_df.columns = ['url', 'address', 'rent', 'features', 'type', 'furnitured', 'pool', 'gym', 'coordinates','desc']\n",
    "\n",
    "# drop url column\n",
    "property_df = property_df.drop(columns = ['url'])"
   ]
  },
  {
   "cell_type": "code",
   "execution_count": 3,
   "metadata": {},
   "outputs": [],
   "source": [
    "# drop duplicate properties\n",
    "unique_property_df = property_df.iloc[property_df.astype(str).drop_duplicates(subset=None, keep='first', inplace=False).index]\n",
    "\n",
    "# index for graph\n",
    "# property_df[\"index\"] = property_df.index.to_list()"
   ]
  },
  {
   "cell_type": "code",
   "execution_count": 4,
   "metadata": {},
   "outputs": [],
   "source": [
    "'''Get latitue from coordinate'''\n",
    "def latitude(coord):\n",
    "    return coord[0]\n",
    "\n",
    "'''Get longtitude from coordinate'''\n",
    "def longtitude(coord):\n",
    "    return coord[1]"
   ]
  },
  {
   "cell_type": "code",
   "execution_count": 5,
   "metadata": {},
   "outputs": [],
   "source": [
    "# put latitude and longititude information in dataframe\n",
    "property_df[\"Latitude\"] = property_df['coordinates'].apply(latitude)\n",
    "property_df[\"Longtitude\"] = property_df['coordinates'].apply(longtitude)"
   ]
  },
  {
   "cell_type": "code",
   "execution_count": 6,
   "metadata": {},
   "outputs": [
    {
     "data": {
      "text/html": [
       "<div>\n",
       "<style scoped>\n",
       "    .dataframe tbody tr th:only-of-type {\n",
       "        vertical-align: middle;\n",
       "    }\n",
       "\n",
       "    .dataframe tbody tr th {\n",
       "        vertical-align: top;\n",
       "    }\n",
       "\n",
       "    .dataframe thead th {\n",
       "        text-align: right;\n",
       "    }\n",
       "</style>\n",
       "<table border=\"1\" class=\"dataframe\">\n",
       "  <thead>\n",
       "    <tr style=\"text-align: right;\">\n",
       "      <th></th>\n",
       "      <th>address</th>\n",
       "      <th>rent</th>\n",
       "      <th>features</th>\n",
       "      <th>type</th>\n",
       "      <th>furnitured</th>\n",
       "      <th>pool</th>\n",
       "      <th>gym</th>\n",
       "      <th>coordinates</th>\n",
       "      <th>desc</th>\n",
       "    </tr>\n",
       "  </thead>\n",
       "  <tbody>\n",
       "    <tr>\n",
       "      <th>0</th>\n",
       "      <td>1414/218-228 A'Beckett Street Melbourne VIC 3000</td>\n",
       "      <td>$400 Per Week</td>\n",
       "      <td>1 Bed1 Bath− Parking</td>\n",
       "      <td>Apartment / Unit / Flat</td>\n",
       "      <td>No</td>\n",
       "      <td>No</td>\n",
       "      <td>No</td>\n",
       "      <td>[-37.8102832, 144.9566691]</td>\n",
       "      <td>South Melbourne Leasing</td>\n",
       "    </tr>\n",
       "    <tr>\n",
       "      <th>1</th>\n",
       "      <td>11a/131 Lonsdale Sreet Melbourne VIC 3000</td>\n",
       "      <td>$350 per week</td>\n",
       "      <td>1 Bed1 Bath− Parking</td>\n",
       "      <td>Studio</td>\n",
       "      <td>Yes</td>\n",
       "      <td>No</td>\n",
       "      <td>No</td>\n",
       "      <td>[-37.810779, 144.9685513]</td>\n",
       "      <td>Wimpie Santoso</td>\n",
       "    </tr>\n",
       "    <tr>\n",
       "      <th>2</th>\n",
       "      <td>911/408 Lonsdale Street Melbourne VIC 3000</td>\n",
       "      <td>$330 per week</td>\n",
       "      <td>1 Bed1 Bath− Parking</td>\n",
       "      <td>Apartment / Unit / Flat</td>\n",
       "      <td>No</td>\n",
       "      <td>No</td>\n",
       "      <td>No</td>\n",
       "      <td>[-37.8125979, 144.9604012]</td>\n",
       "      <td>Ender Gok</td>\n",
       "    </tr>\n",
       "    <tr>\n",
       "      <th>3</th>\n",
       "      <td>918/422 Collins St Melbourne VIC 3000</td>\n",
       "      <td>$600 Per week fully furnished</td>\n",
       "      <td>2 Beds1 Bath− Parking</td>\n",
       "      <td>Apartment / Unit / Flat</td>\n",
       "      <td>No</td>\n",
       "      <td>No</td>\n",
       "      <td>No</td>\n",
       "      <td>[-37.8170971, 144.9601487]</td>\n",
       "      <td>Precinct Leasing</td>\n",
       "    </tr>\n",
       "    <tr>\n",
       "      <th>4</th>\n",
       "      <td>602/118 Franklin Street Melbourne VIC 3000</td>\n",
       "      <td>$330</td>\n",
       "      <td>1 Bed1 Bath− Parking</td>\n",
       "      <td>Apartment / Unit / Flat</td>\n",
       "      <td>No</td>\n",
       "      <td>No</td>\n",
       "      <td>No</td>\n",
       "      <td>[-37.8082052, 144.9589035]</td>\n",
       "      <td>Manuel Flores</td>\n",
       "    </tr>\n",
       "  </tbody>\n",
       "</table>\n",
       "</div>"
      ],
      "text/plain": [
       "                                            address  \\\n",
       "0  1414/218-228 A'Beckett Street Melbourne VIC 3000   \n",
       "1         11a/131 Lonsdale Sreet Melbourne VIC 3000   \n",
       "2        911/408 Lonsdale Street Melbourne VIC 3000   \n",
       "3             918/422 Collins St Melbourne VIC 3000   \n",
       "4        602/118 Franklin Street Melbourne VIC 3000   \n",
       "\n",
       "                            rent               features  \\\n",
       "0                  $400 Per Week   1 Bed1 Bath− Parking   \n",
       "1                  $350 per week   1 Bed1 Bath− Parking   \n",
       "2                  $330 per week   1 Bed1 Bath− Parking   \n",
       "3  $600 Per week fully furnished  2 Beds1 Bath− Parking   \n",
       "4                           $330   1 Bed1 Bath− Parking   \n",
       "\n",
       "                      type furnitured pool gym                 coordinates  \\\n",
       "0  Apartment / Unit / Flat         No   No  No  [-37.8102832, 144.9566691]   \n",
       "1                   Studio        Yes   No  No   [-37.810779, 144.9685513]   \n",
       "2  Apartment / Unit / Flat         No   No  No  [-37.8125979, 144.9604012]   \n",
       "3  Apartment / Unit / Flat         No   No  No  [-37.8170971, 144.9601487]   \n",
       "4  Apartment / Unit / Flat         No   No  No  [-37.8082052, 144.9589035]   \n",
       "\n",
       "                      desc  \n",
       "0  South Melbourne Leasing  \n",
       "1           Wimpie Santoso  \n",
       "2                Ender Gok  \n",
       "3         Precinct Leasing  \n",
       "4            Manuel Flores  "
      ]
     },
     "execution_count": 6,
     "metadata": {},
     "output_type": "execute_result"
    }
   ],
   "source": [
    "# check the structure of property data\n",
    "unique_property_df.head()"
   ]
  },
  {
   "cell_type": "code",
   "execution_count": 7,
   "metadata": {},
   "outputs": [
    {
     "data": {
      "text/plain": [
       "(15075, 9)"
      ]
     },
     "execution_count": 7,
     "metadata": {},
     "output_type": "execute_result"
    }
   ],
   "source": [
    "# check and drop duplicate properties\n",
    "unique_property_df.shape"
   ]
  },
  {
   "cell_type": "code",
   "execution_count": 8,
   "metadata": {},
   "outputs": [
    {
     "name": "stderr",
     "output_type": "stream",
     "text": [
      "C:\\Users\\dell\\AppData\\Local\\Temp/ipykernel_28264/3942963013.py:2: SettingWithCopyWarning: \n",
      "A value is trying to be set on a copy of a slice from a DataFrame.\n",
      "Try using .loc[row_indexer,col_indexer] = value instead\n",
      "\n",
      "See the caveats in the documentation: https://pandas.pydata.org/pandas-docs/stable/user_guide/indexing.html#returning-a-view-versus-a-copy\n",
      "  unique_property_df[\"postcode\"] = unique_property_df[\"address\"].\\\n"
     ]
    }
   ],
   "source": [
    "# get postcode for all properties from the address\n",
    "unique_property_df[\"postcode\"] = unique_property_df[\"address\"].\\\n",
    "                                apply(lambda x: int(x[-4:]))"
   ]
  },
  {
   "cell_type": "markdown",
   "metadata": {},
   "source": [
    "## Combine external dataset and property data"
   ]
  },
  {
   "cell_type": "code",
   "execution_count": 9,
   "metadata": {},
   "outputs": [],
   "source": [
    "# reverse the coordinates to address\n",
    "def reverse_coord_geopy(coordinates):\n",
    "    #access server\n",
    "    geopy.geocoders.options.default_user_agent = \"my\"\n",
    "    geolocator = Nominatim(user_agent=\"my\")\n",
    "    try:\n",
    "        reverse = RateLimiter(geolocator.reverse, min_delay_seconds=2)\n",
    "        location=reverse(coordinates,language='en',exactly_one=True, timeout=60)  #find location\n",
    "        address = location.raw[\"address\"]   #extract address\n",
    "        return address\n",
    "    except GeocoderTimedOut as e:    #if meet time out, wait for 2 second and reverse again\n",
    "        time.sleep(2)\n",
    "        return reverse_coord_geopy(coordinates)\n",
    "    \n",
    "def generate_suburb_postcode_geopy(df):\n",
    "    #reverse\n",
    "    df[\"Reverse_Coord\"]= df[\"coordinates\"].apply(reverse_coord_geopy)\n",
    "    return df"
   ]
  },
  {
   "cell_type": "code",
   "execution_count": 11,
   "metadata": {},
   "outputs": [
    {
     "name": "stdout",
     "output_type": "stream",
     "text": [
      "0\n",
      "1000\n",
      "2000\n",
      "3000\n",
      "4000\n",
      "5000\n",
      "6000\n",
      "7000\n",
      "8000\n",
      "9000\n",
      "10000\n",
      "11000\n",
      "12000\n",
      "13000\n",
      "14000\n",
      "15000\n"
     ]
    }
   ],
   "source": [
    "# reverse geolocation and get address\n",
    "property_address = pd.DataFrame()\n",
    "# reverse the coordinates by small size due to request limitation\n",
    "i = 0\n",
    "while i < 16000:\n",
    "    if i < 15000:\n",
    "        property_address_i = generate_suburb_postcode_geopy(property_df.copy().iloc[i:i+1000])\n",
    "        property_address = pd.concat([property_address,property_address_i],ignore_index=True)\n",
    "    else:\n",
    "        property_address_i = generate_suburb_postcode_geopy(property_df.copy().iloc[i:])\n",
    "        property_address = pd.concat([property_address,property_address_i],ignore_index=True)\n",
    "    print(i)\n",
    "    i+=1000\n",
    "# save GNR Data\n",
    "path = os.getcwd().replace(\"notebooks\",\"\") + \"data/curated/\"\n",
    "property_address.to_csv(path+'property_suburb.csv',index=False)"
   ]
  },
  {
   "cell_type": "markdown",
   "metadata": {},
   "source": [
    "## Get bed number, bath number and car park number for each property"
   ]
  },
  {
   "cell_type": "code",
   "execution_count": 29,
   "metadata": {},
   "outputs": [],
   "source": [
    "# read in combined dataset\n",
    "clean_features = pd.read_csv(\"../data/curated/property_suburb.csv\")"
   ]
  },
  {
   "cell_type": "code",
   "execution_count": 30,
   "metadata": {},
   "outputs": [
    {
     "data": {
      "text/plain": [
       "(15117, 12)"
      ]
     },
     "execution_count": 30,
     "metadata": {},
     "output_type": "execute_result"
    }
   ],
   "source": [
    "clean_features.shape"
   ]
  },
  {
   "cell_type": "code",
   "execution_count": 31,
   "metadata": {},
   "outputs": [
    {
     "data": {
      "text/plain": [
       "(15083, 12)"
      ]
     },
     "execution_count": 31,
     "metadata": {},
     "output_type": "execute_result"
    }
   ],
   "source": [
    "# drop the property with empty features\n",
    "clean_features = clean_features[clean_features[\"features\"] != \"\"].reset_index(drop=True)\n",
    "clean_features = clean_features.dropna(how='any')\n",
    "\n",
    "# check the size of the data\n",
    "clean_features.shape"
   ]
  },
  {
   "cell_type": "code",
   "execution_count": 34,
   "metadata": {},
   "outputs": [],
   "source": [
    "num_bed_list = []\n",
    "num_bath_list = []\n",
    "num_park_list = []\n",
    "\n",
    "# split the detail from the property features\n",
    "for i in clean_features[\"features\"]:\n",
    "\n",
    "    # find the number of bedroom, bathroom and parking area\n",
    "    num_bed = re.findall(r'(\\d|-|−)\\s?Bed', i)\n",
    "    num_bath = re.findall(r'(\\d|-|−)\\s?Bath', i)\n",
    "    num_park = re.findall(r'(\\d|-|−)\\s?Park', i)\n",
    "\n",
    "    # if no information, set the number to zero\n",
    "    if (len(num_bed) == 0) or (num_bed[0].isdigit() == False):\n",
    "        num_bed = [\"0\"]\n",
    "    if (len(num_bath) == 0) or (num_bath[0].isdigit() == False):\n",
    "        num_bath = [\"0\"]\n",
    "    if (len(num_park) == 0) or (num_park[0].isdigit() == False):\n",
    "        num_park = [\"0\"]\n",
    "    \n",
    "    # append the data together\n",
    "    num_bed_list.append(int(num_bed[0]))\n",
    "    num_bath_list.append(int(num_bath[0]))\n",
    "    num_park_list.append(int(num_park[0]))\n",
    "\n",
    "# generate the new features of the property\n",
    "clean_features[\"num_bed\"] = num_bed_list\n",
    "clean_features[\"num_bath\"] = num_bath_list\n",
    "clean_features[\"num_park\"] = num_park_list"
   ]
  },
  {
   "cell_type": "code",
   "execution_count": 35,
   "metadata": {},
   "outputs": [],
   "source": [
    "# drop the property with no bedroom\n",
    "clean_features = clean_features[clean_features[\"num_bed\"] != 0].reset_index(drop=True)"
   ]
  },
  {
   "cell_type": "markdown",
   "metadata": {},
   "source": [
    "# Clean property rent"
   ]
  },
  {
   "cell_type": "code",
   "execution_count": 37,
   "metadata": {},
   "outputs": [],
   "source": [
    "# read in the csv file after first cleaned property features\n",
    "# path = \"../data/curated/cleaned_property_with_features.csv\"\n",
    "# property_data = pd.read_csv(path)\n",
    "property_data = clean_features.copy()"
   ]
  },
  {
   "cell_type": "code",
   "execution_count": 38,
   "metadata": {},
   "outputs": [
    {
     "data": {
      "text/plain": [
       "(14932, 15)"
      ]
     },
     "execution_count": 38,
     "metadata": {},
     "output_type": "execute_result"
    }
   ],
   "source": [
    "# check the shape of property data\n",
    "property_data.shape"
   ]
  },
  {
   "cell_type": "code",
   "execution_count": 39,
   "metadata": {},
   "outputs": [],
   "source": [
    "# get the rent price data\n",
    "rent_df_new = pd.DataFrame()\n",
    "rent_df_new[\"rent\"] = property_data[\"rent\"]\n",
    "\n",
    "# clean the rent data to gain the weekly rent\n",
    "for i in range(len(rent_df_new[\"rent\"])):\n",
    "\n",
    "    # get the price\n",
    "    price = rent_df_new[\"rent\"][i].lower()\n",
    "    rent = re.findall(r\"[$](\\d+\\.?,?\\d*)\", price)\n",
    "\n",
    "    # find the annually rent\n",
    "    if (\"p.a.\" in price) or (\"annually\" in price) or (\"pa.\" in price):\n",
    "        rent_df_new[\"rent\"][i] = float(rent[0].replace(\",\", \"\"))/52\n",
    "\n",
    "    # find the fortnightly rent\n",
    "    elif \"fortnightly\" in price:\n",
    "        rent_df_new[\"rent\"][i] = float(rent[0].replace(\",\", \"\"))/2\n",
    "\n",
    "    # find the nightly rent\n",
    "    elif \"night\" in price:\n",
    "        if len(rent) == 0:\n",
    "            rent = re.findall(r\"(\\d+\\.?,?\\d*)\", price)\n",
    "        rent_df_new[\"rent\"][i] = float(rent[0].replace(\",\", \"\")) * 7\n",
    "\n",
    "    # find the monthly rent\n",
    "    elif (\"pcm\" in price) or (\"pm\" in price) or (\"month\" in price):\n",
    "\n",
    "        # check whether contain weekly rent\n",
    "        if re.findall(r\"(p([a-z]*|\\/*)\\s?w)\", price) != \"\":\n",
    "            if len(rent) == 0:\n",
    "                rent = re.findall(r\"(\\d+\\.?,?\\d*)\", price)\n",
    "            rent_df_new[\"rent\"][i] = float(rent[0].replace(\",\", \"\"))\n",
    "            \n",
    "        # if only contain monthly rent, calculate the weekly rent\n",
    "        else:\n",
    "            if len(rent) == 0:\n",
    "                rent = re.findall(r\"(\\d+\\.?,?\\d*)\", price)\n",
    "            rent = (float(rent[0].replace(\",\", \"\")) / 30) * 7\n",
    "            rent_df_new[\"rent\"][i] = rent\n",
    "        \n",
    "    # find the weekly rent\n",
    "    else:\n",
    "        if len(rent) == 0:\n",
    "            rent = re.findall(r\"(\\d+\\.?,?\\d*)\", price)\n",
    "\n",
    "            # set the rent without any price data as zero\n",
    "            if len(rent) == 0:\n",
    "                rent_df_new[\"rent\"][i] = 0\n",
    "            else:\n",
    "                rent_df_new[\"rent\"][i] = float(rent[0].replace(\",\", \"\"))\n",
    "        \n",
    "        elif len(rent) == 2:\n",
    "            num1 = int(float(rent[0].replace(\",\", \"\")))\n",
    "            num2 = int(float(rent[1].replace(\",\", \"\")))\n",
    "\n",
    "            # check for normal weekly rent range\n",
    "            if len(str(num1)) != len(str(num2)):\n",
    "                # check whether the larger price is twice than the lower price, \n",
    "                # if yes, using lower price, if no, using the mean price\n",
    "                if num1 * 2 < num2:\n",
    "                    rent = num1\n",
    "                else:\n",
    "                    rent = (num1 + num2)/2\n",
    "            else:\n",
    "                rent = (num1 + num2)/2\n",
    "            rent_df_new[\"rent\"][i] = rent\n",
    "\n",
    "        else:\n",
    "            rent_df_new[\"rent\"][i] = float(rent[0].replace(\",\", \"\"))\n",
    "\n",
    "\n",
    "# transfer the rent data type to integer\n",
    "rent_df_new = rent_df_new.astype(int)"
   ]
  },
  {
   "cell_type": "code",
   "execution_count": 40,
   "metadata": {},
   "outputs": [
    {
     "data": {
      "text/plain": [
       "(14932, 1)"
      ]
     },
     "execution_count": 40,
     "metadata": {},
     "output_type": "execute_result"
    }
   ],
   "source": [
    "# check the shape\n",
    "rent_df_new.shape"
   ]
  },
  {
   "cell_type": "code",
   "execution_count": 41,
   "metadata": {},
   "outputs": [],
   "source": [
    "# add the processed rent data into the whole data set\n",
    "property_data[\"rent_weekly\"] = rent_df_new[\"rent\"]"
   ]
  },
  {
   "cell_type": "code",
   "execution_count": 42,
   "metadata": {},
   "outputs": [
    {
     "data": {
      "text/plain": [
       "(14932, 16)"
      ]
     },
     "execution_count": 42,
     "metadata": {},
     "output_type": "execute_result"
    }
   ],
   "source": [
    "# check the shape of the prperty data\n",
    "property_data.shape"
   ]
  },
  {
   "cell_type": "code",
   "execution_count": 43,
   "metadata": {},
   "outputs": [],
   "source": [
    "# clean the zero rent\n",
    "property_data = property_data[property_data[\"rent_weekly\"] != 0]\n",
    "property_data = property_data.reset_index()"
   ]
  },
  {
   "cell_type": "code",
   "execution_count": 44,
   "metadata": {},
   "outputs": [
    {
     "data": {
      "text/plain": [
       "(14564, 17)"
      ]
     },
     "execution_count": 44,
     "metadata": {},
     "output_type": "execute_result"
    }
   ],
   "source": [
    "# check the dataframe shape after clean the zero rent\n",
    "property_data.shape"
   ]
  },
  {
   "cell_type": "markdown",
   "metadata": {},
   "source": [
    "# Clean property floor"
   ]
  },
  {
   "cell_type": "code",
   "execution_count": 52,
   "metadata": {},
   "outputs": [],
   "source": [
    "# rename the dataframe to clean floor information\n",
    "new_property_df = property_data.copy()\n",
    "\n",
    "# initial number of the floor is -1\n",
    "floor = []\n",
    "for i in range(len(new_property_df[\"address\"])):\n",
    "    floor.append('-1')\n",
    "\n",
    "# create the floor feature\n",
    "new_property_df[\"floor\"] = floor"
   ]
  },
  {
   "cell_type": "code",
   "execution_count": 53,
   "metadata": {},
   "outputs": [
    {
     "data": {
      "text/plain": [
       "(14564, 18)"
      ]
     },
     "execution_count": 53,
     "metadata": {},
     "output_type": "execute_result"
    }
   ],
   "source": [
    "new_property_df.shape"
   ]
  },
  {
   "cell_type": "code",
   "execution_count": 47,
   "metadata": {},
   "outputs": [],
   "source": [
    "for i in range(len(new_property_df[\"address\"])):\n",
    "    # change the building that only have one floor only (such as Villa)\n",
    "    if (new_property_df[\"type\"][i] == \"House\") or (new_property_df[\"type\"][i] == \"Villa\") or (new_property_df[\"type\"][i] == \"New House & Land\") or (new_property_df[\"type\"][i] == \"Semi-Detached\") or (new_property_df[\"type\"][i] == \"Vacant land\"):\n",
    "        new_property_df.loc[[i],['floor']]  = 1\n",
    "\n",
    "    elif (new_property_df[\"type\"][i] == \"Rural\") or (new_property_df[\"type\"][i] == \"Farm\"):\n",
    "        new_property_df.loc[[i],['floor']]  = 1\n",
    "    else:\n",
    "        location = new_property_df[\"address\"][i].split(\" \")[0]\n",
    "        if \"/\" in location:  \n",
    "            floor_str = location.split(\"/\")\n",
    "            # create temporary variables to store the floor information\n",
    "            f=''\n",
    "            fff=''\n",
    "            # process the floor address is not digital.\n",
    "            if floor_str[0].isdigit() == False: \n",
    "                # special case\n",
    "                # ground floor\n",
    "                if (\"G\" in floor_str[0]) or (\"Ground\" in floor_str[0]):\n",
    "                    new_property_df.loc[[i],['floor']]  = 1\n",
    "                if (\"LG\" in floor_str[0]):\n",
    "                    new_property_df.loc[[i],['floor']]  = 1\n",
    "                # switch the format of the floor address from various form to uniform digitals.\n",
    "                if (\"Level\" in floor_str[0]) or (\"L\" in floor_str[0]):  \n",
    "                    if len(re.findall('[0-9]', floor_str[0])) != 0:\n",
    "                        new_property_df.loc[[i],['floor']] = int(f.join(re.findall(\"[0-9]\", floor_str[0])))\n",
    "                elif (\"&\" in floor_str[0]):\n",
    "                    new_property_df.loc[[i],['floor']]  = floor_str[0][0]\n",
    "                elif (\".\" in floor_str[0]):\n",
    "                    if (\"AP\" in floor_str[0]):\n",
    "                        new_property_df.loc[[i],['floor']]  = floor_str[0].split(\".\")[0][-1] \n",
    "                    else:\n",
    "                        if len(re.findall('[0-9]', floor_str[0].split('.')[0])) != 0:\n",
    "                            new_property_df.loc[[i],['floor']]  = int(fff.join(re.findall('[0-9]', floor_str[0].split('.')[0])))\n",
    "                else:\n",
    "                    # Determine the floor number when there is a letter on the end of the floor address such as '1014B'\n",
    "                    if re.search('(\\\\d+)[A-Za-z]',new_property_df[\"address\"][i]) != None:\n",
    "                        tmp_floor = re.search('(\\\\d+)[A-Za-z]',new_property_df[\"address\"][i]).group()[:-1]\n",
    "                        if len(tmp_floor) == 1 or len(tmp_floor) == 2:\n",
    "                            new_property_df.loc[[i],['floor']] = tmp_floor\n",
    "                        elif len(tmp_floor) == 3 and int(tmp_floor[1]) > 1:\n",
    "                            new_property_df.loc[[i],['floor']] = tmp_floor[:2]\n",
    "                        elif len(tmp_floor) == 3 and int(tmp_floor[1]) <= 1:\n",
    "                            new_property_df.loc[[i],['floor']] = tmp_floor[0]\n",
    "                        elif len(tmp_floor) == 4:\n",
    "                            new_property_df.loc[[i],['floor']] = tmp_floor[:2]       \n",
    "                                        \n",
    "            # determine which number is the floor. for example: 319 is 3th floor and 3109 is the 31th floor.\n",
    "            else:\n",
    "                if len(floor_str[0]) == 1 or len(floor_str[0]) == 2:\n",
    "                    new_property_df.loc[[i],['floor']]  = floor_str[0]\n",
    "                elif len(floor_str[0]) == 3 and int(floor_str[0][1]) > 1:\n",
    "                    new_property_df.loc[[i],['floor']]  = floor_str[0][:2]\n",
    "                elif len(floor_str[0]) == 3 and int(floor_str[0][1]) <= 1:\n",
    "                    new_property_df.loc[[i],['floor']]  = floor_str[0][0]\n",
    "                elif len(floor_str[0]) == 4:\n",
    "                    new_property_df.loc[[i],['floor']]  = floor_str[0][:2]\n",
    "\n",
    "        # process the address without '/'\n",
    "        else: \n",
    "            # check the floors that have \",\" on the tail.       \n",
    "            if ',' in new_property_df[\"address\"][i]:\n",
    "                floor_str111 = new_property_df[\"address\"][i].split(\",\")[0]\n",
    "                if len(floor_str111.split(' '))>1:\n",
    "                    FL = floor_str111.split(' ')[0]\n",
    "                    FF = floor_str111.split(' ')[1]\n",
    "                    if (\"Level\" in FL) or (\"Lvl\" in FL):  \n",
    "                        new_property_df.loc[[i],['floor']] = FF\n",
    "            # Determine the floor number when there is a letter on the end of the floor address such as '1014B'\n",
    "            if re.search('(\\\\d+)[A-Za-z]',new_property_df[\"address\"][i]) != None:\n",
    "                tmp_floor = re.search('(\\\\d+)[A-Za-z]',new_property_df[\"address\"][i]).group()[:-1]\n",
    "                if len(tmp_floor) == 1 or len(tmp_floor) == 2:\n",
    "                    new_property_df.loc[[i],['floor']]  = tmp_floor\n",
    "                elif len(tmp_floor) == 3 and int(tmp_floor[1]) > 1:\n",
    "                    new_property_df.loc[[i],['floor']]  = tmp_floor[:2]\n",
    "                elif len(tmp_floor) == 3 and int(tmp_floor[1]) <= 1:\n",
    "                    new_property_df.loc[[i],['floor']]  = tmp_floor[0]\n",
    "                elif len(tmp_floor) == 4:\n",
    "                    new_property_df.loc[[i],['floor']]  = tmp_floor[:2]  "
   ]
  },
  {
   "cell_type": "code",
   "execution_count": null,
   "metadata": {},
   "outputs": [],
   "source": [
    "count=0\n",
    "# test the results that has no floor information\n",
    "for i in range(len(new_property_df[\"address\"])):\n",
    "    location = new_property_df[\"address\"][i].split('/')[0]\n",
    "    if new_property_df[\"floor\"][i] == '-1':\n",
    "        \n",
    "        print(new_property_df[\"address\"][i])\n",
    "        print(new_property_df[\"floor\"][i])\n",
    "        count+=1\n",
    "print(\"Count of the address without floor information: \", count)\n",
    "# check the shape of the cleaned dataframe\n",
    "new_property_df.shape"
   ]
  },
  {
   "cell_type": "code",
   "execution_count": 51,
   "metadata": {},
   "outputs": [],
   "source": [
    "# save the new dataframe to csv\n",
    "new_property_df.to_csv('../data/curated/cleaned_property_data.csv', index = None)"
   ]
  }
 ],
 "metadata": {
  "kernelspec": {
   "display_name": "Python 3.9.7 64-bit",
   "language": "python",
   "name": "python3"
  },
  "language_info": {
   "codemirror_mode": {
    "name": "ipython",
    "version": 3
   },
   "file_extension": ".py",
   "mimetype": "text/x-python",
   "name": "python",
   "nbconvert_exporter": "python",
   "pygments_lexer": "ipython3",
   "version": "3.9.7"
  },
  "orig_nbformat": 4,
  "vscode": {
   "interpreter": {
    "hash": "67f1dc6f6f712f7142079021955b91e049abb319dcfdc9eed010dd73dd4d845d"
   }
  }
 },
 "nbformat": 4,
 "nbformat_minor": 2
}
