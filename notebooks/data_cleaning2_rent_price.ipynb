{
 "cells": [
  {
   "cell_type": "code",
   "execution_count": 1,
   "metadata": {},
   "outputs": [],
   "source": [
    "# imports libraries\n",
    "import re\n",
    "import pandas as pd"
   ]
  },
  {
   "cell_type": "code",
   "execution_count": 2,
   "metadata": {},
   "outputs": [],
   "source": [
    "# read in the csv file after first cleaned property features\n",
    "path = \"../data/curated/cleaned_property_with_features.csv\"\n",
    "property_data = pd.read_csv(path)"
   ]
  },
  {
   "cell_type": "code",
   "execution_count": 3,
   "metadata": {},
   "outputs": [
    {
     "data": {
      "text/plain": [
       "(14819, 13)"
      ]
     },
     "execution_count": 3,
     "metadata": {},
     "output_type": "execute_result"
    }
   ],
   "source": [
    "# check the shape of property data\n",
    "property_data.shape"
   ]
  },
  {
   "cell_type": "code",
   "execution_count": 5,
   "metadata": {},
   "outputs": [],
   "source": [
    "# get the rent price data\n",
    "rent_df_new = pd.DataFrame()\n",
    "rent_df_new[\"rent\"] = property_data[\"rent\"]\n",
    "\n",
    "# clean the rent data to gain the weekly rent\n",
    "for i in range(len(rent_df_new[\"rent\"])):\n",
    "\n",
    "    # get the price\n",
    "    price = rent_df_new[\"rent\"][i].lower()\n",
    "    rent = re.findall(r\"[$](\\d+\\.?,?\\d*)\", price)\n",
    "\n",
    "    # find the annually rent\n",
    "    if (\"p.a.\" in price) or (\"annually\" in price) or (\"pa.\" in price):\n",
    "        rent_df_new[\"rent\"][i] = float(rent[0].replace(\",\", \"\"))/52\n",
    "\n",
    "    # find the fortnightly rent\n",
    "    elif \"fortnightly\" in price:\n",
    "        rent_df_new[\"rent\"][i] = float(rent[0].replace(\",\", \"\"))/2\n",
    "\n",
    "    # find the nightly rent\n",
    "    elif \"night\" in price:\n",
    "        if len(rent) == 0:\n",
    "            rent = re.findall(r\"(\\d+\\.?,?\\d*)\", price)\n",
    "        rent_df_new[\"rent\"][i] = float(rent[0].replace(\",\", \"\")) * 7\n",
    "\n",
    "    # find the monthly rent\n",
    "    elif (\"pcm\" in price) or (\"pm\" in price) or (\"month\" in price):\n",
    "\n",
    "        # check whether contain weekly rent\n",
    "        if re.findall(r\"(p([a-z]*|\\/*)\\s?w)\", price) != \"\":\n",
    "            if len(rent) == 0:\n",
    "                rent = re.findall(r\"(\\d+\\.?,?\\d*)\", price)\n",
    "            rent_df_new[\"rent\"][i] = float(rent[0].replace(\",\", \"\"))\n",
    "            \n",
    "        # if only contain monthly rent, calculate the weekly rent\n",
    "        else:\n",
    "            if len(rent) == 0:\n",
    "                rent = re.findall(r\"(\\d+\\.?,?\\d*)\", price)\n",
    "            rent = (float(rent[0].replace(\",\", \"\")) / 30) * 7\n",
    "            rent_df_new[\"rent\"][i] = rent\n",
    "        \n",
    "    # find the weekly rent\n",
    "    else:\n",
    "        if len(rent) == 0:\n",
    "            rent = re.findall(r\"(\\d+\\.?,?\\d*)\", price)\n",
    "\n",
    "            # set the rent without any price data as zero\n",
    "            if len(rent) == 0:\n",
    "                rent_df_new[\"rent\"][i] = 0\n",
    "            else:\n",
    "                rent_df_new[\"rent\"][i] = float(rent[0].replace(\",\", \"\"))\n",
    "        \n",
    "        elif len(rent) == 2:\n",
    "            num1 = int(float(rent[0].replace(\",\", \"\")))\n",
    "            num2 = int(float(rent[1].replace(\",\", \"\")))\n",
    "\n",
    "            # check for normal weekly rent range\n",
    "            if len(str(num1)) != len(str(num2)):\n",
    "                # check whether the larger price is twice than the lower price, \n",
    "                # if yes, using lower price, if no, using the mean price\n",
    "                if num1 * 2 < num2:\n",
    "                    rent = num1\n",
    "                else:\n",
    "                    rent = (num1 + num2)/2\n",
    "            else:\n",
    "                rent = (num1 + num2)/2\n",
    "            rent_df_new[\"rent\"][i] = rent\n",
    "\n",
    "        else:\n",
    "            rent_df_new[\"rent\"][i] = float(rent[0].replace(\",\", \"\"))\n",
    "\n",
    "\n",
    "# transfer the rent data type to integer\n",
    "rent_df_new = rent_df_new.astype(int)"
   ]
  },
  {
   "cell_type": "code",
   "execution_count": 6,
   "metadata": {},
   "outputs": [
    {
     "data": {
      "text/plain": [
       "(14819, 1)"
      ]
     },
     "execution_count": 6,
     "metadata": {},
     "output_type": "execute_result"
    }
   ],
   "source": [
    "# check the shape\n",
    "rent_df_new.shape"
   ]
  },
  {
   "cell_type": "code",
   "execution_count": 7,
   "metadata": {},
   "outputs": [],
   "source": [
    "# add the processed rent data into the whole data set\n",
    "property_data[\"rent_weekly\"] = rent_df_new[\"rent\"]"
   ]
  },
  {
   "cell_type": "code",
   "execution_count": 8,
   "metadata": {},
   "outputs": [
    {
     "data": {
      "text/plain": [
       "(14819, 14)"
      ]
     },
     "execution_count": 8,
     "metadata": {},
     "output_type": "execute_result"
    }
   ],
   "source": [
    "# check the shape of the prperty data\n",
    "property_data.shape"
   ]
  },
  {
   "cell_type": "code",
   "execution_count": 10,
   "metadata": {},
   "outputs": [],
   "source": [
    "# clean the zero rent\n",
    "drop_zero_rent = property_data[property_data[\"rent_weekly\"] != 0]"
   ]
  },
  {
   "cell_type": "code",
   "execution_count": 11,
   "metadata": {},
   "outputs": [
    {
     "data": {
      "text/plain": [
       "(14458, 14)"
      ]
     },
     "execution_count": 11,
     "metadata": {},
     "output_type": "execute_result"
    }
   ],
   "source": [
    "# check the dataframe shape after clean the zero rent\n",
    "drop_zero_rent.shape"
   ]
  },
  {
   "cell_type": "code",
   "execution_count": 13,
   "metadata": {},
   "outputs": [],
   "source": [
    "# save the cleaned rent dataframe as csv\n",
    "drop_zero_rent.to_csv(\"../data/curated/cleaned_property_with_rent.csv\", index = None)"
   ]
  }
 ],
 "metadata": {
  "kernelspec": {
   "display_name": "Python 3.8.8 ('base')",
   "language": "python",
   "name": "python3"
  },
  "language_info": {
   "codemirror_mode": {
    "name": "ipython",
    "version": 3
   },
   "file_extension": ".py",
   "mimetype": "text/x-python",
   "name": "python",
   "nbconvert_exporter": "python",
   "pygments_lexer": "ipython3",
   "version": "3.8.8"
  },
  "orig_nbformat": 4,
  "vscode": {
   "interpreter": {
    "hash": "40d3a090f54c6569ab1632332b64b2c03c39dcf918b08424e98f38b5ae0af88f"
   }
  }
 },
 "nbformat": 4,
 "nbformat_minor": 2
}
