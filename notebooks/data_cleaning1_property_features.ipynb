{
 "cells": [
  {
   "cell_type": "code",
   "execution_count": 1,
   "id": "a3b99618",
   "metadata": {},
   "outputs": [],
   "source": [
    "# import libraries\n",
    "import json\n",
    "import pandas as pd\n",
    "import re"
   ]
  },
  {
   "cell_type": "code",
   "execution_count": 2,
   "id": "c7d4dbb1",
   "metadata": {},
   "outputs": [],
   "source": [
    "# read in the rent property scraped json file\n",
    "path = \"../data/raw/property.json\"\n",
    "with open(path, \"r\") as f:\n",
    "    property_data = json.load(f)"
   ]
  },
  {
   "cell_type": "code",
   "execution_count": null,
   "id": "023d5c40",
   "metadata": {},
   "outputs": [],
   "source": [
    "# create to store the data\n",
    "property_df = pd.DataFrame()\n",
    "rent = []\n",
    "address =[]\n",
    "features = []\n",
    "type = []\n",
    "furnitured = [] \n",
    "pool = []\n",
    "gym = []\n",
    "latitude = []\n",
    "longitude = []\n",
    "\n",
    "# splite the data in json and store in different list\n",
    "for i in property_data:\n",
    "    address.append(property_data[i][\"name\"])\n",
    "    rent.append(property_data[i][\"cost_text\"])\n",
    "    features. append(property_data[i][\"features\"])\n",
    "    type.append(property_data[i][\"type\"])\n",
    "    furnitured.append(property_data[i][\"furnitured\"])\n",
    "    pool.append(property_data[i][\"pool\"])\n",
    "    gym.append(property_data[i][\"gym\"])\n",
    "    latitude.append(property_data[i][\"coordinates\"][0])\n",
    "    longitude.append(property_data[i][\"coordinates\"][1])\n",
    "\n",
    "# consolidate all the data into the same dataframe\n",
    "property_df[\"address\"] = address\n",
    "property_df[\"rent\"] = rent\n",
    "property_df[\"features\"] = features\n",
    "property_df[\"type\"] = type\n",
    "property_df[\"furnitured\"] = furnitured\n",
    "property_df[\"pool\"] = pool\n",
    "property_df[\"gym\"] = gym\n",
    "property_df[\"latitude\"] = latitude\n",
    "property_df[\"longitude\"] = longitude\n",
    "\n",
    "# check the size of the raw data\n",
    "property_df.shape"
   ]
  },
  {
   "cell_type": "code",
   "execution_count": 5,
   "id": "48352be5",
   "metadata": {},
   "outputs": [
    {
     "data": {
      "text/plain": [
       "(15004, 9)"
      ]
     },
     "execution_count": 5,
     "metadata": {},
     "output_type": "execute_result"
    }
   ],
   "source": [
    "# check and drop duplicate properties\n",
    "unique_property_df = property_df.drop_duplicates(keep=\"first\").reset_index(drop = True)\n",
    "unique_property_df.shape"
   ]
  },
  {
   "cell_type": "code",
   "execution_count": 6,
   "id": "065e1c57",
   "metadata": {},
   "outputs": [
    {
     "name": "stdout",
     "output_type": "stream",
     "text": [
      "The number of postcode is:  15004\n"
     ]
    }
   ],
   "source": [
    "# get postcode for all properties from the address\n",
    "unique_property_df[\"postcode\"] = unique_property_df[\"address\"].\\\n",
    "                                apply(lambda x: int(x[-4:]))"
   ]
  },
  {
   "cell_type": "code",
   "execution_count": 10,
   "id": "fa6096f6",
   "metadata": {},
   "outputs": [
    {
     "data": {
      "text/plain": [
       "(14970, 10)"
      ]
     },
     "execution_count": 10,
     "metadata": {},
     "output_type": "execute_result"
    }
   ],
   "source": [
    "# drop the property with empty features\n",
    "clean_features = unique_property_df[unique_property_df[\"features\"] != \"\"].reset_index(drop=True)\n",
    "\n",
    "# check the size of the data\n",
    "clean_features.shape"
   ]
  },
  {
   "cell_type": "code",
   "execution_count": 12,
   "id": "f1b124c2",
   "metadata": {},
   "outputs": [],
   "source": [
    "num_bed_list = []\n",
    "num_bath_list = []\n",
    "num_park_list = []\n",
    "\n",
    "# split the detail from the property features\n",
    "for i in clean_features[\"features\"]:\n",
    "\n",
    "    # find the number of bedroom, bathroom and parking area\n",
    "    num_bed = re.findall(r'(\\d|-|−)\\s?Bed', i)\n",
    "    num_bath = re.findall(r'(\\d|-|−)\\s?Bath', i)\n",
    "    num_park = re.findall(r'(\\d|-|−)\\s?Park', i)\n",
    "\n",
    "    # if no information, set the number to zero\n",
    "    if (len(num_bed) == 0) or (num_bed[0].isdigit() == False):\n",
    "        num_bed = [\"0\"]\n",
    "    if (len(num_bath) == 0) or (num_bath[0].isdigit() == False):\n",
    "        num_bath = [\"0\"]\n",
    "    if (len(num_park) == 0) or (num_park[0].isdigit() == False):\n",
    "        num_park = [\"0\"]\n",
    "    \n",
    "    # append the data together\n",
    "    num_bed_list.append(int(num_bed[0]))\n",
    "    num_bath_list.append(int(num_bath[0]))\n",
    "    num_park_list.append(int(num_park[0]))\n",
    "\n",
    "# generate the new features of the property\n",
    "clean_features[\"num_bed\"] = num_bed_list\n",
    "clean_features[\"num_bath\"] = num_bath_list\n",
    "clean_features[\"num_park\"] = num_park_list"
   ]
  },
  {
   "cell_type": "code",
   "execution_count": null,
   "id": "21d15233",
   "metadata": {},
   "outputs": [],
   "source": [
    "# drop the property with no bedroom\n",
    "clean_features = clean_features[clean_features[\"num_bed\"] != 0].reset_index(drop=True)"
   ]
  },
  {
   "cell_type": "code",
   "execution_count": 16,
   "id": "373bf0a9",
   "metadata": {},
   "outputs": [],
   "source": [
    "# save the cleaned property data with new features\n",
    "clean_features.to_csv(\"../data/curated/cleaned_property_with_features.csv\", index = None)"
   ]
  }
 ],
 "metadata": {
  "kernelspec": {
   "display_name": "Python 3.9.7 64-bit",
   "language": "python",
   "name": "python3"
  },
  "language_info": {
   "codemirror_mode": {
    "name": "ipython",
    "version": 3
   },
   "file_extension": ".py",
   "mimetype": "text/x-python",
   "name": "python",
   "nbconvert_exporter": "python",
   "pygments_lexer": "ipython3",
   "version": "3.9.7"
  },
  "vscode": {
   "interpreter": {
    "hash": "67f1dc6f6f712f7142079021955b91e049abb319dcfdc9eed010dd73dd4d845d"
   }
  }
 },
 "nbformat": 4,
 "nbformat_minor": 5
}
