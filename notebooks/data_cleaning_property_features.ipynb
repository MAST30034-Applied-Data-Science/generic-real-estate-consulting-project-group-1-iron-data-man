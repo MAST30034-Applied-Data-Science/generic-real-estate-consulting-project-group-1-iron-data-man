{
 "cells": [
  {
   "cell_type": "code",
   "execution_count": 1,
   "id": "a3b99618",
   "metadata": {},
   "outputs": [],
   "source": [
    "import json\n",
    "import pandas as pd\n",
    "import numpy as np\n",
    "import re\n",
    "import json"
   ]
  },
  {
   "cell_type": "code",
   "execution_count": 2,
   "id": "c7d4dbb1",
   "metadata": {},
   "outputs": [],
   "source": [
    "# read in the original json file\n",
    "path = \"../data/raw/property.json\"\n",
    "with open(path, \"r\") as f:\n",
    "    property_data = json.load(f)"
   ]
  },
  {
   "cell_type": "code",
   "execution_count": 3,
   "id": "023d5c40",
   "metadata": {},
   "outputs": [
    {
     "data": {
      "text/html": [
       "<div>\n",
       "<style scoped>\n",
       "    .dataframe tbody tr th:only-of-type {\n",
       "        vertical-align: middle;\n",
       "    }\n",
       "\n",
       "    .dataframe tbody tr th {\n",
       "        vertical-align: top;\n",
       "    }\n",
       "\n",
       "    .dataframe thead th {\n",
       "        text-align: right;\n",
       "    }\n",
       "</style>\n",
       "<table border=\"1\" class=\"dataframe\">\n",
       "  <thead>\n",
       "    <tr style=\"text-align: right;\">\n",
       "      <th></th>\n",
       "      <th>address</th>\n",
       "      <th>rent</th>\n",
       "      <th>features</th>\n",
       "      <th>type</th>\n",
       "      <th>furnitured</th>\n",
       "      <th>pool</th>\n",
       "      <th>gym</th>\n",
       "      <th>latitude</th>\n",
       "      <th>longitude</th>\n",
       "    </tr>\n",
       "  </thead>\n",
       "  <tbody>\n",
       "    <tr>\n",
       "      <th>0</th>\n",
       "      <td>1414/218-228 A'Beckett Street Melbourne VIC 3000</td>\n",
       "      <td>$400 Per Week</td>\n",
       "      <td>1 Bed1 Bath− Parking</td>\n",
       "      <td>Apartment / Unit / Flat</td>\n",
       "      <td>No</td>\n",
       "      <td>No</td>\n",
       "      <td>No</td>\n",
       "      <td>-37.810283</td>\n",
       "      <td>144.956669</td>\n",
       "    </tr>\n",
       "    <tr>\n",
       "      <th>1</th>\n",
       "      <td>11a/131 Lonsdale Sreet Melbourne VIC 3000</td>\n",
       "      <td>$350 per week</td>\n",
       "      <td>1 Bed1 Bath− Parking</td>\n",
       "      <td>Studio</td>\n",
       "      <td>Yes</td>\n",
       "      <td>No</td>\n",
       "      <td>No</td>\n",
       "      <td>-37.810779</td>\n",
       "      <td>144.968551</td>\n",
       "    </tr>\n",
       "    <tr>\n",
       "      <th>2</th>\n",
       "      <td>911/408 Lonsdale Street Melbourne VIC 3000</td>\n",
       "      <td>$330 per week</td>\n",
       "      <td>1 Bed1 Bath− Parking</td>\n",
       "      <td>Apartment / Unit / Flat</td>\n",
       "      <td>No</td>\n",
       "      <td>No</td>\n",
       "      <td>No</td>\n",
       "      <td>-37.812598</td>\n",
       "      <td>144.960401</td>\n",
       "    </tr>\n",
       "    <tr>\n",
       "      <th>3</th>\n",
       "      <td>918/422 Collins St Melbourne VIC 3000</td>\n",
       "      <td>$600 Per week fully furnished</td>\n",
       "      <td>2 Beds1 Bath− Parking</td>\n",
       "      <td>Apartment / Unit / Flat</td>\n",
       "      <td>No</td>\n",
       "      <td>No</td>\n",
       "      <td>No</td>\n",
       "      <td>-37.817097</td>\n",
       "      <td>144.960149</td>\n",
       "    </tr>\n",
       "    <tr>\n",
       "      <th>4</th>\n",
       "      <td>602/118 Franklin Street Melbourne VIC 3000</td>\n",
       "      <td>$330</td>\n",
       "      <td>1 Bed1 Bath− Parking</td>\n",
       "      <td>Apartment / Unit / Flat</td>\n",
       "      <td>No</td>\n",
       "      <td>No</td>\n",
       "      <td>No</td>\n",
       "      <td>-37.808205</td>\n",
       "      <td>144.958903</td>\n",
       "    </tr>\n",
       "  </tbody>\n",
       "</table>\n",
       "</div>"
      ],
      "text/plain": [
       "                                            address  \\\n",
       "0  1414/218-228 A'Beckett Street Melbourne VIC 3000   \n",
       "1         11a/131 Lonsdale Sreet Melbourne VIC 3000   \n",
       "2        911/408 Lonsdale Street Melbourne VIC 3000   \n",
       "3             918/422 Collins St Melbourne VIC 3000   \n",
       "4        602/118 Franklin Street Melbourne VIC 3000   \n",
       "\n",
       "                            rent               features  \\\n",
       "0                  $400 Per Week   1 Bed1 Bath− Parking   \n",
       "1                  $350 per week   1 Bed1 Bath− Parking   \n",
       "2                  $330 per week   1 Bed1 Bath− Parking   \n",
       "3  $600 Per week fully furnished  2 Beds1 Bath− Parking   \n",
       "4                           $330   1 Bed1 Bath− Parking   \n",
       "\n",
       "                      type furnitured pool gym   latitude   longitude  \n",
       "0  Apartment / Unit / Flat         No   No  No -37.810283  144.956669  \n",
       "1                   Studio        Yes   No  No -37.810779  144.968551  \n",
       "2  Apartment / Unit / Flat         No   No  No -37.812598  144.960401  \n",
       "3  Apartment / Unit / Flat         No   No  No -37.817097  144.960149  \n",
       "4  Apartment / Unit / Flat         No   No  No -37.808205  144.958903  "
      ]
     },
     "execution_count": 3,
     "metadata": {},
     "output_type": "execute_result"
    }
   ],
   "source": [
    "property_df = pd.DataFrame()\n",
    "\n",
    "rent = []\n",
    "address =[]\n",
    "features = []\n",
    "type = []\n",
    "furnitured = [] \n",
    "pool = []\n",
    "gym = []\n",
    "latitude = []\n",
    "longitude = []\n",
    "\n",
    "# store each feature in the dataframe\n",
    "for i in property_data:\n",
    "    address.append(property_data[i][\"name\"])\n",
    "    rent.append(property_data[i][\"cost_text\"])\n",
    "    features. append(property_data[i][\"features\"])\n",
    "    type.append(property_data[i][\"type\"])\n",
    "    furnitured.append(property_data[i][\"furnitured\"])\n",
    "    pool.append(property_data[i][\"pool\"])\n",
    "    gym.append(property_data[i][\"gym\"])\n",
    "    latitude.append(property_data[i][\"coordinates\"][0])\n",
    "    longitude.append(property_data[i][\"coordinates\"][1])\n",
    "\n",
    "\n",
    "property_df[\"address\"] = address\n",
    "property_df[\"rent\"] = rent\n",
    "property_df[\"features\"] = features\n",
    "property_df[\"type\"] = type\n",
    "property_df[\"furnitured\"] = furnitured\n",
    "property_df[\"pool\"] = pool\n",
    "property_df[\"gym\"] = gym\n",
    "property_df[\"latitude\"] = latitude\n",
    "property_df[\"longitude\"] = longitude\n"
   ]
  },
  {
   "cell_type": "code",
   "execution_count": 4,
   "id": "e92f5bf2",
   "metadata": {},
   "outputs": [
    {
     "data": {
      "text/plain": [
       "(15117, 9)"
      ]
     },
     "execution_count": 4,
     "metadata": {},
     "output_type": "execute_result"
    }
   ],
   "source": [
    "property_df.shape"
   ]
  },
  {
   "cell_type": "code",
   "execution_count": 5,
   "id": "48352be5",
   "metadata": {},
   "outputs": [
    {
     "data": {
      "text/plain": [
       "(15004, 9)"
      ]
     },
     "execution_count": 5,
     "metadata": {},
     "output_type": "execute_result"
    }
   ],
   "source": [
    "# check and drop duplicate\n",
    "unique_property_df = property_df.drop_duplicates(keep=\"first\").reset_index(drop = True)\n",
    "unique_property_df.shape"
   ]
  },
  {
   "cell_type": "code",
   "execution_count": 6,
   "id": "065e1c57",
   "metadata": {},
   "outputs": [
    {
     "name": "stdout",
     "output_type": "stream",
     "text": [
      "The number of postcode is:  15004\n"
     ]
    }
   ],
   "source": [
    "# get postcode for all property\n",
    "postcode=[]\n",
    "for i in range(len(unique_property_df)):\n",
    "    postcode.append(int(unique_property_df[\"address\"][i][-4:]))\n",
    "\n",
    "print(\"The number of postcode is: \", len(postcode))\n",
    "unique_property_df[\"postcode\"] = postcode"
   ]
  },
  {
   "cell_type": "code",
   "execution_count": 7,
   "id": "2d9145a7",
   "metadata": {},
   "outputs": [
    {
     "data": {
      "text/plain": [
       "(15004, 10)"
      ]
     },
     "execution_count": 7,
     "metadata": {},
     "output_type": "execute_result"
    }
   ],
   "source": [
    "unique_property_df.shape"
   ]
  },
  {
   "cell_type": "code",
   "execution_count": 10,
   "id": "fa6096f6",
   "metadata": {},
   "outputs": [
    {
     "data": {
      "text/plain": [
       "(14970, 10)"
      ]
     },
     "execution_count": 10,
     "metadata": {},
     "output_type": "execute_result"
    }
   ],
   "source": [
    "# drop the property with empty features\n",
    "clean_features = unique_property_df[unique_property_df[\"features\"] != \"\"].reset_index(drop=True)\n",
    "clean_features.shape"
   ]
  },
  {
   "cell_type": "code",
   "execution_count": 12,
   "id": "f1b124c2",
   "metadata": {},
   "outputs": [],
   "source": [
    "num_bed_list = []\n",
    "num_bath_list = []\n",
    "num_park_list = []\n",
    "\n",
    "# split the detail from the property features\n",
    "for i in clean_features[\"features\"]:\n",
    "\n",
    "    # find the number of bedroom, bathroom and parking area\n",
    "    num_bed = re.findall(r'(\\d|-|−)\\s?Bed', i)\n",
    "    num_bath = re.findall(r'(\\d|-|−)\\s?Bath', i)\n",
    "    num_park = re.findall(r'(\\d|-|−)\\s?Park', i)\n",
    "\n",
    "    # if no information, set the number to zero\n",
    "    if (len(num_bed) == 0) or (num_bed[0].isdigit() == False):\n",
    "        num_bed = [\"0\"]\n",
    "    if (len(num_bath) == 0) or (num_bath[0].isdigit() == False):\n",
    "        num_bath = [\"0\"]\n",
    "    if (len(num_park) == 0) or (num_park[0].isdigit() == False):\n",
    "        num_park = [\"0\"]\n",
    "    \n",
    "    # append them together\n",
    "    num_bed_list.append(int(num_bed[0]))\n",
    "    num_bath_list.append(int(num_bath[0]))\n",
    "    num_park_list.append(int(num_park[0]))\n",
    "\n",
    "# generate the new features of the property\n",
    "clean_features[\"num_bed\"] = num_bed_list\n",
    "clean_features[\"num_bath\"] = num_bath_list\n",
    "clean_features[\"num_park\"] = num_park_list"
   ]
  },
  {
   "cell_type": "code",
   "execution_count": 14,
   "id": "21d15233",
   "metadata": {},
   "outputs": [
    {
     "data": {
      "text/html": [
       "<div>\n",
       "<style scoped>\n",
       "    .dataframe tbody tr th:only-of-type {\n",
       "        vertical-align: middle;\n",
       "    }\n",
       "\n",
       "    .dataframe tbody tr th {\n",
       "        vertical-align: top;\n",
       "    }\n",
       "\n",
       "    .dataframe thead th {\n",
       "        text-align: right;\n",
       "    }\n",
       "</style>\n",
       "<table border=\"1\" class=\"dataframe\">\n",
       "  <thead>\n",
       "    <tr style=\"text-align: right;\">\n",
       "      <th></th>\n",
       "      <th>address</th>\n",
       "      <th>rent</th>\n",
       "      <th>features</th>\n",
       "      <th>type</th>\n",
       "      <th>furnitured</th>\n",
       "      <th>pool</th>\n",
       "      <th>gym</th>\n",
       "      <th>latitude</th>\n",
       "      <th>longitude</th>\n",
       "      <th>postcode</th>\n",
       "      <th>num_bed</th>\n",
       "      <th>num_bath</th>\n",
       "      <th>num_park</th>\n",
       "    </tr>\n",
       "  </thead>\n",
       "  <tbody>\n",
       "    <tr>\n",
       "      <th>0</th>\n",
       "      <td>1414/218-228 A'Beckett Street Melbourne VIC 3000</td>\n",
       "      <td>$400 Per Week</td>\n",
       "      <td>1 Bed1 Bath− Parking</td>\n",
       "      <td>Apartment / Unit / Flat</td>\n",
       "      <td>No</td>\n",
       "      <td>No</td>\n",
       "      <td>No</td>\n",
       "      <td>-37.810283</td>\n",
       "      <td>144.956669</td>\n",
       "      <td>3000</td>\n",
       "      <td>1</td>\n",
       "      <td>1</td>\n",
       "      <td>0</td>\n",
       "    </tr>\n",
       "    <tr>\n",
       "      <th>1</th>\n",
       "      <td>11a/131 Lonsdale Sreet Melbourne VIC 3000</td>\n",
       "      <td>$350 per week</td>\n",
       "      <td>1 Bed1 Bath− Parking</td>\n",
       "      <td>Studio</td>\n",
       "      <td>Yes</td>\n",
       "      <td>No</td>\n",
       "      <td>No</td>\n",
       "      <td>-37.810779</td>\n",
       "      <td>144.968551</td>\n",
       "      <td>3000</td>\n",
       "      <td>1</td>\n",
       "      <td>1</td>\n",
       "      <td>0</td>\n",
       "    </tr>\n",
       "    <tr>\n",
       "      <th>2</th>\n",
       "      <td>911/408 Lonsdale Street Melbourne VIC 3000</td>\n",
       "      <td>$330 per week</td>\n",
       "      <td>1 Bed1 Bath− Parking</td>\n",
       "      <td>Apartment / Unit / Flat</td>\n",
       "      <td>No</td>\n",
       "      <td>No</td>\n",
       "      <td>No</td>\n",
       "      <td>-37.812598</td>\n",
       "      <td>144.960401</td>\n",
       "      <td>3000</td>\n",
       "      <td>1</td>\n",
       "      <td>1</td>\n",
       "      <td>0</td>\n",
       "    </tr>\n",
       "    <tr>\n",
       "      <th>3</th>\n",
       "      <td>918/422 Collins St Melbourne VIC 3000</td>\n",
       "      <td>$600 Per week fully furnished</td>\n",
       "      <td>2 Beds1 Bath− Parking</td>\n",
       "      <td>Apartment / Unit / Flat</td>\n",
       "      <td>No</td>\n",
       "      <td>No</td>\n",
       "      <td>No</td>\n",
       "      <td>-37.817097</td>\n",
       "      <td>144.960149</td>\n",
       "      <td>3000</td>\n",
       "      <td>2</td>\n",
       "      <td>1</td>\n",
       "      <td>0</td>\n",
       "    </tr>\n",
       "    <tr>\n",
       "      <th>4</th>\n",
       "      <td>602/118 Franklin Street Melbourne VIC 3000</td>\n",
       "      <td>$330</td>\n",
       "      <td>1 Bed1 Bath− Parking</td>\n",
       "      <td>Apartment / Unit / Flat</td>\n",
       "      <td>No</td>\n",
       "      <td>No</td>\n",
       "      <td>No</td>\n",
       "      <td>-37.808205</td>\n",
       "      <td>144.958903</td>\n",
       "      <td>3000</td>\n",
       "      <td>1</td>\n",
       "      <td>1</td>\n",
       "      <td>0</td>\n",
       "    </tr>\n",
       "  </tbody>\n",
       "</table>\n",
       "</div>"
      ],
      "text/plain": [
       "                                            address  \\\n",
       "0  1414/218-228 A'Beckett Street Melbourne VIC 3000   \n",
       "1         11a/131 Lonsdale Sreet Melbourne VIC 3000   \n",
       "2        911/408 Lonsdale Street Melbourne VIC 3000   \n",
       "3             918/422 Collins St Melbourne VIC 3000   \n",
       "4        602/118 Franklin Street Melbourne VIC 3000   \n",
       "\n",
       "                            rent               features  \\\n",
       "0                  $400 Per Week   1 Bed1 Bath− Parking   \n",
       "1                  $350 per week   1 Bed1 Bath− Parking   \n",
       "2                  $330 per week   1 Bed1 Bath− Parking   \n",
       "3  $600 Per week fully furnished  2 Beds1 Bath− Parking   \n",
       "4                           $330   1 Bed1 Bath− Parking   \n",
       "\n",
       "                      type furnitured pool gym   latitude   longitude  \\\n",
       "0  Apartment / Unit / Flat         No   No  No -37.810283  144.956669   \n",
       "1                   Studio        Yes   No  No -37.810779  144.968551   \n",
       "2  Apartment / Unit / Flat         No   No  No -37.812598  144.960401   \n",
       "3  Apartment / Unit / Flat         No   No  No -37.817097  144.960149   \n",
       "4  Apartment / Unit / Flat         No   No  No -37.808205  144.958903   \n",
       "\n",
       "   postcode  num_bed  num_bath  num_park  \n",
       "0      3000        1         1         0  \n",
       "1      3000        1         1         0  \n",
       "2      3000        1         1         0  \n",
       "3      3000        2         1         0  \n",
       "4      3000        1         1         0  "
      ]
     },
     "execution_count": 14,
     "metadata": {},
     "output_type": "execute_result"
    }
   ],
   "source": [
    "# drop the property with no bedroom\n",
    "clean_features = clean_features[clean_features[\"num_bed\"] != 0].reset_index(drop=True)\n",
    "clean_features.head()"
   ]
  },
  {
   "cell_type": "code",
   "execution_count": 15,
   "id": "31ff9429",
   "metadata": {},
   "outputs": [
    {
     "data": {
      "text/plain": [
       "(14819, 13)"
      ]
     },
     "execution_count": 15,
     "metadata": {},
     "output_type": "execute_result"
    }
   ],
   "source": [
    "clean_features.shape"
   ]
  },
  {
   "cell_type": "code",
   "execution_count": 16,
   "id": "373bf0a9",
   "metadata": {},
   "outputs": [],
   "source": [
    "# save the cleaned property data with new features\n",
    "clean_features.to_csv(\"../data/curated/cleaned_property_with_features.csv\", index = None)"
   ]
  }
 ],
 "metadata": {
  "kernelspec": {
   "display_name": "Python 3.9.7 64-bit",
   "language": "python",
   "name": "python3"
  },
  "language_info": {
   "codemirror_mode": {
    "name": "ipython",
    "version": 3
   },
   "file_extension": ".py",
   "mimetype": "text/x-python",
   "name": "python",
   "nbconvert_exporter": "python",
   "pygments_lexer": "ipython3",
   "version": "3.9.7"
  },
  "vscode": {
   "interpreter": {
    "hash": "67f1dc6f6f712f7142079021955b91e049abb319dcfdc9eed010dd73dd4d845d"
   }
  }
 },
 "nbformat": 4,
 "nbformat_minor": 5
}
