{
 "cells": [
  {
   "cell_type": "code",
   "execution_count": 1,
   "metadata": {},
   "outputs": [],
   "source": [
    "# built-in imports\n",
    "import re\n",
    "import pandas as pd\n",
    "import json\n",
    "import numpy as np"
   ]
  },
  {
   "cell_type": "code",
   "execution_count": 2,
   "metadata": {},
   "outputs": [],
   "source": [
    "# read in the csv file\n",
    "path = \"../data/curated/cleaned_property_with_features.csv\"\n",
    "property_data = pd.read_csv(path)"
   ]
  },
  {
   "cell_type": "code",
   "execution_count": 3,
   "metadata": {},
   "outputs": [
    {
     "data": {
      "text/plain": [
       "(14819, 13)"
      ]
     },
     "execution_count": 3,
     "metadata": {},
     "output_type": "execute_result"
    }
   ],
   "source": [
    "property_data.shape"
   ]
  },
  {
   "cell_type": "code",
   "execution_count": 4,
   "metadata": {},
   "outputs": [],
   "source": [
    "# merge SA2 code and postcode\n",
    "# df_postcode = pd.read_csv('australian_postcodes.csv')\n",
    "# vic_postcode = df_postcode[df_postcode['state'] == 'VIC']\n",
    "# vic_postcode = vic_postcode.loc[:, ['postcode', 'SA2_MAINCODE_2016', 'SA2_NAME_2016']].reset_index(drop=True)\n",
    "# result = pd.merge(unique_property_df, vic_postcode, how='outer', sort=True, on='postcode')\n",
    "# result.head()"
   ]
  },
  {
   "cell_type": "code",
   "execution_count": 5,
   "metadata": {},
   "outputs": [],
   "source": [
    "# get the rent price data\n",
    "rent_df_new = pd.DataFrame()\n",
    "rent_df_new[\"rent\"] = property_data[\"rent\"]\n",
    "\n",
    "# clean the rent data to gain the weekly rent\n",
    "for i in range(len(rent_df_new[\"rent\"])):\n",
    "\n",
    "    # get the price\n",
    "    price = rent_df_new[\"rent\"][i].lower()\n",
    "    rent = re.findall(r\"[$](\\d+\\.?,?\\d*)\", price)\n",
    "\n",
    "    # find the annually rent\n",
    "    if (\"p.a.\" in price) or (\"annually\" in price) or (\"pa.\" in price):\n",
    "        rent_df_new[\"rent\"][i] = float(rent[0].replace(\",\", \"\"))/52\n",
    "\n",
    "    # find the fortnightly rent\n",
    "    elif \"fortnightly\" in price:\n",
    "        rent_df_new[\"rent\"][i] = float(rent[0].replace(\",\", \"\"))/2\n",
    "\n",
    "    # find the nightly rent\n",
    "    elif \"night\" in price:\n",
    "        if len(rent) == 0:\n",
    "            rent = re.findall(r\"(\\d+\\.?,?\\d*)\", price)\n",
    "        rent_df_new[\"rent\"][i] = float(rent[0].replace(\",\", \"\")) * 7\n",
    "\n",
    "    # find the monthly rent\n",
    "    elif (\"pcm\" in price) or (\"pm\" in price) or (\"month\" in price):\n",
    "\n",
    "        # check whether contain weekly rent\n",
    "        if re.findall(r\"(p([a-z]*|\\/*)\\s?w)\", price) != \"\":\n",
    "            if len(rent) == 0:\n",
    "                rent = re.findall(r\"(\\d+\\.?,?\\d*)\", price)\n",
    "            rent_df_new[\"rent\"][i] = float(rent[0].replace(\",\", \"\"))\n",
    "            \n",
    "        # if only contain monthly rent, calculate the weekly rent\n",
    "        else:\n",
    "            if len(rent) == 0:\n",
    "                rent = re.findall(r\"(\\d+\\.?,?\\d*)\", price)\n",
    "            rent = (float(rent[0].replace(\",\", \"\")) / 30) * 7\n",
    "            rent_df_new[\"rent\"][i] = rent\n",
    "        \n",
    "    # find the weekly rent\n",
    "    else:\n",
    "        if len(rent) == 0:\n",
    "            rent = re.findall(r\"(\\d+\\.?,?\\d*)\", price)\n",
    "\n",
    "            # set the rent without any price data as zero\n",
    "            if len(rent) == 0:\n",
    "                rent_df_new[\"rent\"][i] = 0\n",
    "            else:\n",
    "                rent_df_new[\"rent\"][i] = float(rent[0].replace(\",\", \"\"))\n",
    "\n",
    "        elif len(rent) == 2:\n",
    "            num1 = int(float(rent[0].replace(\",\", \"\")))\n",
    "            num2 = int(float(rent[1].replace(\",\", \"\")))\n",
    "\n",
    "            # check for normal weekly rent range\n",
    "            if len(str(num1)) != len(str(num2)):\n",
    "                # check whether the larger price is twice than the lower price, \n",
    "                # if yes, using lower price, if no, using the mean price\n",
    "                if num1 * 2 < num2:\n",
    "                    rent = num1\n",
    "                else:\n",
    "                    rent = (num1 + num2)/2\n",
    "            else:\n",
    "                rent = (num1 + num2)/2\n",
    "            rent_df_new[\"rent\"][i] = rent\n",
    "\n",
    "        else:\n",
    "            rent_df_new[\"rent\"][i] = float(rent[0].replace(\",\", \"\"))\n",
    "\n",
    "\n",
    "# save two decimal places\n",
    "# formater=\"{0:.02f}\".format\n",
    "# rent_df_new = rent_df_new.applymap(formater)\n",
    "\n",
    "# transfer the rent data type to integer\n",
    "rent_df_new = rent_df_new.astype(int)"
   ]
  },
  {
   "cell_type": "code",
   "execution_count": 6,
   "metadata": {},
   "outputs": [
    {
     "data": {
      "text/plain": [
       "(14819, 1)"
      ]
     },
     "execution_count": 6,
     "metadata": {},
     "output_type": "execute_result"
    }
   ],
   "source": [
    "rent_df_new.shape"
   ]
  },
  {
   "cell_type": "code",
   "execution_count": 7,
   "metadata": {},
   "outputs": [],
   "source": [
    "# add the processed rent data into the whole data set\n",
    "property_data[\"rent_weekly\"] = rent_df_new[\"rent\"]"
   ]
  },
  {
   "cell_type": "code",
   "execution_count": 8,
   "metadata": {},
   "outputs": [
    {
     "data": {
      "text/plain": [
       "(14819, 14)"
      ]
     },
     "execution_count": 8,
     "metadata": {},
     "output_type": "execute_result"
    }
   ],
   "source": [
    "property_data.shape"
   ]
  },
  {
   "cell_type": "code",
   "execution_count": 12,
   "metadata": {},
   "outputs": [],
   "source": [
    "# save the rent cleaned data\n",
    "property_data.to_csv(\"../data/curated/weekly_rent.csv\", index = None)"
   ]
  },
  {
   "cell_type": "code",
   "execution_count": 10,
   "metadata": {},
   "outputs": [],
   "source": [
    "drop_zero_rent = property_data[property_data[\"rent_weekly\"] != 0]"
   ]
  },
  {
   "cell_type": "code",
   "execution_count": 11,
   "metadata": {},
   "outputs": [
    {
     "data": {
      "text/plain": [
       "(14458, 14)"
      ]
     },
     "execution_count": 11,
     "metadata": {},
     "output_type": "execute_result"
    }
   ],
   "source": [
    "drop_zero_rent.shape"
   ]
  },
  {
   "cell_type": "code",
   "execution_count": 13,
   "metadata": {},
   "outputs": [],
   "source": [
    "drop_zero_rent.to_csv(\"../data/curated/cleaned_rent.csv\", index = None)"
   ]
  }
 ],
 "metadata": {
  "kernelspec": {
   "display_name": "Python 3.9.7 64-bit",
   "language": "python",
   "name": "python3"
  },
  "language_info": {
   "codemirror_mode": {
    "name": "ipython",
    "version": 3
   },
   "file_extension": ".py",
   "mimetype": "text/x-python",
   "name": "python",
   "nbconvert_exporter": "python",
   "pygments_lexer": "ipython3",
   "version": "3.9.7"
  },
  "orig_nbformat": 4,
  "vscode": {
   "interpreter": {
    "hash": "67f1dc6f6f712f7142079021955b91e049abb319dcfdc9eed010dd73dd4d845d"
   }
  }
 },
 "nbformat": 4,
 "nbformat_minor": 2
}
