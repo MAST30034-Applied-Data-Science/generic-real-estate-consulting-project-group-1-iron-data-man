{
 "cells": [
  {
   "cell_type": "code",
   "execution_count": 16,
   "id": "a3b99618",
   "metadata": {},
   "outputs": [],
   "source": [
    "import json\n",
    "import pandas as pd\n",
    "import numpy as np\n",
    "import re\n",
    "import json"
   ]
  },
  {
   "cell_type": "code",
   "execution_count": 17,
   "id": "c7d4dbb1",
   "metadata": {},
   "outputs": [],
   "source": [
    "# read in the original json file\n",
    "'''!!!!!!!!!!!!! Note the file position and file name !!!!!!!!!!!!!!'''\n",
    "path = \"postcode3000.json\"\n",
    "with open(path, \"r\") as f:\n",
    "    property_data = json.load(f)"
   ]
  },
  {
   "cell_type": "code",
   "execution_count": 18,
   "id": "023d5c40",
   "metadata": {},
   "outputs": [
    {
     "data": {
      "text/html": [
       "<div>\n",
       "<style scoped>\n",
       "    .dataframe tbody tr th:only-of-type {\n",
       "        vertical-align: middle;\n",
       "    }\n",
       "\n",
       "    .dataframe tbody tr th {\n",
       "        vertical-align: top;\n",
       "    }\n",
       "\n",
       "    .dataframe thead th {\n",
       "        text-align: right;\n",
       "    }\n",
       "</style>\n",
       "<table border=\"1\" class=\"dataframe\">\n",
       "  <thead>\n",
       "    <tr style=\"text-align: right;\">\n",
       "      <th></th>\n",
       "      <th>address</th>\n",
       "      <th>rent</th>\n",
       "      <th>features</th>\n",
       "      <th>type</th>\n",
       "      <th>furnitured</th>\n",
       "      <th>pool</th>\n",
       "      <th>gym</th>\n",
       "      <th>latitude</th>\n",
       "      <th>longitude</th>\n",
       "    </tr>\n",
       "  </thead>\n",
       "  <tbody>\n",
       "    <tr>\n",
       "      <th>0</th>\n",
       "      <td>2108/288 Spencer Street Melbourne VIC 3000</td>\n",
       "      <td>$350</td>\n",
       "      <td>1 Bed1 Bath− Parking</td>\n",
       "      <td>Apartment / Unit / Flat</td>\n",
       "      <td>Yes</td>\n",
       "      <td>Yes</td>\n",
       "      <td>No</td>\n",
       "      <td>-37.813775</td>\n",
       "      <td>144.952095</td>\n",
       "    </tr>\n",
       "    <tr>\n",
       "      <th>1</th>\n",
       "      <td>1505/250 Elizabeth Street Melbourne VIC 3000</td>\n",
       "      <td>$520.00 per week</td>\n",
       "      <td>2 Beds1 Bath− Parking</td>\n",
       "      <td>Apartment / Unit / Flat</td>\n",
       "      <td>No</td>\n",
       "      <td>No</td>\n",
       "      <td>No</td>\n",
       "      <td>-37.812564</td>\n",
       "      <td>144.962818</td>\n",
       "    </tr>\n",
       "    <tr>\n",
       "      <th>2</th>\n",
       "      <td>2413/220 Spencer Street Melbourne VIC 3000</td>\n",
       "      <td>$450 per week</td>\n",
       "      <td>2 Beds2 Baths1 Parking</td>\n",
       "      <td>Apartment / Unit / Flat</td>\n",
       "      <td>No</td>\n",
       "      <td>Yes</td>\n",
       "      <td>No</td>\n",
       "      <td>-37.815716</td>\n",
       "      <td>144.952956</td>\n",
       "    </tr>\n",
       "    <tr>\n",
       "      <th>3</th>\n",
       "      <td>2205/22-24 Jane Bell Lane Melbourne VIC 3000</td>\n",
       "      <td>$550</td>\n",
       "      <td>2 Beds1 Bath− Parking</td>\n",
       "      <td>Apartment / Unit / Flat</td>\n",
       "      <td>No</td>\n",
       "      <td>No</td>\n",
       "      <td>No</td>\n",
       "      <td>-37.810220</td>\n",
       "      <td>144.966265</td>\n",
       "    </tr>\n",
       "    <tr>\n",
       "      <th>4</th>\n",
       "      <td>G11/61 MacKenzie Street Melbourne VIC 3000</td>\n",
       "      <td>$550.00 per week</td>\n",
       "      <td>2 Beds1 Bath1 Parking</td>\n",
       "      <td>Apartment / Unit / Flat</td>\n",
       "      <td>Yes</td>\n",
       "      <td>No</td>\n",
       "      <td>No</td>\n",
       "      <td>-37.807871</td>\n",
       "      <td>144.966303</td>\n",
       "    </tr>\n",
       "  </tbody>\n",
       "</table>\n",
       "</div>"
      ],
      "text/plain": [
       "                                        address              rent  \\\n",
       "0    2108/288 Spencer Street Melbourne VIC 3000              $350   \n",
       "1  1505/250 Elizabeth Street Melbourne VIC 3000  $520.00 per week   \n",
       "2    2413/220 Spencer Street Melbourne VIC 3000     $450 per week   \n",
       "3  2205/22-24 Jane Bell Lane Melbourne VIC 3000              $550   \n",
       "4    G11/61 MacKenzie Street Melbourne VIC 3000  $550.00 per week   \n",
       "\n",
       "                 features                     type furnitured pool gym  \\\n",
       "0    1 Bed1 Bath− Parking  Apartment / Unit / Flat        Yes  Yes  No   \n",
       "1   2 Beds1 Bath− Parking  Apartment / Unit / Flat         No   No  No   \n",
       "2  2 Beds2 Baths1 Parking  Apartment / Unit / Flat         No  Yes  No   \n",
       "3   2 Beds1 Bath− Parking  Apartment / Unit / Flat         No   No  No   \n",
       "4   2 Beds1 Bath1 Parking  Apartment / Unit / Flat        Yes   No  No   \n",
       "\n",
       "    latitude   longitude  \n",
       "0 -37.813775  144.952095  \n",
       "1 -37.812564  144.962818  \n",
       "2 -37.815716  144.952956  \n",
       "3 -37.810220  144.966265  \n",
       "4 -37.807871  144.966303  "
      ]
     },
     "execution_count": 18,
     "metadata": {},
     "output_type": "execute_result"
    }
   ],
   "source": [
    "property_df = pd.DataFrame()\n",
    "\n",
    "rent = []\n",
    "address =[]\n",
    "features = []\n",
    "type = []\n",
    "furnitured = [] \n",
    "pool = []\n",
    "gym = []\n",
    "latitude = []\n",
    "longitude = []\n",
    "\n",
    "\n",
    "for i in property_data:\n",
    "    address.append(property_data[i][\"name\"])\n",
    "    rent.append(property_data[i][\"cost_text\"])\n",
    "    features. append(property_data[i][\"features\"])\n",
    "    type.append(property_data[i][\"type\"])\n",
    "    furnitured.append(property_data[i][\"furnitured\"])\n",
    "    pool.append(property_data[i][\"pool\"])\n",
    "    gym.append(property_data[i][\"gym\"])\n",
    "    latitude.append(property_data[i][\"coordinates\"][0])\n",
    "    longitude.append(property_data[i][\"coordinates\"][1])\n",
    "\n",
    "\n",
    "property_df[\"address\"] = address\n",
    "property_df[\"rent\"] = rent\n",
    "property_df[\"features\"] = features\n",
    "property_df[\"type\"] = type\n",
    "property_df[\"furnitured\"] = furnitured\n",
    "property_df[\"pool\"] = pool\n",
    "property_df[\"gym\"] = gym\n",
    "property_df[\"latitude\"] = latitude\n",
    "property_df[\"longitude\"] = longitude\n",
    "\n",
    "property_df.head()"
   ]
  },
  {
   "cell_type": "code",
   "execution_count": 19,
   "id": "e92f5bf2",
   "metadata": {},
   "outputs": [
    {
     "data": {
      "text/plain": [
       "(15459, 9)"
      ]
     },
     "execution_count": 19,
     "metadata": {},
     "output_type": "execute_result"
    }
   ],
   "source": [
    "property_df.shape"
   ]
  },
  {
   "cell_type": "code",
   "execution_count": 20,
   "id": "48352be5",
   "metadata": {},
   "outputs": [
    {
     "data": {
      "text/plain": [
       "(15345, 9)"
      ]
     },
     "execution_count": 20,
     "metadata": {},
     "output_type": "execute_result"
    }
   ],
   "source": [
    "unique_property_df = property_df.drop_duplicates(keep=\"first\").reset_index(drop = True)\n",
    "unique_property_df.shape"
   ]
  },
  {
   "cell_type": "code",
   "execution_count": 21,
   "id": "065e1c57",
   "metadata": {},
   "outputs": [
    {
     "name": "stdout",
     "output_type": "stream",
     "text": [
      "The number of postcode is:  15345\n"
     ]
    }
   ],
   "source": [
    "# get postcode for all property\n",
    "postcode=[]\n",
    "for i in range(len(unique_property_df)):\n",
    "    postcode.append(int(unique_property_df[\"address\"][i][-4:]))\n",
    "\n",
    "print(\"The number of postcode is: \", len(postcode))\n",
    "unique_property_df[\"postcode\"] = postcode"
   ]
  },
  {
   "cell_type": "code",
   "execution_count": 22,
   "id": "2d9145a7",
   "metadata": {},
   "outputs": [
    {
     "data": {
      "text/plain": [
       "(15345, 10)"
      ]
     },
     "execution_count": 22,
     "metadata": {},
     "output_type": "execute_result"
    }
   ],
   "source": [
    "unique_property_df.shape"
   ]
  },
  {
   "cell_type": "code",
   "execution_count": 23,
   "id": "fa6096f6",
   "metadata": {},
   "outputs": [
    {
     "data": {
      "text/plain": [
       "(15313, 10)"
      ]
     },
     "execution_count": 23,
     "metadata": {},
     "output_type": "execute_result"
    }
   ],
   "source": [
    "clean_features = unique_property_df[unique_property_df[\"features\"] != \"\"].reset_index(drop=True)\n",
    "clean_features.shape"
   ]
  },
  {
   "cell_type": "code",
   "execution_count": 24,
   "id": "99547f05",
   "metadata": {},
   "outputs": [],
   "source": [
    "f = clean_features[\"features\"]\n",
    "f.to_csv(\"fea.csv\")"
   ]
  },
  {
   "cell_type": "code",
   "execution_count": 25,
   "id": "6a7013cd",
   "metadata": {},
   "outputs": [
    {
     "data": {
      "text/plain": [
       "'3 Beds1 Bath1 Parking'"
      ]
     },
     "execution_count": 25,
     "metadata": {},
     "output_type": "execute_result"
    }
   ],
   "source": [
    "f[12256]"
   ]
  },
  {
   "cell_type": "code",
   "execution_count": 26,
   "id": "d9e417ae",
   "metadata": {},
   "outputs": [
    {
     "data": {
      "text/plain": [
       "False"
      ]
     },
     "execution_count": 26,
     "metadata": {},
     "output_type": "execute_result"
    }
   ],
   "source": [
    "(re.findall(r'(\\d|-|−)\\s?Park', \"- Beds1 Bath− Parking\"))[0].isdigit()"
   ]
  },
  {
   "cell_type": "code",
   "execution_count": 27,
   "id": "d9e417ae",
   "metadata": {},
   "outputs": [
    {
     "data": {
      "text/plain": [
       "['2']"
      ]
     },
     "execution_count": 27,
     "metadata": {},
     "output_type": "execute_result"
    }
   ],
   "source": [
    "(re.findall(r'(\\d|-|−)\\s?Bed', \"- 2 Beds1 Bath− Parking\"))"
   ]
  },
  {
   "cell_type": "code",
   "execution_count": 28,
   "id": "118a3728",
   "metadata": {},
   "outputs": [],
   "source": [
    "# \"- 2 Beds1 Bath− Parking\".extract(r'(\\d|-|−)\\s?Bed', expand = True)"
   ]
  },
  {
   "cell_type": "code",
   "execution_count": 29,
   "id": "f1b124c2",
   "metadata": {},
   "outputs": [],
   "source": [
    "clean_features = unique_property_df[unique_property_df[\"features\"] != \"\"].reset_index(drop=True)\n",
    "\n",
    "num_bed_list = []\n",
    "num_bath_list = []\n",
    "num_park_list = []\n",
    "\n",
    "for i in clean_features[\"features\"]:\n",
    "\n",
    "    # find the number of bedroom, bathroom and parking area\n",
    "    num_bed = re.findall(r'(\\d|-|−)\\s?Bed', i)\n",
    "    num_bath = re.findall(r'(\\d|-|−)\\s?Bath', i)\n",
    "    num_park = re.findall(r'(\\d|-|−)\\s?Park', i)\n",
    "\n",
    "    # if no information, set the number to zero\n",
    "    if (len(num_bed) == 0) or (num_bed[0].isdigit() == False):\n",
    "        num_bed = [\"0\"]\n",
    "    if (len(num_bath) == 0) or (num_bath[0].isdigit() == False):\n",
    "        num_bath = [\"0\"]\n",
    "    if (len(num_park) == 0) or (num_park[0].isdigit() == False):\n",
    "        num_park = [\"0\"]\n",
    "    \n",
    "    # append them together\n",
    "    num_bed_list.append(int(num_bed[0]))\n",
    "    num_bath_list.append(int(num_bath[0]))\n",
    "    num_park_list.append(int(num_park[0]))\n",
    "\n",
    "# generate the new features of the property\n",
    "clean_features[\"num_bed\"] = num_bed_list\n",
    "clean_features[\"num_bath\"] = num_bath_list\n",
    "clean_features[\"num_park\"] = num_park_list"
   ]
  },
  {
   "cell_type": "code",
   "execution_count": 30,
   "id": "f7d4a6a0",
   "metadata": {},
   "outputs": [
    {
     "data": {
      "text/html": [
       "<div>\n",
       "<style scoped>\n",
       "    .dataframe tbody tr th:only-of-type {\n",
       "        vertical-align: middle;\n",
       "    }\n",
       "\n",
       "    .dataframe tbody tr th {\n",
       "        vertical-align: top;\n",
       "    }\n",
       "\n",
       "    .dataframe thead th {\n",
       "        text-align: right;\n",
       "    }\n",
       "</style>\n",
       "<table border=\"1\" class=\"dataframe\">\n",
       "  <thead>\n",
       "    <tr style=\"text-align: right;\">\n",
       "      <th></th>\n",
       "      <th>address</th>\n",
       "      <th>rent</th>\n",
       "      <th>features</th>\n",
       "      <th>type</th>\n",
       "      <th>furnitured</th>\n",
       "      <th>pool</th>\n",
       "      <th>gym</th>\n",
       "      <th>latitude</th>\n",
       "      <th>longitude</th>\n",
       "      <th>postcode</th>\n",
       "      <th>num_bed</th>\n",
       "      <th>num_bath</th>\n",
       "      <th>num_park</th>\n",
       "    </tr>\n",
       "  </thead>\n",
       "  <tbody>\n",
       "    <tr>\n",
       "      <th>0</th>\n",
       "      <td>2108/288 Spencer Street Melbourne VIC 3000</td>\n",
       "      <td>$350</td>\n",
       "      <td>1 Bed1 Bath− Parking</td>\n",
       "      <td>Apartment / Unit / Flat</td>\n",
       "      <td>Yes</td>\n",
       "      <td>Yes</td>\n",
       "      <td>No</td>\n",
       "      <td>-37.813775</td>\n",
       "      <td>144.952095</td>\n",
       "      <td>3000</td>\n",
       "      <td>1</td>\n",
       "      <td>1</td>\n",
       "      <td>0</td>\n",
       "    </tr>\n",
       "    <tr>\n",
       "      <th>1</th>\n",
       "      <td>1505/250 Elizabeth Street Melbourne VIC 3000</td>\n",
       "      <td>$520.00 per week</td>\n",
       "      <td>2 Beds1 Bath− Parking</td>\n",
       "      <td>Apartment / Unit / Flat</td>\n",
       "      <td>No</td>\n",
       "      <td>No</td>\n",
       "      <td>No</td>\n",
       "      <td>-37.812564</td>\n",
       "      <td>144.962818</td>\n",
       "      <td>3000</td>\n",
       "      <td>2</td>\n",
       "      <td>1</td>\n",
       "      <td>0</td>\n",
       "    </tr>\n",
       "    <tr>\n",
       "      <th>2</th>\n",
       "      <td>2413/220 Spencer Street Melbourne VIC 3000</td>\n",
       "      <td>$450 per week</td>\n",
       "      <td>2 Beds2 Baths1 Parking</td>\n",
       "      <td>Apartment / Unit / Flat</td>\n",
       "      <td>No</td>\n",
       "      <td>Yes</td>\n",
       "      <td>No</td>\n",
       "      <td>-37.815716</td>\n",
       "      <td>144.952956</td>\n",
       "      <td>3000</td>\n",
       "      <td>2</td>\n",
       "      <td>2</td>\n",
       "      <td>1</td>\n",
       "    </tr>\n",
       "    <tr>\n",
       "      <th>3</th>\n",
       "      <td>2205/22-24 Jane Bell Lane Melbourne VIC 3000</td>\n",
       "      <td>$550</td>\n",
       "      <td>2 Beds1 Bath− Parking</td>\n",
       "      <td>Apartment / Unit / Flat</td>\n",
       "      <td>No</td>\n",
       "      <td>No</td>\n",
       "      <td>No</td>\n",
       "      <td>-37.810220</td>\n",
       "      <td>144.966265</td>\n",
       "      <td>3000</td>\n",
       "      <td>2</td>\n",
       "      <td>1</td>\n",
       "      <td>0</td>\n",
       "    </tr>\n",
       "    <tr>\n",
       "      <th>4</th>\n",
       "      <td>G11/61 MacKenzie Street Melbourne VIC 3000</td>\n",
       "      <td>$550.00 per week</td>\n",
       "      <td>2 Beds1 Bath1 Parking</td>\n",
       "      <td>Apartment / Unit / Flat</td>\n",
       "      <td>Yes</td>\n",
       "      <td>No</td>\n",
       "      <td>No</td>\n",
       "      <td>-37.807871</td>\n",
       "      <td>144.966303</td>\n",
       "      <td>3000</td>\n",
       "      <td>2</td>\n",
       "      <td>1</td>\n",
       "      <td>1</td>\n",
       "    </tr>\n",
       "  </tbody>\n",
       "</table>\n",
       "</div>"
      ],
      "text/plain": [
       "                                        address              rent  \\\n",
       "0    2108/288 Spencer Street Melbourne VIC 3000              $350   \n",
       "1  1505/250 Elizabeth Street Melbourne VIC 3000  $520.00 per week   \n",
       "2    2413/220 Spencer Street Melbourne VIC 3000     $450 per week   \n",
       "3  2205/22-24 Jane Bell Lane Melbourne VIC 3000              $550   \n",
       "4    G11/61 MacKenzie Street Melbourne VIC 3000  $550.00 per week   \n",
       "\n",
       "                 features                     type furnitured pool gym  \\\n",
       "0    1 Bed1 Bath− Parking  Apartment / Unit / Flat        Yes  Yes  No   \n",
       "1   2 Beds1 Bath− Parking  Apartment / Unit / Flat         No   No  No   \n",
       "2  2 Beds2 Baths1 Parking  Apartment / Unit / Flat         No  Yes  No   \n",
       "3   2 Beds1 Bath− Parking  Apartment / Unit / Flat         No   No  No   \n",
       "4   2 Beds1 Bath1 Parking  Apartment / Unit / Flat        Yes   No  No   \n",
       "\n",
       "    latitude   longitude  postcode  num_bed  num_bath  num_park  \n",
       "0 -37.813775  144.952095      3000        1         1         0  \n",
       "1 -37.812564  144.962818      3000        2         1         0  \n",
       "2 -37.815716  144.952956      3000        2         2         1  \n",
       "3 -37.810220  144.966265      3000        2         1         0  \n",
       "4 -37.807871  144.966303      3000        2         1         1  "
      ]
     },
     "execution_count": 30,
     "metadata": {},
     "output_type": "execute_result"
    }
   ],
   "source": [
    "clean_features.head()"
   ]
  }
 ],
 "metadata": {
  "kernelspec": {
   "display_name": "Python 3.9.6 64-bit",
   "language": "python",
   "name": "python3"
  },
  "language_info": {
   "codemirror_mode": {
    "name": "ipython",
    "version": 3
   },
   "file_extension": ".py",
   "mimetype": "text/x-python",
   "name": "python",
   "nbconvert_exporter": "python",
   "pygments_lexer": "ipython3",
   "version": "3.9.6"
  },
  "vscode": {
   "interpreter": {
    "hash": "aee8b7b246df8f9039afb4144a1f6fd8d2ca17a180786b69acc140d282b71a49"
   }
  }
 },
 "nbformat": 4,
 "nbformat_minor": 5
}
