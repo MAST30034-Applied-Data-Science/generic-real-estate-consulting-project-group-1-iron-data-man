{
 "cells": [
  {
   "cell_type": "code",
   "execution_count": null,
   "id": "ea194bf9",
   "metadata": {},
   "outputs": [],
   "source": [
    "#imports packages\n",
    "import os\n",
    "import zipfile\n",
    "from urllib.request import urlretrieve\n",
    "import requests\n"
   ]
  },
  {
   "cell_type": "code",
   "execution_count": null,
   "id": "b764d3f2",
   "metadata": {},
   "outputs": [],
   "source": [
    "url = \"https://services6.arcgis.com/GB33F62SbDxJjwEL/ArcGIS/rest/services/Vicmap_Features_of_Interest/FeatureServer/8/query?where=UFI>0&objectIds=&time=&geometry=&geometryType=esriGeometryEnvelope&inSR=&spatialRel=esriSpatialRelIntersects&resultType=none&distance=0.0&units=esriSRUnit_Meter&relationParam=&returnGeodetic=false&outFields=&returnGeometry=true&featureEncoding=esriDefault&multipatchOption=xyFootprint&maxAllowableOffset=&geometryPrecision=&outSR=&defaultSR=&datumTransformation=&applyVCSProjection=false&returnIdsOnly=false&returnUniqueIdsOnly=false&returnCountOnly=false&returnExtentOnly=false&returnQueryGeometry=false&returnDistinctValues=false&cacheHint=false&orderByFields=&groupByFieldsForStatistics=&outStatistics=&having=&resultOffset=&resultRecordCount=&returnZ=false&returnM=false&returnExceededLimitFeatures=true&quantizationParameters=&sqlFormat=none&f=html&token=\"\n",
    "headers={\"User-Agent\": \"Mozilla/5.0 (Windows NT 10.0; WOW64) AppleWebKit/537.36 (KHTML, like Gecko) Chrome/51.0.2704.103 Safari/537.36\"}\n",
    "xx = requests.session()\n",
    "#xx.get(url).text\n",
    "para = {\"f\":\"json\", \"maxGeometryCount\": 10000, \"outFields\":[\"OBJECTID\",\"FEATURE\",\"UFI\"],\"resultType\":\"standard\"}\n",
    "xx.post(url,headers = headers,data=para).text"
   ]
  },
  {
   "cell_type": "code",
   "execution_count": null,
   "id": "583b8bbc",
   "metadata": {},
   "outputs": [],
   "source": [
    "# from the current folder go back two levels to the main directory and access data folder\n",
    "output_dir = '../data/'\n",
    "\n",
    "# check if the folder exists or not, if the data folder not exists, then create it\n",
    "if not os.path.exists(output_dir):\n",
    "    os.makedirs(output_dir)\n",
    "        \n",
    "# check if the subfolder exists or not, which is similar with last step\n",
    "for target_dir in ('curated', 'raw'): # folders should already exist\n",
    "    if not os.path.exists(output_dir + target_dir):\n",
    "        os.makedirs(output_dir + target_dir)"
   ]
  },
  {
   "cell_type": "code",
   "execution_count": null,
   "id": "b4502201",
   "metadata": {},
   "outputs": [],
   "source": [
    "#Download data in csv format\n",
    "\n",
    "# from the current folder go back two levels to the main directory and access data folder\n",
    "output_dir = '../data/raw/'\n",
    "\n",
    "# data download link\n",
    "URL_link= \"https://data.ny.gov/api/views/w4pv-hbkt/rows.csv?accessType=DOWNLOAD&sorting=true\"\n",
    "\n",
    "#download data\n",
    "print(\"Start Downloading data\")  \n",
    "# generate output location and filename\n",
    "output_dir = f\"{output_dir}/vehicle.csv\"\n",
    "# download\n",
    "urlretrieve(URL_link, output_dir) \n",
    "print(\"Completed data Downloading\")"
   ]
  },
  {
   "cell_type": "code",
   "execution_count": null,
   "id": "59bb31db",
   "metadata": {},
   "outputs": [],
   "source": []
  },
  {
   "cell_type": "code",
   "execution_count": null,
   "id": "a0770eff",
   "metadata": {},
   "outputs": [],
   "source": []
  },
  {
   "cell_type": "code",
   "execution_count": null,
   "id": "94287513",
   "metadata": {},
   "outputs": [],
   "source": []
  }
 ],
 "metadata": {
  "kernelspec": {
   "display_name": "Python 3 (ipykernel)",
   "language": "python",
   "name": "python3"
  },
  "language_info": {
   "codemirror_mode": {
    "name": "ipython",
    "version": 3
   },
   "file_extension": ".py",
   "mimetype": "text/x-python",
   "name": "python",
   "nbconvert_exporter": "python",
   "pygments_lexer": "ipython3",
   "version": "3.8.10"
  },
  "vscode": {
   "interpreter": {
    "hash": "40d3a090f54c6569ab1632332b64b2c03c39dcf918b08424e98f38b5ae0af88f"
   }
  }
 },
 "nbformat": 4,
 "nbformat_minor": 5
}
