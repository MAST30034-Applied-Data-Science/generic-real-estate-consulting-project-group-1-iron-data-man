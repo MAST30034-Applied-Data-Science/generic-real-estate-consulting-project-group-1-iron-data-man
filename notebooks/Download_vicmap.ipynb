{
 "cells": [
  {
   "cell_type": "code",
   "execution_count": 1,
   "id": "ea194bf9",
   "metadata": {},
   "outputs": [],
   "source": [
    "#imports packages\n",
    "import os\n",
    "import zipfile\n",
    "from urllib.request import urlretrieve\n",
    "import requests"
   ]
  },
  {
   "cell_type": "code",
   "execution_count": 2,
   "id": "583b8bbc",
   "metadata": {},
   "outputs": [],
   "source": [
    "# from the current folder go back two levels to the main directory and access data folder\n",
    "output_dir = '../data/'\n",
    "\n",
    "# check if the folder exists or not, if the data folder not exists, then create it\n",
    "if not os.path.exists(output_dir):\n",
    "    os.makedirs(output_dir)\n",
    "        \n",
    "# check if the subfolder exists or not, which is similar with last step\n",
    "for target_dir in ('curated', 'raw'): # folders should already exist\n",
    "    if not os.path.exists(output_dir + target_dir):\n",
    "        os.makedirs(output_dir + target_dir)"
   ]
  },
  {
   "cell_type": "code",
   "execution_count": null,
   "id": "b4502201",
   "metadata": {},
   "outputs": [],
   "source": [
    "url = \"https://services6.arcgis.com/GB33F62SbDxJjwEL/ArcGIS/rest/services/Vicmap_Features_of_Interest/FeatureServer/8/query?where=UFI>0&objectIds=&time=&geometry=&geometryType=esriGeometryEnvelope&inSR=&spatialRel=esriSpatialRelIntersects&resultType=none&distance=0.0&units=esriSRUnit_Meter&relationParam=&returnGeodetic=false&outFields=&returnGeometry=true&featureEncoding=esriDefault&multipatchOption=xyFootprint&maxAllowableOffset=&geometryPrecision=&outSR=&defaultSR=&datumTransformation=&applyVCSProjection=false&returnIdsOnly=false&returnUniqueIdsOnly=false&returnCountOnly=false&returnExtentOnly=false&returnQueryGeometry=false&returnDistinctValues=false&cacheHint=false&orderByFields=&groupByFieldsForStatistics=&outStatistics=&having=&resultOffset=&resultRecordCount=&returnZ=false&returnM=false&returnExceededLimitFeatures=true&quantizationParameters=&sqlFormat=none&f=html&token=\"\n",
    "headers={\"User-Agent\": \"Mozilla/5.0 (Windows NT 10.0; WOW64) AppleWebKit/537.36 (KHTML, like Gecko) Chrome/51.0.2704.103 Safari/537.36\"}\n",
    "xx = requests.session()\n",
    "#xx.get(url).text\n",
    "para = {\"f\":\"json\", \"maxGeometryCount\": 10000, \"outFields\":[\"OBJECTID\",\"FEATURE\",\"UFI\"],\"resultType\":\"standard\"}\n",
    "xx.post(url,headers = headers,data=para).text\n",
    "\n",
    "# data download link\n",
    "URL_link= \"https://data.ny.gov/api/views/w4pv-hbkt/rows.csv?accessType=DOWNLOAD&sorting=true\"\n",
    "\n",
    "#download data\n",
    "print(\"Start Downloading data\")  \n",
    "# generate output location and filename\n",
    "output_dir = f\"{output_dir}/vehicle.csv\"\n",
    "# download\n",
    "urlretrieve(URL_link, output_dir) \n",
    "print(\"Completed data Downloading\")"
   ]
  },
  {
   "cell_type": "code",
   "execution_count": 5,
   "id": "59bb31db",
   "metadata": {},
   "outputs": [
    {
     "name": "stdout",
     "output_type": "stream",
     "text": [
      "Ambulance_Response_Time_Performance,https://www.ambulance.vic.gov.au/wp-content/uploads/2019/11/LGA-Response-Time-Performance-FY-2019.csv\n",
      "\n",
      "Gaming_Expenditure,https://www.vgccc.vic.gov.au/sites/default/files/current_monthly_lga_data_release_13.xls\n",
      "\n",
      "Population_density_gaming_expenditures,https://www.vcglr.vic.gov.au/sites/default/files/yearly_density_statistical_release_2020-21.xls\n",
      "\n",
      "Government_Organisations,https://discover.data.vic.gov.au/dataset/04e1c700-6f4d-4157-81a1-372d6d825aed/resource/ed17d276-8724-4de7-a86d-cf542d3443a2/download/20210706-vgs-units.xlsx\n",
      "\n",
      "Sport_Recreational_Facilities_list,https://discover.data.vic.gov.au/dataset/e6db797e-3801-4cfa-bf02-82350d0f722d/resource/bfff5fff-9c74-4671-8396-43f793613b70/download/srv_ifmd_all-facilities.xlsx\n",
      "\n",
      "Crime_Statistics,https://www.crimestatistics.vic.gov.au/sites/default/files/embridge_cache/emshare/original/public/2020/04/80/a5424484b/locationtypeclassification.xlsx\n",
      "\n",
      "cemetery,https://docs.google.com/spreadsheets/d/1WgQEQyAFylkTrtcDx88eeUg7sMbyt972ClVbWhh1O3Y/export?format=csv&id=1WgQEQyAFylkTrtcDx88eeUg7sMbyt972ClVbWhh1O3Y&gid=1084288985\n",
      "\n",
      "COVID_testing_site,https://pausedatahealth01.blob.core.windows.net/testsitemaster/testingsitedata/TestSitesData.csv\n",
      "\n",
      "MFB_Locations,http://web.data.dsdbi.links.com.au/iar/dataset/46c9d698-1f8b-428a-82d7-a0311d64cb36/resource/6b61b7a3-5eef-4785-acec-c375c742e17a/download/.filesmfblocations.csv\n",
      "\n",
      "school_2022,https://www.education.vic.gov.au/Documents/about/research/datavic/dv331_schoollocations2022.csv\n",
      "\n",
      "school_2021,https://www.education.vic.gov.au/Documents/about/research/datavic/dv309_schoollocations2021.csv\n",
      "\n",
      "school_2020,https://www.education.vic.gov.au/Documents/about/research/datavic/dv296-schoollocations2020.csv\n",
      "\n",
      "Government_School_Zones_2023,https://www.education.vic.gov.au/Documents/about/research/datavic/dv330-schoolzones2023.zip\n",
      "\n",
      "Government_School_Zones_2022,https://www.education.vic.gov.au/Documents/about/research/datavic/dv311-schoolzones2022.zip\n",
      "\n",
      "Rental_Report_Quarterly,https://www.dffh.vic.gov.au/tables-rental-report-september-quarter-2021-excel\n",
      "\n",
      "Rental_Report_Quarterly_Median_2021,https://www.dffh.vic.gov.au/moving-annual-rents-suburb-june-quarter-2021-excel\n",
      "\n",
      "Rental_Report_Quarterly_Median_2020,https://www.dhhs.vic.gov.au/sites/default/files/documents/202011/Quarterly%20median%20rents%20by%20local%20government%20area%20September%20quarter%202020.xlsx\n",
      "\n",
      "Affordable_Lettings_2021,https://www.dffh.vic.gov.au/affordable-lettings-local-government-area-september-quarter-2021-excel\n",
      "\n",
      "Affordable_Lettings_2020,https://www.dhhs.vic.gov.au/sites/default/files/documents/202011/Affordable%20lettings%20by%20local%20government%20area%20September%20quarter%202020.xlsx\n",
      "\n",
      "Median_Suburb_Time,https://www.land.vic.gov.au/__data/assets/excel_doc/0026/531854/Suburb_Housev4_14May2021.xls\n",
      "\n",
      "Median_Suburb_Quarterly_2021,https://www.land.vic.gov.au/__data/assets/excel_doc/0037/578278/PSV_SUBURB_HOUSE_-Dec-Quarter-2021.xlsx\n",
      "\n",
      "Median_Suburb_Quarterly_2020,https://www.land.vic.gov.au/__data/assets/excel_doc/0020/515036/House_Medians3rdQtr2020.xls\n"
     ]
    }
   ],
   "source": [
    "#Download data in csv format\n",
    "\n",
    "# from the current folder go back two levels to the main directory and access data folder\n",
    "output_dir = '../data/raw/'\n",
    "\n",
    "#read txt file which records data from vic open data\n",
    "txt = open(\"../data/raw/datalink.txt\")\n",
    "line = txt.readline().strip()\n",
    "while line:\n",
    "    print(line)\n",
    "    line = txt.readline()\n",
    "txt.close()\n",
    " "
   ]
  },
  {
   "cell_type": "code",
   "execution_count": null,
   "id": "a0770eff",
   "metadata": {},
   "outputs": [],
   "source": []
  },
  {
   "cell_type": "code",
   "execution_count": null,
   "id": "94287513",
   "metadata": {},
   "outputs": [],
   "source": []
  }
 ],
 "metadata": {
  "kernelspec": {
   "display_name": "Python 3 (ipykernel)",
   "language": "python",
   "name": "python3"
  },
  "language_info": {
   "codemirror_mode": {
    "name": "ipython",
    "version": 3
   },
   "file_extension": ".py",
   "mimetype": "text/x-python",
   "name": "python",
   "nbconvert_exporter": "python",
   "pygments_lexer": "ipython3",
   "version": "3.8.10"
  },
  "vscode": {
   "interpreter": {
    "hash": "40d3a090f54c6569ab1632332b64b2c03c39dcf918b08424e98f38b5ae0af88f"
   }
  }
 },
 "nbformat": 4,
 "nbformat_minor": 5
}
